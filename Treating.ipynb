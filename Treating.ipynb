{
 "cells": [
  {
   "cell_type": "code",
   "execution_count": 2,
   "id": "22e48e27-649c-45b2-82b5-e7f789fa133a",
   "metadata": {
    "tags": []
   },
   "outputs": [
    {
     "data": {
      "text/html": [
       "<div>\n",
       "<style scoped>\n",
       "    .dataframe tbody tr th:only-of-type {\n",
       "        vertical-align: middle;\n",
       "    }\n",
       "\n",
       "    .dataframe tbody tr th {\n",
       "        vertical-align: top;\n",
       "    }\n",
       "\n",
       "    .dataframe thead th {\n",
       "        text-align: right;\n",
       "    }\n",
       "</style>\n",
       "<table border=\"1\" class=\"dataframe\">\n",
       "  <thead>\n",
       "    <tr style=\"text-align: right;\">\n",
       "      <th></th>\n",
       "      <th>Unnamed: 0</th>\n",
       "      <th>CaseOrder</th>\n",
       "      <th>Customer_id</th>\n",
       "      <th>Interaction</th>\n",
       "      <th>City</th>\n",
       "      <th>State</th>\n",
       "      <th>County</th>\n",
       "      <th>Zip</th>\n",
       "      <th>Lat</th>\n",
       "      <th>Lng</th>\n",
       "      <th>...</th>\n",
       "      <th>MonthlyCharge</th>\n",
       "      <th>Bandwidth_GB_Year</th>\n",
       "      <th>item1</th>\n",
       "      <th>item2</th>\n",
       "      <th>item3</th>\n",
       "      <th>item4</th>\n",
       "      <th>item5</th>\n",
       "      <th>item6</th>\n",
       "      <th>item7</th>\n",
       "      <th>item8</th>\n",
       "    </tr>\n",
       "  </thead>\n",
       "  <tbody>\n",
       "    <tr>\n",
       "      <th>0</th>\n",
       "      <td>1</td>\n",
       "      <td>1</td>\n",
       "      <td>K409198</td>\n",
       "      <td>aa90260b-4141-4a24-8e36-b04ce1f4f77b</td>\n",
       "      <td>Point Baker</td>\n",
       "      <td>AK</td>\n",
       "      <td>Prince of Wales-Hyder</td>\n",
       "      <td>99927</td>\n",
       "      <td>56.25100</td>\n",
       "      <td>-133.37571</td>\n",
       "      <td>...</td>\n",
       "      <td>171.449762</td>\n",
       "      <td>904.536110</td>\n",
       "      <td>5</td>\n",
       "      <td>5</td>\n",
       "      <td>5</td>\n",
       "      <td>3</td>\n",
       "      <td>4</td>\n",
       "      <td>4</td>\n",
       "      <td>3</td>\n",
       "      <td>4</td>\n",
       "    </tr>\n",
       "    <tr>\n",
       "      <th>1</th>\n",
       "      <td>2</td>\n",
       "      <td>2</td>\n",
       "      <td>S120509</td>\n",
       "      <td>fb76459f-c047-4a9d-8af9-e0f7d4ac2524</td>\n",
       "      <td>West Branch</td>\n",
       "      <td>MI</td>\n",
       "      <td>Ogemaw</td>\n",
       "      <td>48661</td>\n",
       "      <td>44.32893</td>\n",
       "      <td>-84.24080</td>\n",
       "      <td>...</td>\n",
       "      <td>242.948015</td>\n",
       "      <td>800.982766</td>\n",
       "      <td>3</td>\n",
       "      <td>4</td>\n",
       "      <td>3</td>\n",
       "      <td>3</td>\n",
       "      <td>4</td>\n",
       "      <td>3</td>\n",
       "      <td>4</td>\n",
       "      <td>4</td>\n",
       "    </tr>\n",
       "    <tr>\n",
       "      <th>2</th>\n",
       "      <td>3</td>\n",
       "      <td>3</td>\n",
       "      <td>K191035</td>\n",
       "      <td>344d114c-3736-4be5-98f7-c72c281e2d35</td>\n",
       "      <td>Yamhill</td>\n",
       "      <td>OR</td>\n",
       "      <td>Yamhill</td>\n",
       "      <td>97148</td>\n",
       "      <td>45.35589</td>\n",
       "      <td>-123.24657</td>\n",
       "      <td>...</td>\n",
       "      <td>159.440398</td>\n",
       "      <td>2054.706961</td>\n",
       "      <td>4</td>\n",
       "      <td>4</td>\n",
       "      <td>2</td>\n",
       "      <td>4</td>\n",
       "      <td>4</td>\n",
       "      <td>3</td>\n",
       "      <td>3</td>\n",
       "      <td>3</td>\n",
       "    </tr>\n",
       "    <tr>\n",
       "      <th>3</th>\n",
       "      <td>4</td>\n",
       "      <td>4</td>\n",
       "      <td>D90850</td>\n",
       "      <td>abfa2b40-2d43-4994-b15a-989b8c79e311</td>\n",
       "      <td>Del Mar</td>\n",
       "      <td>CA</td>\n",
       "      <td>San Diego</td>\n",
       "      <td>92014</td>\n",
       "      <td>32.96687</td>\n",
       "      <td>-117.24798</td>\n",
       "      <td>...</td>\n",
       "      <td>120.249493</td>\n",
       "      <td>2164.579412</td>\n",
       "      <td>4</td>\n",
       "      <td>4</td>\n",
       "      <td>4</td>\n",
       "      <td>2</td>\n",
       "      <td>5</td>\n",
       "      <td>4</td>\n",
       "      <td>3</td>\n",
       "      <td>3</td>\n",
       "    </tr>\n",
       "    <tr>\n",
       "      <th>4</th>\n",
       "      <td>5</td>\n",
       "      <td>5</td>\n",
       "      <td>K662701</td>\n",
       "      <td>68a861fd-0d20-4e51-a587-8a90407ee574</td>\n",
       "      <td>Needville</td>\n",
       "      <td>TX</td>\n",
       "      <td>Fort Bend</td>\n",
       "      <td>77461</td>\n",
       "      <td>29.38012</td>\n",
       "      <td>-95.80673</td>\n",
       "      <td>...</td>\n",
       "      <td>150.761216</td>\n",
       "      <td>271.493436</td>\n",
       "      <td>4</td>\n",
       "      <td>4</td>\n",
       "      <td>4</td>\n",
       "      <td>3</td>\n",
       "      <td>4</td>\n",
       "      <td>4</td>\n",
       "      <td>4</td>\n",
       "      <td>5</td>\n",
       "    </tr>\n",
       "  </tbody>\n",
       "</table>\n",
       "<p>5 rows × 52 columns</p>\n",
       "</div>"
      ],
      "text/plain": [
       "   Unnamed: 0  CaseOrder Customer_id                           Interaction  \\\n",
       "0           1          1     K409198  aa90260b-4141-4a24-8e36-b04ce1f4f77b   \n",
       "1           2          2     S120509  fb76459f-c047-4a9d-8af9-e0f7d4ac2524   \n",
       "2           3          3     K191035  344d114c-3736-4be5-98f7-c72c281e2d35   \n",
       "3           4          4      D90850  abfa2b40-2d43-4994-b15a-989b8c79e311   \n",
       "4           5          5     K662701  68a861fd-0d20-4e51-a587-8a90407ee574   \n",
       "\n",
       "          City State                 County    Zip       Lat        Lng  ...  \\\n",
       "0  Point Baker    AK  Prince of Wales-Hyder  99927  56.25100 -133.37571  ...   \n",
       "1  West Branch    MI                 Ogemaw  48661  44.32893  -84.24080  ...   \n",
       "2      Yamhill    OR                Yamhill  97148  45.35589 -123.24657  ...   \n",
       "3      Del Mar    CA              San Diego  92014  32.96687 -117.24798  ...   \n",
       "4    Needville    TX              Fort Bend  77461  29.38012  -95.80673  ...   \n",
       "\n",
       "   MonthlyCharge Bandwidth_GB_Year item1 item2  item3  item4 item5 item6  \\\n",
       "0     171.449762        904.536110     5     5      5      3     4     4   \n",
       "1     242.948015        800.982766     3     4      3      3     4     3   \n",
       "2     159.440398       2054.706961     4     4      2      4     4     3   \n",
       "3     120.249493       2164.579412     4     4      4      2     5     4   \n",
       "4     150.761216        271.493436     4     4      4      3     4     4   \n",
       "\n",
       "   item7 item8  \n",
       "0      3     4  \n",
       "1      4     4  \n",
       "2      3     3  \n",
       "3      3     3  \n",
       "4      4     5  \n",
       "\n",
       "[5 rows x 52 columns]"
      ]
     },
     "execution_count": 2,
     "metadata": {},
     "output_type": "execute_result"
    }
   ],
   "source": [
    "import pandas as pd \n",
    "import numpy as np \n",
    "df = pd.read_csv('churn_raw_data.csv') \n",
    "df.head()"
   ]
  },
  {
   "cell_type": "code",
   "execution_count": 3,
   "id": "a90abf88-ad0b-4527-a871-6d7749d73f18",
   "metadata": {
    "tags": []
   },
   "outputs": [],
   "source": [
    "#Duplicates"
   ]
  },
  {
   "cell_type": "code",
   "execution_count": 4,
   "id": "2ebf15ac-871f-43e3-9d8a-47bc4b6e50d2",
   "metadata": {
    "tags": []
   },
   "outputs": [
    {
     "name": "stdout",
     "output_type": "stream",
     "text": [
      "False    10000\n",
      "Name: count, dtype: int64\n"
     ]
    }
   ],
   "source": [
    "df.duplicated()\n",
    "print(df.duplicated().value_counts())"
   ]
  },
  {
   "cell_type": "code",
   "execution_count": 5,
   "id": "226a49c5-0e7f-4b52-af25-5bb699b3d4a6",
   "metadata": {
    "tags": []
   },
   "outputs": [],
   "source": [
    "#Missing values detection and treatment"
   ]
  },
  {
   "cell_type": "code",
   "execution_count": 6,
   "id": "41f8fc3e-8999-4a29-bcf7-8a3c82ccd65c",
   "metadata": {
    "tags": []
   },
   "outputs": [
    {
     "data": {
      "text/plain": [
       "Unnamed: 0                 0\n",
       "CaseOrder                  0\n",
       "Customer_id                0\n",
       "Interaction                0\n",
       "City                       0\n",
       "State                      0\n",
       "County                     0\n",
       "Zip                        0\n",
       "Lat                        0\n",
       "Lng                        0\n",
       "Population                 0\n",
       "Area                       0\n",
       "Timezone                   0\n",
       "Job                        0\n",
       "Children                2495\n",
       "Age                     2475\n",
       "Education                  0\n",
       "Employment                 0\n",
       "Income                  2490\n",
       "Marital                    0\n",
       "Gender                     0\n",
       "Churn                      0\n",
       "Outage_sec_perweek         0\n",
       "Email                      0\n",
       "Contacts                   0\n",
       "Yearly_equip_failure       0\n",
       "Techie                  2477\n",
       "Contract                   0\n",
       "Port_modem                 0\n",
       "Tablet                     0\n",
       "InternetService         2129\n",
       "Phone                   1026\n",
       "Multiple                   0\n",
       "OnlineSecurity             0\n",
       "OnlineBackup               0\n",
       "DeviceProtection           0\n",
       "TechSupport              991\n",
       "StreamingTV                0\n",
       "StreamingMovies            0\n",
       "PaperlessBilling           0\n",
       "PaymentMethod              0\n",
       "Tenure                   931\n",
       "MonthlyCharge              0\n",
       "Bandwidth_GB_Year       1021\n",
       "item1                      0\n",
       "item2                      0\n",
       "item3                      0\n",
       "item4                      0\n",
       "item5                      0\n",
       "item6                      0\n",
       "item7                      0\n",
       "item8                      0\n",
       "dtype: int64"
      ]
     },
     "execution_count": 6,
     "metadata": {},
     "output_type": "execute_result"
    }
   ],
   "source": [
    "df.isnull().sum()"
   ]
  },
  {
   "cell_type": "code",
   "execution_count": 7,
   "id": "311e52a8-b34d-499e-bc7e-9468cf01d17a",
   "metadata": {
    "tags": []
   },
   "outputs": [],
   "source": [
    "import matplotlib.pyplot as plt"
   ]
  },
  {
   "cell_type": "code",
   "execution_count": 8,
   "id": "ea19d1ab-7c84-4deb-8d63-2daed3c383a4",
   "metadata": {},
   "outputs": [],
   "source": [
    "#create histogram for Children"
   ]
  },
  {
   "cell_type": "code",
   "execution_count": 9,
   "id": "d348d7d4-1577-4073-a42f-483a27ae34c1",
   "metadata": {
    "tags": []
   },
   "outputs": [
    {
     "data": {
      "text/plain": [
       "(array([1919., 1874., 1100., 1096.,  769.,  161.,  135.,  149.,  158.,\n",
       "         144.]),\n",
       " array([ 0.,  1.,  2.,  3.,  4.,  5.,  6.,  7.,  8.,  9., 10.]),\n",
       " <BarContainer object of 10 artists>)"
      ]
     },
     "execution_count": 9,
     "metadata": {},
     "output_type": "execute_result"
    },
    {
     "data": {
      "image/png": "[encoded data removed]",
      "text/plain": [
       "<Figure size 640x480 with 1 Axes>"
      ]
     },
     "metadata": {},
     "output_type": "display_data"
    }
   ],
   "source": [
    " plt.hist(df[\"Children\"])"
   ]
  },
  {
   "cell_type": "code",
   "execution_count": 10,
   "id": "25757ebb-50e2-4730-9762-dfcf06c9e881",
   "metadata": {},
   "outputs": [],
   "source": [
    "#distribution for Children is skewed right, calls for median inputation"
   ]
  },
  {
   "cell_type": "code",
   "execution_count": 11,
   "id": "e7e8adcb-b0f7-4979-9128-f4bc65cebf1f",
   "metadata": {
    "tags": []
   },
   "outputs": [],
   "source": [
    "df[\"Children\"].fillna(df[\"Children\"].median(), inplace=True)"
   ]
  },
  {
   "cell_type": "code",
   "execution_count": 12,
   "id": "2f38aa0c-ae07-43a4-a322-e06eb3c8a562",
   "metadata": {},
   "outputs": [],
   "source": [
    "#Re-check for missing values"
   ]
  },
  {
   "cell_type": "code",
   "execution_count": 13,
   "id": "73567d43-f0b4-4c26-891f-bb1080e216fc",
   "metadata": {
    "tags": []
   },
   "outputs": [
    {
     "data": {
      "text/plain": [
       "Unnamed: 0                 0\n",
       "CaseOrder                  0\n",
       "Customer_id                0\n",
       "Interaction                0\n",
       "City                       0\n",
       "State                      0\n",
       "County                     0\n",
       "Zip                        0\n",
       "Lat                        0\n",
       "Lng                        0\n",
       "Population                 0\n",
       "Area                       0\n",
       "Timezone                   0\n",
       "Job                        0\n",
       "Children                   0\n",
       "Age                     2475\n",
       "Education                  0\n",
       "Employment                 0\n",
       "Income                  2490\n",
       "Marital                    0\n",
       "Gender                     0\n",
       "Churn                      0\n",
       "Outage_sec_perweek         0\n",
       "Email                      0\n",
       "Contacts                   0\n",
       "Yearly_equip_failure       0\n",
       "Techie                  2477\n",
       "Contract                   0\n",
       "Port_modem                 0\n",
       "Tablet                     0\n",
       "InternetService         2129\n",
       "Phone                   1026\n",
       "Multiple                   0\n",
       "OnlineSecurity             0\n",
       "OnlineBackup               0\n",
       "DeviceProtection           0\n",
       "TechSupport              991\n",
       "StreamingTV                0\n",
       "StreamingMovies            0\n",
       "PaperlessBilling           0\n",
       "PaymentMethod              0\n",
       "Tenure                   931\n",
       "MonthlyCharge              0\n",
       "Bandwidth_GB_Year       1021\n",
       "item1                      0\n",
       "item2                      0\n",
       "item3                      0\n",
       "item4                      0\n",
       "item5                      0\n",
       "item6                      0\n",
       "item7                      0\n",
       "item8                      0\n",
       "dtype: int64"
      ]
     },
     "execution_count": 13,
     "metadata": {},
     "output_type": "execute_result"
    }
   ],
   "source": [
    "df.isnull().sum()"
   ]
  },
  {
   "cell_type": "code",
   "execution_count": 14,
   "id": "ac23e7d0-c646-460e-975d-7e7b3235fdb0",
   "metadata": {},
   "outputs": [],
   "source": [
    "#verify distribution is in allignment with distribution prior to imputation"
   ]
  },
  {
   "cell_type": "code",
   "execution_count": 15,
   "id": "bb7b543a-4cf7-4e1e-82cc-77a54cdf97be",
   "metadata": {
    "tags": []
   },
   "outputs": [
    {
     "data": {
      "text/plain": [
       "(array([1919., 4369., 1100., 1096.,  769.,  161.,  135.,  149.,  158.,\n",
       "         144.]),\n",
       " array([ 0.,  1.,  2.,  3.,  4.,  5.,  6.,  7.,  8.,  9., 10.]),\n",
       " <BarContainer object of 10 artists>)"
      ]
     },
     "execution_count": 15,
     "metadata": {},
     "output_type": "execute_result"
    },
    {
     "data": {
      "image/png": "[encoded data removed]",
      "text/plain": [
       "<Figure size 640x480 with 1 Axes>"
      ]
     },
     "metadata": {},
     "output_type": "display_data"
    }
   ],
   "source": [
    " plt.hist(df[\"Children\"])"
   ]
  },
  {
   "cell_type": "code",
   "execution_count": 16,
   "id": "ab67afc7-46f2-400f-998d-091d5004d4c7",
   "metadata": {},
   "outputs": [],
   "source": [
    "#create histogram for Age"
   ]
  },
  {
   "cell_type": "code",
   "execution_count": 17,
   "id": "0d877e9a-0c28-41b7-9756-68ae65db1e25",
   "metadata": {
    "tags": []
   },
   "outputs": [
    {
     "data": {
      "text/plain": [
       "(array([853., 756., 714., 739., 708., 739., 728., 728., 761., 799.]),\n",
       " array([18. , 25.1, 32.2, 39.3, 46.4, 53.5, 60.6, 67.7, 74.8, 81.9, 89. ]),\n",
       " <BarContainer object of 10 artists>)"
      ]
     },
     "execution_count": 17,
     "metadata": {},
     "output_type": "execute_result"
    },
    {
     "data": {
      "image/png": "[encoded data removed]",
      "text/plain": [
       "<Figure size 640x480 with 1 Axes>"
      ]
     },
     "metadata": {},
     "output_type": "display_data"
    }
   ],
   "source": [
    " plt.hist(df[\"Age\"])"
   ]
  },
  {
   "cell_type": "code",
   "execution_count": 18,
   "id": "0f7dabfb-f76b-4199-8229-c933b2cf2245",
   "metadata": {},
   "outputs": [],
   "source": [
    "#distrubution is uniform, use mean imputation"
   ]
  },
  {
   "cell_type": "code",
   "execution_count": 19,
   "id": "4c6e6e6b-e1d2-4f7d-a0a8-70d71aada3d4",
   "metadata": {
    "tags": []
   },
   "outputs": [],
   "source": [
    "df[\"Age\"].fillna(df[\"Age\"].mean(), inplace=True)"
   ]
  },
  {
   "cell_type": "code",
   "execution_count": 20,
   "id": "10cac8c0-5b90-429b-9102-4296176df462",
   "metadata": {},
   "outputs": [],
   "source": [
    "#Check for null values in Age"
   ]
  },
  {
   "cell_type": "code",
   "execution_count": 21,
   "id": "4f8eaacd-eed6-4a6b-b42f-45ebec7ee31e",
   "metadata": {
    "tags": []
   },
   "outputs": [
    {
     "data": {
      "text/plain": [
       "Unnamed: 0                 0\n",
       "CaseOrder                  0\n",
       "Customer_id                0\n",
       "Interaction                0\n",
       "City                       0\n",
       "State                      0\n",
       "County                     0\n",
       "Zip                        0\n",
       "Lat                        0\n",
       "Lng                        0\n",
       "Population                 0\n",
       "Area                       0\n",
       "Timezone                   0\n",
       "Job                        0\n",
       "Children                   0\n",
       "Age                        0\n",
       "Education                  0\n",
       "Employment                 0\n",
       "Income                  2490\n",
       "Marital                    0\n",
       "Gender                     0\n",
       "Churn                      0\n",
       "Outage_sec_perweek         0\n",
       "Email                      0\n",
       "Contacts                   0\n",
       "Yearly_equip_failure       0\n",
       "Techie                  2477\n",
       "Contract                   0\n",
       "Port_modem                 0\n",
       "Tablet                     0\n",
       "InternetService         2129\n",
       "Phone                   1026\n",
       "Multiple                   0\n",
       "OnlineSecurity             0\n",
       "OnlineBackup               0\n",
       "DeviceProtection           0\n",
       "TechSupport              991\n",
       "StreamingTV                0\n",
       "StreamingMovies            0\n",
       "PaperlessBilling           0\n",
       "PaymentMethod              0\n",
       "Tenure                   931\n",
       "MonthlyCharge              0\n",
       "Bandwidth_GB_Year       1021\n",
       "item1                      0\n",
       "item2                      0\n",
       "item3                      0\n",
       "item4                      0\n",
       "item5                      0\n",
       "item6                      0\n",
       "item7                      0\n",
       "item8                      0\n",
       "dtype: int64"
      ]
     },
     "execution_count": 21,
     "metadata": {},
     "output_type": "execute_result"
    }
   ],
   "source": [
    "df.isnull().sum()"
   ]
  },
  {
   "cell_type": "code",
   "execution_count": 22,
   "id": "8d115efa-4de7-4dee-91a5-926fb4843b03",
   "metadata": {},
   "outputs": [],
   "source": [
    "#verify distrubition"
   ]
  },
  {
   "cell_type": "code",
   "execution_count": 23,
   "id": "3bfd2321-d7fb-4c09-9cfd-8e8fb0cf8eff",
   "metadata": {
    "tags": []
   },
   "outputs": [
    {
     "data": {
      "text/plain": [
       "(array([ 853.,  756.,  714.,  739., 3183.,  739.,  728.,  728.,  761.,\n",
       "         799.]),\n",
       " array([18. , 25.1, 32.2, 39.3, 46.4, 53.5, 60.6, 67.7, 74.8, 81.9, 89. ]),\n",
       " <BarContainer object of 10 artists>)"
      ]
     },
     "execution_count": 23,
     "metadata": {},
     "output_type": "execute_result"
    },
    {
     "data": {
      "image/png": "[encoded data removed]",
      "text/plain": [
       "<Figure size 640x480 with 1 Axes>"
      ]
     },
     "metadata": {},
     "output_type": "display_data"
    }
   ],
   "source": [
    " plt.hist(df[\"Age\"])"
   ]
  },
  {
   "cell_type": "code",
   "execution_count": 24,
   "id": "1c2e3472-aec2-4115-9b21-04a00e75a7cd",
   "metadata": {},
   "outputs": [],
   "source": [
    "#Check distribution for Income"
   ]
  },
  {
   "cell_type": "code",
   "execution_count": 25,
   "id": "8ce7e812-ad66-420a-886a-c150e21143b9",
   "metadata": {
    "tags": []
   },
   "outputs": [
    {
     "data": {
      "text/plain": [
       "(array([2.912e+03, 2.642e+03, 1.193e+03, 5.080e+02, 1.670e+02, 6.000e+01,\n",
       "        2.100e+01, 4.000e+00, 1.000e+00, 2.000e+00]),\n",
       " array([   740.66 ,  26556.664,  52372.668,  78188.672, 104004.676,\n",
       "        129820.68 , 155636.684, 181452.688, 207268.692, 233084.696,\n",
       "        258900.7  ]),\n",
       " <BarContainer object of 10 artists>)"
      ]
     },
     "execution_count": 25,
     "metadata": {},
     "output_type": "execute_result"
    },
    {
     "data": {
      "image/png": "[encoded data removed]",
      "text/plain": [
       "<Figure size 640x480 with 1 Axes>"
      ]
     },
     "metadata": {},
     "output_type": "display_data"
    }
   ],
   "source": [
    " plt.hist(df[\"Income\"])"
   ]
  },
  {
   "cell_type": "code",
   "execution_count": 26,
   "id": "3a6ba602-55ed-46d7-9782-379849e86b41",
   "metadata": {},
   "outputs": [],
   "source": [
    "#Apply median imputation"
   ]
  },
  {
   "cell_type": "code",
   "execution_count": 27,
   "id": "5e73499f-4445-4c1a-a669-f67439ede0f5",
   "metadata": {
    "tags": []
   },
   "outputs": [],
   "source": [
    "df[\"Income\"].fillna(df[\"Income\"].median(), inplace=True)"
   ]
  },
  {
   "cell_type": "code",
   "execution_count": 28,
   "id": "c38af47f-2d34-417e-8e11-1fbd6af7a7f9",
   "metadata": {},
   "outputs": [],
   "source": [
    "#Check for missing values "
   ]
  },
  {
   "cell_type": "code",
   "execution_count": 29,
   "id": "456546e8-5af9-4472-b240-6d2dc6f0cc3a",
   "metadata": {
    "tags": []
   },
   "outputs": [
    {
     "data": {
      "text/plain": [
       "Unnamed: 0                 0\n",
       "CaseOrder                  0\n",
       "Customer_id                0\n",
       "Interaction                0\n",
       "City                       0\n",
       "State                      0\n",
       "County                     0\n",
       "Zip                        0\n",
       "Lat                        0\n",
       "Lng                        0\n",
       "Population                 0\n",
       "Area                       0\n",
       "Timezone                   0\n",
       "Job                        0\n",
       "Children                   0\n",
       "Age                        0\n",
       "Education                  0\n",
       "Employment                 0\n",
       "Income                     0\n",
       "Marital                    0\n",
       "Gender                     0\n",
       "Churn                      0\n",
       "Outage_sec_perweek         0\n",
       "Email                      0\n",
       "Contacts                   0\n",
       "Yearly_equip_failure       0\n",
       "Techie                  2477\n",
       "Contract                   0\n",
       "Port_modem                 0\n",
       "Tablet                     0\n",
       "InternetService         2129\n",
       "Phone                   1026\n",
       "Multiple                   0\n",
       "OnlineSecurity             0\n",
       "OnlineBackup               0\n",
       "DeviceProtection           0\n",
       "TechSupport              991\n",
       "StreamingTV                0\n",
       "StreamingMovies            0\n",
       "PaperlessBilling           0\n",
       "PaymentMethod              0\n",
       "Tenure                   931\n",
       "MonthlyCharge              0\n",
       "Bandwidth_GB_Year       1021\n",
       "item1                      0\n",
       "item2                      0\n",
       "item3                      0\n",
       "item4                      0\n",
       "item5                      0\n",
       "item6                      0\n",
       "item7                      0\n",
       "item8                      0\n",
       "dtype: int64"
      ]
     },
     "execution_count": 29,
     "metadata": {},
     "output_type": "execute_result"
    }
   ],
   "source": [
    "df.isnull().sum()"
   ]
  },
  {
   "cell_type": "code",
   "execution_count": 30,
   "id": "d385e0bc-cf51-4101-a921-20e28f6cf691",
   "metadata": {
    "tags": []
   },
   "outputs": [
    {
     "data": {
      "text/plain": [
       "(array([2.912e+03, 5.132e+03, 1.193e+03, 5.080e+02, 1.670e+02, 6.000e+01,\n",
       "        2.100e+01, 4.000e+00, 1.000e+00, 2.000e+00]),\n",
       " array([   740.66 ,  26556.664,  52372.668,  78188.672, 104004.676,\n",
       "        129820.68 , 155636.684, 181452.688, 207268.692, 233084.696,\n",
       "        258900.7  ]),\n",
       " <BarContainer object of 10 artists>)"
      ]
     },
     "execution_count": 30,
     "metadata": {},
     "output_type": "execute_result"
    },
    {
     "data": {
      "image/png": "[encoded data removed]",
      "text/plain": [
       "<Figure size 640x480 with 1 Axes>"
      ]
     },
     "metadata": {},
     "output_type": "display_data"
    }
   ],
   "source": [
    " plt.hist(df[\"Income\"])"
   ]
  },
  {
   "cell_type": "code",
   "execution_count": 69,
   "id": "34be7ea6-5b62-42f6-a57b-5bd54cdc50d9",
   "metadata": {
    "tags": []
   },
   "outputs": [],
   "source": [
    "#Distribution for Tenure"
   ]
  },
  {
   "cell_type": "code",
   "execution_count": 32,
   "id": "0584afd1-490f-433e-8eb2-d6364733cf3f",
   "metadata": {
    "tags": []
   },
   "outputs": [
    {
     "data": {
      "text/plain": [
       "(array([2337., 1473.,  568.,  132.,   30.,  221.,  540.,  870., 1330.,\n",
       "        1568.]),\n",
       " array([ 1.00025934,  8.10016141, 15.20006347, 22.29996554, 29.3998676 ,\n",
       "        36.49976967, 43.59967174, 50.6995738 , 57.79947587, 64.89937793,\n",
       "        71.99928   ]),\n",
       " <BarContainer object of 10 artists>)"
      ]
     },
     "execution_count": 32,
     "metadata": {},
     "output_type": "execute_result"
    },
    {
     "data": {
      "image/png": "[encoded data removed]",
      "text/plain": [
       "<Figure size 640x480 with 1 Axes>"
      ]
     },
     "metadata": {},
     "output_type": "display_data"
    }
   ],
   "source": [
    " plt.hist(df[\"Tenure\"])"
   ]
  },
  {
   "cell_type": "code",
   "execution_count": 33,
   "id": "714696b4-c4dd-403a-abf4-254b1fee72a4",
   "metadata": {},
   "outputs": [],
   "source": [
    "#Bimodal distribution so perfroming median imputation"
   ]
  },
  {
   "cell_type": "code",
   "execution_count": 34,
   "id": "f06b9f8b-40d3-4ff4-a036-bd4bb99c4a1e",
   "metadata": {
    "tags": []
   },
   "outputs": [],
   "source": [
    "df[\"Tenure\"].fillna(df[\"Tenure\"].median(), inplace=True)"
   ]
  },
  {
   "cell_type": "code",
   "execution_count": 35,
   "id": "5d65dd47-7ed5-4a43-8f71-53e53a3bf85c",
   "metadata": {
    "tags": []
   },
   "outputs": [],
   "source": [
    "#Check missing values for Tenure"
   ]
  },
  {
   "cell_type": "code",
   "execution_count": 36,
   "id": "0f8415f6-59ea-44ec-90c0-5a6a9e16c421",
   "metadata": {
    "tags": []
   },
   "outputs": [
    {
     "data": {
      "text/plain": [
       "Unnamed: 0                 0\n",
       "CaseOrder                  0\n",
       "Customer_id                0\n",
       "Interaction                0\n",
       "City                       0\n",
       "State                      0\n",
       "County                     0\n",
       "Zip                        0\n",
       "Lat                        0\n",
       "Lng                        0\n",
       "Population                 0\n",
       "Area                       0\n",
       "Timezone                   0\n",
       "Job                        0\n",
       "Children                   0\n",
       "Age                        0\n",
       "Education                  0\n",
       "Employment                 0\n",
       "Income                     0\n",
       "Marital                    0\n",
       "Gender                     0\n",
       "Churn                      0\n",
       "Outage_sec_perweek         0\n",
       "Email                      0\n",
       "Contacts                   0\n",
       "Yearly_equip_failure       0\n",
       "Techie                  2477\n",
       "Contract                   0\n",
       "Port_modem                 0\n",
       "Tablet                     0\n",
       "InternetService         2129\n",
       "Phone                   1026\n",
       "Multiple                   0\n",
       "OnlineSecurity             0\n",
       "OnlineBackup               0\n",
       "DeviceProtection           0\n",
       "TechSupport              991\n",
       "StreamingTV                0\n",
       "StreamingMovies            0\n",
       "PaperlessBilling           0\n",
       "PaymentMethod              0\n",
       "Tenure                     0\n",
       "MonthlyCharge              0\n",
       "Bandwidth_GB_Year       1021\n",
       "item1                      0\n",
       "item2                      0\n",
       "item3                      0\n",
       "item4                      0\n",
       "item5                      0\n",
       "item6                      0\n",
       "item7                      0\n",
       "item8                      0\n",
       "dtype: int64"
      ]
     },
     "execution_count": 36,
     "metadata": {},
     "output_type": "execute_result"
    }
   ],
   "source": [
    "df.isnull().sum()"
   ]
  },
  {
   "cell_type": "code",
   "execution_count": 37,
   "id": "fcb39337-5970-408a-a6f8-29b07e0a5d9b",
   "metadata": {
    "tags": []
   },
   "outputs": [],
   "source": [
    "#verify distribution"
   ]
  },
  {
   "cell_type": "code",
   "execution_count": 38,
   "id": "de683499-28e8-40d6-8cc9-c9f412b90238",
   "metadata": {
    "tags": []
   },
   "outputs": [
    {
     "data": {
      "text/plain": [
       "(array([2337., 1473.,  568.,  132.,  961.,  221.,  540.,  870., 1330.,\n",
       "        1568.]),\n",
       " array([ 1.00025934,  8.10016141, 15.20006347, 22.29996554, 29.3998676 ,\n",
       "        36.49976967, 43.59967174, 50.6995738 , 57.79947587, 64.89937793,\n",
       "        71.99928   ]),\n",
       " <BarContainer object of 10 artists>)"
      ]
     },
     "execution_count": 38,
     "metadata": {},
     "output_type": "execute_result"
    },
    {
     "data": {
      "image/png": "[encoded data removed]",
      "text/plain": [
       "<Figure size 640x480 with 1 Axes>"
      ]
     },
     "metadata": {},
     "output_type": "display_data"
    }
   ],
   "source": [
    " plt.hist(df[\"Tenure\"])"
   ]
  },
  {
   "cell_type": "code",
   "execution_count": 39,
   "id": "fdf5d263-1803-4365-9559-338d74e879ac",
   "metadata": {},
   "outputs": [],
   "source": [
    "#Check distribution for Bandwidth_GB_Year"
   ]
  },
  {
   "cell_type": "code",
   "execution_count": 40,
   "id": "9e3afa22-fec9-480e-ac90-7edee78ec564",
   "metadata": {
    "tags": []
   },
   "outputs": [
    {
     "data": {
      "text/plain": [
       "(array([1031., 2062., 1087.,  255.,   98.,  370.,  844., 1399., 1484.,\n",
       "         349.]),\n",
       " array([ 155.5067148 ,  855.85424332, 1556.20177184, 2256.54930036,\n",
       "        2956.89682888, 3657.2443574 , 4357.59188592, 5057.93941444,\n",
       "        5758.28694296, 6458.63447148, 7158.982     ]),\n",
       " <BarContainer object of 10 artists>)"
      ]
     },
     "execution_count": 40,
     "metadata": {},
     "output_type": "execute_result"
    },
    {
     "data": {
      "image/png": "[encoded data removed]",
      "text/plain": [
       "<Figure size 640x480 with 1 Axes>"
      ]
     },
     "metadata": {},
     "output_type": "display_data"
    }
   ],
   "source": [
    " plt.hist(df[\"Bandwidth_GB_Year\"])"
   ]
  },
  {
   "cell_type": "code",
   "execution_count": 41,
   "id": "52857293-e7bf-440c-9e1a-98bb5f8a844f",
   "metadata": {
    "tags": []
   },
   "outputs": [],
   "source": [
    "#Bimodal distribution so perfroming median imputation"
   ]
  },
  {
   "cell_type": "code",
   "execution_count": 42,
   "id": "65ab5194-f897-4bfd-826a-7d7d2ac1c39b",
   "metadata": {
    "tags": []
   },
   "outputs": [],
   "source": [
    "df[\"Bandwidth_GB_Year\"].fillna(df[\"Bandwidth_GB_Year\"].median(), inplace=True)"
   ]
  },
  {
   "cell_type": "code",
   "execution_count": 43,
   "id": "bd843416-e6bd-40f3-9495-824971e6d16e",
   "metadata": {
    "tags": []
   },
   "outputs": [],
   "source": [
    "#Check missing values for Bandwidth_GB_Year"
   ]
  },
  {
   "cell_type": "code",
   "execution_count": 44,
   "id": "faadec77-3965-419c-ad4a-5c1c9af09b1c",
   "metadata": {
    "tags": []
   },
   "outputs": [
    {
     "data": {
      "text/plain": [
       "Unnamed: 0                 0\n",
       "CaseOrder                  0\n",
       "Customer_id                0\n",
       "Interaction                0\n",
       "City                       0\n",
       "State                      0\n",
       "County                     0\n",
       "Zip                        0\n",
       "Lat                        0\n",
       "Lng                        0\n",
       "Population                 0\n",
       "Area                       0\n",
       "Timezone                   0\n",
       "Job                        0\n",
       "Children                   0\n",
       "Age                        0\n",
       "Education                  0\n",
       "Employment                 0\n",
       "Income                     0\n",
       "Marital                    0\n",
       "Gender                     0\n",
       "Churn                      0\n",
       "Outage_sec_perweek         0\n",
       "Email                      0\n",
       "Contacts                   0\n",
       "Yearly_equip_failure       0\n",
       "Techie                  2477\n",
       "Contract                   0\n",
       "Port_modem                 0\n",
       "Tablet                     0\n",
       "InternetService         2129\n",
       "Phone                   1026\n",
       "Multiple                   0\n",
       "OnlineSecurity             0\n",
       "OnlineBackup               0\n",
       "DeviceProtection           0\n",
       "TechSupport              991\n",
       "StreamingTV                0\n",
       "StreamingMovies            0\n",
       "PaperlessBilling           0\n",
       "PaymentMethod              0\n",
       "Tenure                     0\n",
       "MonthlyCharge              0\n",
       "Bandwidth_GB_Year          0\n",
       "item1                      0\n",
       "item2                      0\n",
       "item3                      0\n",
       "item4                      0\n",
       "item5                      0\n",
       "item6                      0\n",
       "item7                      0\n",
       "item8                      0\n",
       "dtype: int64"
      ]
     },
     "execution_count": 44,
     "metadata": {},
     "output_type": "execute_result"
    }
   ],
   "source": [
    "df.isnull().sum()"
   ]
  },
  {
   "cell_type": "code",
   "execution_count": 45,
   "id": "e042a883-ea67-4a90-ae37-2f8d0d4256b2",
   "metadata": {
    "tags": []
   },
   "outputs": [],
   "source": [
    "#Recheck distribution"
   ]
  },
  {
   "cell_type": "code",
   "execution_count": 46,
   "id": "c14d08b4-f425-4fa1-bae7-a972ca284a13",
   "metadata": {
    "tags": []
   },
   "outputs": [
    {
     "data": {
      "text/plain": [
       "(array([1031., 2062., 1087.,  255., 1119.,  370.,  844., 1399., 1484.,\n",
       "         349.]),\n",
       " array([ 155.5067148 ,  855.85424332, 1556.20177184, 2256.54930036,\n",
       "        2956.89682888, 3657.2443574 , 4357.59188592, 5057.93941444,\n",
       "        5758.28694296, 6458.63447148, 7158.982     ]),\n",
       " <BarContainer object of 10 artists>)"
      ]
     },
     "execution_count": 46,
     "metadata": {},
     "output_type": "execute_result"
    },
    {
     "data": {
      "image/png": "[encoded data removed]",
      "text/plain": [
       "<Figure size 640x480 with 1 Axes>"
      ]
     },
     "metadata": {},
     "output_type": "display_data"
    }
   ],
   "source": [
    " plt.hist(df[\"Bandwidth_GB_Year\"])"
   ]
  },
  {
   "cell_type": "code",
   "execution_count": 68,
   "id": "08f6e50e-96c1-4ff0-b411-edf64fd0d6ca",
   "metadata": {
    "tags": []
   },
   "outputs": [],
   "source": [
    "#Filling in categrical variable missing values with the mode"
   ]
  },
  {
   "cell_type": "code",
   "execution_count": 63,
   "id": "4905ae2e-1c5a-4518-a536-76a3e7a05d96",
   "metadata": {
    "tags": []
   },
   "outputs": [],
   "source": [
    "df[\"Techie\"].fillna(df[\"Techie\"].mode().iloc[0], inplace=True)"
   ]
  },
  {
   "cell_type": "code",
   "execution_count": 64,
   "id": "c010d24c-4f10-4088-a1ca-9d47de69b6a1",
   "metadata": {
    "tags": []
   },
   "outputs": [],
   "source": [
    "df[\"Phone\"].fillna(df[\"Phone\"].mode().iloc[0], inplace=True)"
   ]
  },
  {
   "cell_type": "code",
   "execution_count": 65,
   "id": "af20d4b5-3873-40b1-87bb-e317dcca60b7",
   "metadata": {
    "tags": []
   },
   "outputs": [],
   "source": [
    "df[\"InternetService\"].fillna(df[\"InternetService\"].mode().iloc[0], inplace=True)"
   ]
  },
  {
   "cell_type": "code",
   "execution_count": 66,
   "id": "4692249f-1c97-40ea-bd27-66e5949c947c",
   "metadata": {
    "tags": []
   },
   "outputs": [],
   "source": [
    "df[\"TechSupport\"].fillna(df[\"TechSupport\"].mode().iloc[0], inplace=True)"
   ]
  },
  {
   "cell_type": "code",
   "execution_count": 70,
   "id": "f0adab6d-1701-4a2c-895e-ec38a2b5d8eb",
   "metadata": {
    "tags": []
   },
   "outputs": [
    {
     "data": {
      "text/plain": [
       "Unnamed: 0              0\n",
       "CaseOrder               0\n",
       "Customer_id             0\n",
       "Interaction             0\n",
       "City                    0\n",
       "State                   0\n",
       "County                  0\n",
       "Zip                     0\n",
       "Lat                     0\n",
       "Lng                     0\n",
       "Population              0\n",
       "Area                    0\n",
       "Timezone                0\n",
       "Job                     0\n",
       "Children                0\n",
       "Age                     0\n",
       "Education               0\n",
       "Employment              0\n",
       "Income                  0\n",
       "Marital                 0\n",
       "Gender                  0\n",
       "Churn                   0\n",
       "Outage_sec_perweek      0\n",
       "Email                   0\n",
       "Contacts                0\n",
       "Yearly_equip_failure    0\n",
       "Techie                  0\n",
       "Contract                0\n",
       "Port_modem              0\n",
       "Tablet                  0\n",
       "InternetService         0\n",
       "Phone                   0\n",
       "Multiple                0\n",
       "OnlineSecurity          0\n",
       "OnlineBackup            0\n",
       "DeviceProtection        0\n",
       "TechSupport             0\n",
       "StreamingTV             0\n",
       "StreamingMovies         0\n",
       "PaperlessBilling        0\n",
       "PaymentMethod           0\n",
       "Tenure                  0\n",
       "MonthlyCharge           0\n",
       "Bandwidth_GB_Year       0\n",
       "item1                   0\n",
       "item2                   0\n",
       "item3                   0\n",
       "item4                   0\n",
       "item5                   0\n",
       "item6                   0\n",
       "item7                   0\n",
       "item8                   0\n",
       "dtype: int64"
      ]
     },
     "execution_count": 70,
     "metadata": {},
     "output_type": "execute_result"
    }
   ],
   "source": [
    "df.isnull().sum()"
   ]
  },
  {
   "cell_type": "code",
   "execution_count": 71,
   "id": "61676664-e82c-43a4-ad39-8a3fa0bd8cf1",
   "metadata": {
    "tags": []
   },
   "outputs": [],
   "source": [
    "#Moving on to outliers"
   ]
  },
  {
   "cell_type": "code",
   "execution_count": 72,
   "id": "b49791f6-fb6a-43aa-b9f3-7e99f466c2b3",
   "metadata": {
    "tags": []
   },
   "outputs": [],
   "source": [
    "import seaborn"
   ]
  },
  {
   "cell_type": "code",
   "execution_count": 73,
   "id": "30d5ecb6-356e-4c14-bccb-44cd3534f823",
   "metadata": {
    "tags": []
   },
   "outputs": [],
   "source": [
    "#CaseOrder boxplot"
   ]
  },
  {
   "cell_type": "code",
   "execution_count": 74,
   "id": "f9e5c93e-42a2-48b1-9bba-1cac0fc57cd4",
   "metadata": {
    "tags": []
   },
   "outputs": [
    {
     "data": {
      "image/png": "[encoded data removed]",
      "text/plain": [
       "<Figure size 640x480 with 1 Axes>"
      ]
     },
     "metadata": {},
     "output_type": "display_data"
    }
   ],
   "source": [
    "boxplot=seaborn.boxplot(x='CaseOrder', data=df)"
   ]
  },
  {
   "cell_type": "code",
   "execution_count": 75,
   "id": "97bdde5f-10a1-4954-8f1d-1771a605ffd8",
   "metadata": {
    "tags": []
   },
   "outputs": [],
   "source": [
    "#No outliers ^, boxplot Lat and Lng"
   ]
  },
  {
   "cell_type": "code",
   "execution_count": 76,
   "id": "aec4de7b-6cae-4f1a-ab5d-7f97437aae8b",
   "metadata": {
    "tags": []
   },
   "outputs": [
    {
     "data": {
      "image/png": "[encoded data removed]",
      "text/plain": [
       "<Figure size 640x480 with 1 Axes>"
      ]
     },
     "metadata": {},
     "output_type": "display_data"
    }
   ],
   "source": [
    "boxplot=seaborn.boxplot(x='Lat', data=df)"
   ]
  },
  {
   "cell_type": "code",
   "execution_count": 77,
   "id": "bc5a28fa-b492-46c5-a9d7-0161b3de978c",
   "metadata": {
    "tags": []
   },
   "outputs": [
    {
     "data": {
      "image/png": "[encoded data removed]",
      "text/plain": [
       "<Figure size 640x480 with 1 Axes>"
      ]
     },
     "metadata": {},
     "output_type": "display_data"
    }
   ],
   "source": [
    "boxplot=seaborn.boxplot(x='Lng', data=df)"
   ]
  },
  {
   "cell_type": "code",
   "execution_count": 78,
   "id": "9d7fd1bb-c6a5-4cfd-841d-ed2ce9312be6",
   "metadata": {
    "tags": []
   },
   "outputs": [],
   "source": [
    "#Notice both have outliers. Treatment method = retain\n",
    "#These are coordinates, its reasonable to have outliers\n",
    "#Treating these could result in majorly tweaking the data and causing issues with PCA's in the future. "
   ]
  },
  {
   "cell_type": "code",
   "execution_count": 79,
   "id": "3ac93dbc-818a-4ee7-8caf-5c97349481bd",
   "metadata": {
    "tags": []
   },
   "outputs": [],
   "source": [
    "#Boxplot for Population"
   ]
  },
  {
   "cell_type": "code",
   "execution_count": 80,
   "id": "cabceee9-19fe-466d-be6f-b01e6e55f63e",
   "metadata": {
    "tags": []
   },
   "outputs": [
    {
     "data": {
      "image/png": "[encoded data removed]",
      "text/plain": [
       "<Figure size 640x480 with 1 Axes>"
      ]
     },
     "metadata": {},
     "output_type": "display_data"
    }
   ],
   "source": [
    "boxplot=seaborn.boxplot(x='Population', data=df)"
   ]
  },
  {
   "cell_type": "code",
   "execution_count": 81,
   "id": "ee66ba99-f3f6-4eca-83d9-121cd0fc1b0c",
   "metadata": {
    "tags": []
   },
   "outputs": [],
   "source": [
    "#Retain\n",
    "#This is another ex of a variable with reasonable outliers. \n",
    "#Customers in the city vs rural areas will have different surrounding population counts"
   ]
  },
  {
   "cell_type": "code",
   "execution_count": 82,
   "id": "4053bb25-6497-4ccb-9301-ee8529ea68ab",
   "metadata": {
    "tags": []
   },
   "outputs": [],
   "source": [
    "#boxplot for children"
   ]
  },
  {
   "cell_type": "code",
   "execution_count": 83,
   "id": "a5c52081-bc9f-4387-a946-7fcc1661feb1",
   "metadata": {
    "tags": []
   },
   "outputs": [
    {
     "data": {
      "image/png": "[encoded data removed]",
      "text/plain": [
       "<Figure size 640x480 with 1 Axes>"
      ]
     },
     "metadata": {},
     "output_type": "display_data"
    }
   ],
   "source": [
    "boxplot=seaborn.boxplot(x='Children', data=df)"
   ]
  },
  {
   "cell_type": "code",
   "execution_count": 84,
   "id": "d6d4613b-c599-4107-8b99-0412de02158c",
   "metadata": {
    "tags": []
   },
   "outputs": [],
   "source": [
    "#Treatment method = imputation\n",
    "#Seems unlikely that customer has 10 children, median would work well for this. "
   ]
  },
  {
   "cell_type": "code",
   "execution_count": 85,
   "id": "7d69a602-2f67-47d9-935d-47080bceaca2",
   "metadata": {
    "tags": []
   },
   "outputs": [],
   "source": [
    "children_query=df.query('Children>4')"
   ]
  },
  {
   "cell_type": "code",
   "execution_count": 86,
   "id": "6848255c-2147-4daa-8a81-eca176a3f380",
   "metadata": {
    "tags": []
   },
   "outputs": [
    {
     "name": "stdout",
     "output_type": "stream",
     "text": [
      "<class 'pandas.core.frame.DataFrame'>\n",
      "Index: 747 entries, 10 to 9982\n",
      "Data columns (total 52 columns):\n",
      " #   Column                Non-Null Count  Dtype  \n",
      "---  ------                --------------  -----  \n",
      " 0   Unnamed: 0            747 non-null    int64  \n",
      " 1   CaseOrder             747 non-null    int64  \n",
      " 2   Customer_id           747 non-null    object \n",
      " 3   Interaction           747 non-null    object \n",
      " 4   City                  747 non-null    object \n",
      " 5   State                 747 non-null    object \n",
      " 6   County                747 non-null    object \n",
      " 7   Zip                   747 non-null    int64  \n",
      " 8   Lat                   747 non-null    float64\n",
      " 9   Lng                   747 non-null    float64\n",
      " 10  Population            747 non-null    int64  \n",
      " 11  Area                  747 non-null    object \n",
      " 12  Timezone              747 non-null    object \n",
      " 13  Job                   747 non-null    object \n",
      " 14  Children              747 non-null    float64\n",
      " 15  Age                   747 non-null    float64\n",
      " 16  Education             747 non-null    object \n",
      " 17  Employment            747 non-null    object \n",
      " 18  Income                747 non-null    float64\n",
      " 19  Marital               747 non-null    object \n",
      " 20  Gender                747 non-null    object \n",
      " 21  Churn                 747 non-null    object \n",
      " 22  Outage_sec_perweek    747 non-null    float64\n",
      " 23  Email                 747 non-null    int64  \n",
      " 24  Contacts              747 non-null    int64  \n",
      " 25  Yearly_equip_failure  747 non-null    int64  \n",
      " 26  Techie                747 non-null    object \n",
      " 27  Contract              747 non-null    object \n",
      " 28  Port_modem            747 non-null    object \n",
      " 29  Tablet                747 non-null    object \n",
      " 30  InternetService       747 non-null    object \n",
      " 31  Phone                 747 non-null    object \n",
      " 32  Multiple              747 non-null    object \n",
      " 33  OnlineSecurity        747 non-null    object \n",
      " 34  OnlineBackup          747 non-null    object \n",
      " 35  DeviceProtection      747 non-null    object \n",
      " 36  TechSupport           747 non-null    object \n",
      " 37  StreamingTV           747 non-null    object \n",
      " 38  StreamingMovies       747 non-null    object \n",
      " 39  PaperlessBilling      747 non-null    object \n",
      " 40  PaymentMethod         747 non-null    object \n",
      " 41  Tenure                747 non-null    float64\n",
      " 42  MonthlyCharge         747 non-null    float64\n",
      " 43  Bandwidth_GB_Year     747 non-null    float64\n",
      " 44  item1                 747 non-null    int64  \n",
      " 45  item2                 747 non-null    int64  \n",
      " 46  item3                 747 non-null    int64  \n",
      " 47  item4                 747 non-null    int64  \n",
      " 48  item5                 747 non-null    int64  \n",
      " 49  item6                 747 non-null    int64  \n",
      " 50  item7                 747 non-null    int64  \n",
      " 51  item8                 747 non-null    int64  \n",
      "dtypes: float64(9), int64(15), object(28)\n",
      "memory usage: 309.3+ KB\n"
     ]
    }
   ],
   "source": [
    "children_query.info()"
   ]
  },
  {
   "cell_type": "code",
   "execution_count": 87,
   "id": "64d495b8-9c75-400f-8f3a-5a1c88183afc",
   "metadata": {
    "tags": []
   },
   "outputs": [],
   "source": [
    "df[\"Children\"]=np.where(df[\"Children\"]>4, np.nan, df[\"Children\"])"
   ]
  },
  {
   "cell_type": "code",
   "execution_count": 88,
   "id": "73da6a99-8831-4ea6-8657-394c48205d96",
   "metadata": {
    "tags": []
   },
   "outputs": [],
   "source": [
    "df[\"Children\"].fillna(df[\"Children\"].median(), inplace=True)"
   ]
  },
  {
   "cell_type": "code",
   "execution_count": 89,
   "id": "c632921d-b9f9-4384-b7ed-ea91b4be8f5f",
   "metadata": {
    "tags": []
   },
   "outputs": [
    {
     "data": {
      "image/png": "[encoded data removed]",
      "text/plain": [
       "<Figure size 640x480 with 1 Axes>"
      ]
     },
     "metadata": {},
     "output_type": "display_data"
    }
   ],
   "source": [
    "boxplot=seaborn.boxplot(x='Children', data=df)"
   ]
  },
  {
   "cell_type": "code",
   "execution_count": 90,
   "id": "cd2afa05-0b40-4c66-b94e-001f834c10be",
   "metadata": {
    "tags": []
   },
   "outputs": [],
   "source": [
    "#boxplot for Age"
   ]
  },
  {
   "cell_type": "code",
   "execution_count": 91,
   "id": "6ea89465-c634-4efc-aeef-5e370345ad21",
   "metadata": {
    "tags": []
   },
   "outputs": [
    {
     "data": {
      "image/png": "[encoded data removed]",
      "text/plain": [
       "<Figure size 640x480 with 1 Axes>"
      ]
     },
     "metadata": {},
     "output_type": "display_data"
    }
   ],
   "source": [
    "boxplot=seaborn.boxplot(x='Age', data=df)"
   ]
  },
  {
   "cell_type": "code",
   "execution_count": 92,
   "id": "5c6ca66a-f5dc-47aa-8ee0-6d0cd6cb5a55",
   "metadata": {
    "tags": []
   },
   "outputs": [],
   "source": [
    "#No outliers, boxplot Income"
   ]
  },
  {
   "cell_type": "code",
   "execution_count": 93,
   "id": "51b0fefe-9367-48d4-8e0a-86bbf18827d2",
   "metadata": {
    "tags": []
   },
   "outputs": [
    {
     "data": {
      "image/png": "[encoded data removed]",
      "text/plain": [
       "<Figure size 640x480 with 1 Axes>"
      ]
     },
     "metadata": {},
     "output_type": "display_data"
    }
   ],
   "source": [
    "boxplot=seaborn.boxplot(x='Income', data=df)"
   ]
  },
  {
   "cell_type": "code",
   "execution_count": 94,
   "id": "74a250d6-9e4c-463c-a41d-2d6781281d03",
   "metadata": {
    "tags": []
   },
   "outputs": [],
   "source": [
    "#It is reasonable that there are gaps income. This could be crucial to the data. \n",
    "#Treatment = retain"
   ]
  },
  {
   "cell_type": "code",
   "execution_count": 95,
   "id": "534f64fb-3858-4ff2-813a-93baca5444e5",
   "metadata": {
    "tags": []
   },
   "outputs": [],
   "source": [
    "#boxplot for Outage_sec_perweek"
   ]
  },
  {
   "cell_type": "code",
   "execution_count": 96,
   "id": "5d0137d4-5249-4298-bdbf-639c4e42b082",
   "metadata": {
    "tags": []
   },
   "outputs": [
    {
     "data": {
      "image/png": "[encoded data removed]",
      "text/plain": [
       "<Figure size 640x480 with 1 Axes>"
      ]
     },
     "metadata": {},
     "output_type": "display_data"
    }
   ],
   "source": [
    "boxplot=seaborn.boxplot(x='Outage_sec_perweek', data=df)"
   ]
  },
  {
   "cell_type": "code",
   "execution_count": 97,
   "id": "56396d73-4819-46ee-9070-a799a2acf164",
   "metadata": {
    "tags": []
   },
   "outputs": [],
   "source": [
    "#it is reasonable that there will be customers with more frequent issues\n",
    "#Below 0 doesnt is NOT reasonable, below 0 needs treated. \n",
    "#Treatment = imputation"
   ]
  },
  {
   "cell_type": "code",
   "execution_count": 98,
   "id": "e8ce8dbe-50a1-4d22-a0ee-29b96985d268",
   "metadata": {
    "tags": []
   },
   "outputs": [],
   "source": [
    "outages_query=df.query('Outage_sec_perweek<0')"
   ]
  },
  {
   "cell_type": "code",
   "execution_count": 99,
   "id": "0dd84ef2-75bf-4571-9181-b959b1684f89",
   "metadata": {
    "tags": []
   },
   "outputs": [
    {
     "name": "stdout",
     "output_type": "stream",
     "text": [
      "<class 'pandas.core.frame.DataFrame'>\n",
      "Index: 11 entries, 1904 to 8194\n",
      "Data columns (total 52 columns):\n",
      " #   Column                Non-Null Count  Dtype  \n",
      "---  ------                --------------  -----  \n",
      " 0   Unnamed: 0            11 non-null     int64  \n",
      " 1   CaseOrder             11 non-null     int64  \n",
      " 2   Customer_id           11 non-null     object \n",
      " 3   Interaction           11 non-null     object \n",
      " 4   City                  11 non-null     object \n",
      " 5   State                 11 non-null     object \n",
      " 6   County                11 non-null     object \n",
      " 7   Zip                   11 non-null     int64  \n",
      " 8   Lat                   11 non-null     float64\n",
      " 9   Lng                   11 non-null     float64\n",
      " 10  Population            11 non-null     int64  \n",
      " 11  Area                  11 non-null     object \n",
      " 12  Timezone              11 non-null     object \n",
      " 13  Job                   11 non-null     object \n",
      " 14  Children              11 non-null     float64\n",
      " 15  Age                   11 non-null     float64\n",
      " 16  Education             11 non-null     object \n",
      " 17  Employment            11 non-null     object \n",
      " 18  Income                11 non-null     float64\n",
      " 19  Marital               11 non-null     object \n",
      " 20  Gender                11 non-null     object \n",
      " 21  Churn                 11 non-null     object \n",
      " 22  Outage_sec_perweek    11 non-null     float64\n",
      " 23  Email                 11 non-null     int64  \n",
      " 24  Contacts              11 non-null     int64  \n",
      " 25  Yearly_equip_failure  11 non-null     int64  \n",
      " 26  Techie                11 non-null     object \n",
      " 27  Contract              11 non-null     object \n",
      " 28  Port_modem            11 non-null     object \n",
      " 29  Tablet                11 non-null     object \n",
      " 30  InternetService       11 non-null     object \n",
      " 31  Phone                 11 non-null     object \n",
      " 32  Multiple              11 non-null     object \n",
      " 33  OnlineSecurity        11 non-null     object \n",
      " 34  OnlineBackup          11 non-null     object \n",
      " 35  DeviceProtection      11 non-null     object \n",
      " 36  TechSupport           11 non-null     object \n",
      " 37  StreamingTV           11 non-null     object \n",
      " 38  StreamingMovies       11 non-null     object \n",
      " 39  PaperlessBilling      11 non-null     object \n",
      " 40  PaymentMethod         11 non-null     object \n",
      " 41  Tenure                11 non-null     float64\n",
      " 42  MonthlyCharge         11 non-null     float64\n",
      " 43  Bandwidth_GB_Year     11 non-null     float64\n",
      " 44  item1                 11 non-null     int64  \n",
      " 45  item2                 11 non-null     int64  \n",
      " 46  item3                 11 non-null     int64  \n",
      " 47  item4                 11 non-null     int64  \n",
      " 48  item5                 11 non-null     int64  \n",
      " 49  item6                 11 non-null     int64  \n",
      " 50  item7                 11 non-null     int64  \n",
      " 51  item8                 11 non-null     int64  \n",
      "dtypes: float64(9), int64(15), object(28)\n",
      "memory usage: 4.6+ KB\n"
     ]
    }
   ],
   "source": [
    "outages_query.info()"
   ]
  },
  {
   "cell_type": "code",
   "execution_count": 100,
   "id": "ef2afdfb-daeb-47bf-afe8-428ed65d4925",
   "metadata": {
    "tags": []
   },
   "outputs": [],
   "source": [
    "df[\"Outage_sec_perweek\"]=np.where(df[\"Outage_sec_perweek\"]<0, np.nan, df[\"Outage_sec_perweek\"])"
   ]
  },
  {
   "cell_type": "code",
   "execution_count": 101,
   "id": "ebd83ca9-8aac-472d-98a2-92f10481f7d1",
   "metadata": {
    "tags": []
   },
   "outputs": [],
   "source": [
    "df[\"Outage_sec_perweek\"].fillna(df[\"Outage_sec_perweek\"].median(), inplace=True)"
   ]
  },
  {
   "cell_type": "code",
   "execution_count": 102,
   "id": "1040eb92-b96f-495a-994f-c8c79bbc56ec",
   "metadata": {
    "tags": []
   },
   "outputs": [
    {
     "data": {
      "image/png": "[encoded data removed]",
      "text/plain": [
       "<Figure size 640x480 with 1 Axes>"
      ]
     },
     "metadata": {},
     "output_type": "display_data"
    }
   ],
   "source": [
    "boxplot=seaborn.boxplot(x='Outage_sec_perweek', data=df)"
   ]
  },
  {
   "cell_type": "code",
   "execution_count": 103,
   "id": "86cbf2a1-2127-4e70-80bd-15ab24f36ba5",
   "metadata": {
    "tags": []
   },
   "outputs": [],
   "source": [
    "#boxplot Email"
   ]
  },
  {
   "cell_type": "code",
   "execution_count": 104,
   "id": "4d2003f0-d707-4372-b60e-cf89ad099531",
   "metadata": {
    "tags": []
   },
   "outputs": [
    {
     "data": {
      "image/png": "[encoded data removed]",
      "text/plain": [
       "<Figure size 640x480 with 1 Axes>"
      ]
     },
     "metadata": {},
     "output_type": "display_data"
    }
   ],
   "source": [
    "boxplot=seaborn.boxplot(x='Email', data=df)"
   ]
  },
  {
   "cell_type": "code",
   "execution_count": 105,
   "id": "c90b8943-4d72-4db0-9111-500a5e720d8d",
   "metadata": {
    "tags": []
   },
   "outputs": [],
   "source": [
    "#It seems reasonable that some customer may receive fewer than the median emails, some more\n",
    "#Treatment = Retain , this could be important to the data. "
   ]
  },
  {
   "cell_type": "code",
   "execution_count": 106,
   "id": "01884403-683c-4bca-aef2-ee16b53bb5f0",
   "metadata": {
    "tags": []
   },
   "outputs": [],
   "source": [
    "#boxplot Contacts"
   ]
  },
  {
   "cell_type": "code",
   "execution_count": 107,
   "id": "33421251-9f19-4a05-8da6-d8bac4ce9f21",
   "metadata": {
    "tags": []
   },
   "outputs": [
    {
     "data": {
      "image/png": "[encoded data removed]",
      "text/plain": [
       "<Figure size 640x480 with 1 Axes>"
      ]
     },
     "metadata": {},
     "output_type": "display_data"
    }
   ],
   "source": [
    "boxplot=seaborn.boxplot(x='Contacts', data=df)"
   ]
  },
  {
   "cell_type": "code",
   "execution_count": 108,
   "id": "1d1ef6e3-ca6f-4019-8224-36a91606bb6e",
   "metadata": {
    "tags": []
   },
   "outputs": [],
   "source": [
    "#It seems reasonable that some customers may have more frequent issues = more contacts. \n",
    "#Treatment = retain"
   ]
  },
  {
   "cell_type": "code",
   "execution_count": 109,
   "id": "d21cd3d6-db14-4ad7-8d63-6310739a2f71",
   "metadata": {},
   "outputs": [],
   "source": [
    "#boxplot Yearly_equip_failure"
   ]
  },
  {
   "cell_type": "code",
   "execution_count": 110,
   "id": "9a19f747-5621-47e1-b00f-2add6ed5d72c",
   "metadata": {
    "tags": []
   },
   "outputs": [
    {
     "data": {
      "image/png": "[encoded data removed]",
      "text/plain": [
       "<Figure size 640x480 with 1 Axes>"
      ]
     },
     "metadata": {},
     "output_type": "display_data"
    }
   ],
   "source": [
    "boxplot=seaborn.boxplot(x='Yearly_equip_failure', data=df)"
   ]
  },
  {
   "cell_type": "code",
   "execution_count": 111,
   "id": "c05fb656-6fe0-47f6-8cd4-cf498011800d",
   "metadata": {
    "tags": []
   },
   "outputs": [],
   "source": [
    "#It seems reasonable that some customers may experience Yearly_equip_failure more frequently\n",
    "#Treatment = retain"
   ]
  },
  {
   "cell_type": "code",
   "execution_count": 112,
   "id": "35f9f3a6-08ce-467c-afac-35a4bc4a48b1",
   "metadata": {
    "tags": []
   },
   "outputs": [],
   "source": [
    "#boxplot for Tenure"
   ]
  },
  {
   "cell_type": "code",
   "execution_count": 113,
   "id": "7abf5c1d-6a26-4ce6-be78-8a353cf76a82",
   "metadata": {
    "tags": []
   },
   "outputs": [
    {
     "data": {
      "image/png": "[encoded data removed]",
      "text/plain": [
       "<Figure size 640x480 with 1 Axes>"
      ]
     },
     "metadata": {},
     "output_type": "display_data"
    }
   ],
   "source": [
    "boxplot=seaborn.boxplot(x='Tenure', data=df)"
   ]
  },
  {
   "cell_type": "code",
   "execution_count": 114,
   "id": "bddb340a-5699-48a5-bad2-7dd7f7e3621d",
   "metadata": {
    "tags": []
   },
   "outputs": [],
   "source": [
    "#There are no outliers. "
   ]
  },
  {
   "cell_type": "code",
   "execution_count": 115,
   "id": "e5e3f303-ed59-499b-9153-c2a54621d8dd",
   "metadata": {
    "tags": []
   },
   "outputs": [],
   "source": [
    "#Boxplot for MonthlyCharge"
   ]
  },
  {
   "cell_type": "code",
   "execution_count": 116,
   "id": "b26c2445-8c21-459c-bc08-f3a237a94710",
   "metadata": {
    "tags": []
   },
   "outputs": [
    {
     "data": {
      "image/png": "[encoded data removed]",
      "text/plain": [
       "<Figure size 640x480 with 1 Axes>"
      ]
     },
     "metadata": {},
     "output_type": "display_data"
    }
   ],
   "source": [
    "boxplot=seaborn.boxplot(x='MonthlyCharge', data=df)"
   ]
  },
  {
   "cell_type": "code",
   "execution_count": 117,
   "id": "775fed31-9ccb-44d7-a60f-f913330c5026",
   "metadata": {
    "tags": []
   },
   "outputs": [],
   "source": [
    "#While there should be a range, that big of a gap doesn't seem reasonable. \n",
    "#Treatment = imputation"
   ]
  },
  {
   "cell_type": "code",
   "execution_count": 118,
   "id": "e656218e-1d3a-498e-9f68-cef17533e8e1",
   "metadata": {
    "tags": []
   },
   "outputs": [],
   "source": [
    "monthlycharge_query=df.query('MonthlyCharge<0')"
   ]
  },
  {
   "cell_type": "code",
   "execution_count": 119,
   "id": "7fcc8348-b13c-4101-a34a-1abcf2adceaa",
   "metadata": {
    "tags": []
   },
   "outputs": [
    {
     "name": "stdout",
     "output_type": "stream",
     "text": [
      "<class 'pandas.core.frame.DataFrame'>\n",
      "Index: 0 entries\n",
      "Data columns (total 52 columns):\n",
      " #   Column                Non-Null Count  Dtype  \n",
      "---  ------                --------------  -----  \n",
      " 0   Unnamed: 0            0 non-null      int64  \n",
      " 1   CaseOrder             0 non-null      int64  \n",
      " 2   Customer_id           0 non-null      object \n",
      " 3   Interaction           0 non-null      object \n",
      " 4   City                  0 non-null      object \n",
      " 5   State                 0 non-null      object \n",
      " 6   County                0 non-null      object \n",
      " 7   Zip                   0 non-null      int64  \n",
      " 8   Lat                   0 non-null      float64\n",
      " 9   Lng                   0 non-null      float64\n",
      " 10  Population            0 non-null      int64  \n",
      " 11  Area                  0 non-null      object \n",
      " 12  Timezone              0 non-null      object \n",
      " 13  Job                   0 non-null      object \n",
      " 14  Children              0 non-null      float64\n",
      " 15  Age                   0 non-null      float64\n",
      " 16  Education             0 non-null      object \n",
      " 17  Employment            0 non-null      object \n",
      " 18  Income                0 non-null      float64\n",
      " 19  Marital               0 non-null      object \n",
      " 20  Gender                0 non-null      object \n",
      " 21  Churn                 0 non-null      object \n",
      " 22  Outage_sec_perweek    0 non-null      float64\n",
      " 23  Email                 0 non-null      int64  \n",
      " 24  Contacts              0 non-null      int64  \n",
      " 25  Yearly_equip_failure  0 non-null      int64  \n",
      " 26  Techie                0 non-null      object \n",
      " 27  Contract              0 non-null      object \n",
      " 28  Port_modem            0 non-null      object \n",
      " 29  Tablet                0 non-null      object \n",
      " 30  InternetService       0 non-null      object \n",
      " 31  Phone                 0 non-null      object \n",
      " 32  Multiple              0 non-null      object \n",
      " 33  OnlineSecurity        0 non-null      object \n",
      " 34  OnlineBackup          0 non-null      object \n",
      " 35  DeviceProtection      0 non-null      object \n",
      " 36  TechSupport           0 non-null      object \n",
      " 37  StreamingTV           0 non-null      object \n",
      " 38  StreamingMovies       0 non-null      object \n",
      " 39  PaperlessBilling      0 non-null      object \n",
      " 40  PaymentMethod         0 non-null      object \n",
      " 41  Tenure                0 non-null      float64\n",
      " 42  MonthlyCharge         0 non-null      float64\n",
      " 43  Bandwidth_GB_Year     0 non-null      float64\n",
      " 44  item1                 0 non-null      int64  \n",
      " 45  item2                 0 non-null      int64  \n",
      " 46  item3                 0 non-null      int64  \n",
      " 47  item4                 0 non-null      int64  \n",
      " 48  item5                 0 non-null      int64  \n",
      " 49  item6                 0 non-null      int64  \n",
      " 50  item7                 0 non-null      int64  \n",
      " 51  item8                 0 non-null      int64  \n",
      "dtypes: float64(9), int64(15), object(28)\n",
      "memory usage: 0.0+ bytes\n"
     ]
    }
   ],
   "source": [
    "monthlycharge_query.info()"
   ]
  },
  {
   "cell_type": "code",
   "execution_count": 120,
   "id": "238cfcb4-8511-4a84-9d03-afdc391fc06a",
   "metadata": {
    "tags": []
   },
   "outputs": [],
   "source": [
    "df[\"MonthlyCharge\"]=np.where(df[\"MonthlyCharge\"]>250, np.nan, df[\"MonthlyCharge\"])"
   ]
  },
  {
   "cell_type": "code",
   "execution_count": 121,
   "id": "d1fda970-1bcc-478d-aca4-f1ae4bc68749",
   "metadata": {
    "tags": []
   },
   "outputs": [],
   "source": [
    "df[\"MonthlyCharge\"].fillna(df[\"MonthlyCharge\"].median(), inplace=True)"
   ]
  },
  {
   "cell_type": "code",
   "execution_count": 122,
   "id": "3c78ac72-2e21-441a-a52b-ae0447aea715",
   "metadata": {
    "tags": []
   },
   "outputs": [
    {
     "data": {
      "image/png": "[encoded data removed]",
      "text/plain": [
       "<Figure size 640x480 with 1 Axes>"
      ]
     },
     "metadata": {},
     "output_type": "display_data"
    }
   ],
   "source": [
    "boxplot=seaborn.boxplot(x='MonthlyCharge', data=df)"
   ]
  },
  {
   "cell_type": "code",
   "execution_count": 123,
   "id": "2af9b962-674d-433c-b8cf-f12b3d451f36",
   "metadata": {
    "tags": []
   },
   "outputs": [],
   "source": [
    "#boxplot for Bandwidth_GB_Year"
   ]
  },
  {
   "cell_type": "code",
   "execution_count": 124,
   "id": "9d09adc2-62fd-4d5f-9213-63b31d292f3c",
   "metadata": {
    "tags": []
   },
   "outputs": [
    {
     "data": {
      "image/png": "[encoded data removed]",
      "text/plain": [
       "<Figure size 640x480 with 1 Axes>"
      ]
     },
     "metadata": {},
     "output_type": "display_data"
    }
   ],
   "source": [
    "boxplot=seaborn.boxplot(x='Bandwidth_GB_Year', data=df)"
   ]
  },
  {
   "cell_type": "code",
   "execution_count": 125,
   "id": "9c57b3c4-814b-4de6-bf34-0548cba9360f",
   "metadata": {
    "tags": []
   },
   "outputs": [],
   "source": [
    "#No outliers. All applicable variables have been treated for outliers. \n",
    "#Moving on to re-expression of categorical variables. "
   ]
  },
  {
   "cell_type": "code",
   "execution_count": 126,
   "id": "daade802-55f0-4d0b-985a-4d0d5f73e4fe",
   "metadata": {
    "tags": []
   },
   "outputs": [],
   "source": [
    "#Re-expression of Area"
   ]
  },
  {
   "cell_type": "code",
   "execution_count": 127,
   "id": "b05a79c7-8c5a-4a83-9179-28b047299df9",
   "metadata": {
    "tags": []
   },
   "outputs": [
    {
     "data": {
      "text/plain": [
       "array(['Urban', 'Suburban', 'Rural'], dtype=object)"
      ]
     },
     "execution_count": 127,
     "metadata": {},
     "output_type": "execute_result"
    }
   ],
   "source": [
    "df.Area.unique()"
   ]
  },
  {
   "cell_type": "code",
   "execution_count": 128,
   "id": "0a593c93-4045-4a27-9e39-2151f925ebb1",
   "metadata": {
    "tags": []
   },
   "outputs": [],
   "source": [
    "df[\"Area_numeric\"]=df[\"Area\"]"
   ]
  },
  {
   "cell_type": "code",
   "execution_count": 129,
   "id": "cbef8a80-a2f4-40bd-a640-417c9dea33b8",
   "metadata": {
    "tags": []
   },
   "outputs": [],
   "source": [
    "dict_area={\"Area_numeric\":{\"Urban\": 0, \"Suburban\": 1, \"Rural\": 2}}"
   ]
  },
  {
   "cell_type": "code",
   "execution_count": 130,
   "id": "d105cdf4-8c7a-4548-91ee-687a511ce2f3",
   "metadata": {
    "tags": []
   },
   "outputs": [],
   "source": [
    "df.replace(dict_area, inplace=True)"
   ]
  },
  {
   "cell_type": "code",
   "execution_count": 131,
   "id": "f2f95357-dbed-4d67-8784-b73ac05cad5e",
   "metadata": {
    "tags": []
   },
   "outputs": [
    {
     "name": "stdout",
     "output_type": "stream",
     "text": [
      "<class 'pandas.core.frame.DataFrame'>\n",
      "RangeIndex: 10000 entries, 0 to 9999\n",
      "Data columns (total 53 columns):\n",
      " #   Column                Non-Null Count  Dtype  \n",
      "---  ------                --------------  -----  \n",
      " 0   Unnamed: 0            10000 non-null  int64  \n",
      " 1   CaseOrder             10000 non-null  int64  \n",
      " 2   Customer_id           10000 non-null  object \n",
      " 3   Interaction           10000 non-null  object \n",
      " 4   City                  10000 non-null  object \n",
      " 5   State                 10000 non-null  object \n",
      " 6   County                10000 non-null  object \n",
      " 7   Zip                   10000 non-null  int64  \n",
      " 8   Lat                   10000 non-null  float64\n",
      " 9   Lng                   10000 non-null  float64\n",
      " 10  Population            10000 non-null  int64  \n",
      " 11  Area                  10000 non-null  object \n",
      " 12  Timezone              10000 non-null  object \n",
      " 13  Job                   10000 non-null  object \n",
      " 14  Children              10000 non-null  float64\n",
      " 15  Age                   10000 non-null  float64\n",
      " 16  Education             10000 non-null  object \n",
      " 17  Employment            10000 non-null  object \n",
      " 18  Income                10000 non-null  float64\n",
      " 19  Marital               10000 non-null  object \n",
      " 20  Gender                10000 non-null  object \n",
      " 21  Churn                 10000 non-null  object \n",
      " 22  Outage_sec_perweek    10000 non-null  float64\n",
      " 23  Email                 10000 non-null  int64  \n",
      " 24  Contacts              10000 non-null  int64  \n",
      " 25  Yearly_equip_failure  10000 non-null  int64  \n",
      " 26  Techie                10000 non-null  object \n",
      " 27  Contract              10000 non-null  object \n",
      " 28  Port_modem            10000 non-null  object \n",
      " 29  Tablet                10000 non-null  object \n",
      " 30  InternetService       10000 non-null  object \n",
      " 31  Phone                 10000 non-null  object \n",
      " 32  Multiple              10000 non-null  object \n",
      " 33  OnlineSecurity        10000 non-null  object \n",
      " 34  OnlineBackup          10000 non-null  object \n",
      " 35  DeviceProtection      10000 non-null  object \n",
      " 36  TechSupport           10000 non-null  object \n",
      " 37  StreamingTV           10000 non-null  object \n",
      " 38  StreamingMovies       10000 non-null  object \n",
      " 39  PaperlessBilling      10000 non-null  object \n",
      " 40  PaymentMethod         10000 non-null  object \n",
      " 41  Tenure                10000 non-null  float64\n",
      " 42  MonthlyCharge         10000 non-null  float64\n",
      " 43  Bandwidth_GB_Year     10000 non-null  float64\n",
      " 44  item1                 10000 non-null  int64  \n",
      " 45  item2                 10000 non-null  int64  \n",
      " 46  item3                 10000 non-null  int64  \n",
      " 47  item4                 10000 non-null  int64  \n",
      " 48  item5                 10000 non-null  int64  \n",
      " 49  item6                 10000 non-null  int64  \n",
      " 50  item7                 10000 non-null  int64  \n",
      " 51  item8                 10000 non-null  int64  \n",
      " 52  Area_numeric          10000 non-null  int64  \n",
      "dtypes: float64(9), int64(16), object(28)\n",
      "memory usage: 4.0+ MB\n"
     ]
    }
   ],
   "source": [
    "df.info()"
   ]
  },
  {
   "cell_type": "code",
   "execution_count": 132,
   "id": "e52679de-2d90-429d-9aac-1bd96568a801",
   "metadata": {
    "tags": []
   },
   "outputs": [],
   "source": [
    "#Re-expression of Employment"
   ]
  },
  {
   "cell_type": "code",
   "execution_count": 133,
   "id": "3ddf6424-653e-4468-825b-c5a5533027d5",
   "metadata": {
    "tags": []
   },
   "outputs": [
    {
     "data": {
      "text/plain": [
       "array(['Part Time', 'Retired', 'Student', 'Full Time', 'Unemployed'],\n",
       "      dtype=object)"
      ]
     },
     "execution_count": 133,
     "metadata": {},
     "output_type": "execute_result"
    }
   ],
   "source": [
    "df.Employment.unique()"
   ]
  },
  {
   "cell_type": "code",
   "execution_count": 134,
   "id": "90b3ffc8-831a-4d36-8292-9fcabd8933d1",
   "metadata": {
    "tags": []
   },
   "outputs": [],
   "source": [
    "#Re-expression of Employment "
   ]
  },
  {
   "cell_type": "code",
   "execution_count": 135,
   "id": "1ccbea67-5d47-466d-8af2-f07c7c34dbcc",
   "metadata": {
    "tags": []
   },
   "outputs": [],
   "source": [
    "df[\"Employment_numeric\"]=df[\"Employment\"]"
   ]
  },
  {
   "cell_type": "code",
   "execution_count": 136,
   "id": "fc13910b-2d9b-462d-aec6-2ade0e3c44b8",
   "metadata": {
    "tags": []
   },
   "outputs": [],
   "source": [
    "dict_emp={\"Employment_numeric\":{\"Part Time\": 0, \"Full Time\": 1, \"Student\": 2, \"Retired\": 3, \"Unemployed\": 4}}"
   ]
  },
  {
   "cell_type": "code",
   "execution_count": 137,
   "id": "0a15f9c7-8e9b-4bea-ae51-b57f426ee119",
   "metadata": {
    "tags": []
   },
   "outputs": [],
   "source": [
    "df.replace(dict_emp, inplace=True)"
   ]
  },
  {
   "cell_type": "code",
   "execution_count": 138,
   "id": "66c4b24c-8e5c-4823-a684-d6cb878aaa4e",
   "metadata": {
    "tags": []
   },
   "outputs": [
    {
     "name": "stdout",
     "output_type": "stream",
     "text": [
      "<class 'pandas.core.frame.DataFrame'>\n",
      "RangeIndex: 10000 entries, 0 to 9999\n",
      "Data columns (total 54 columns):\n",
      " #   Column                Non-Null Count  Dtype  \n",
      "---  ------                --------------  -----  \n",
      " 0   Unnamed: 0            10000 non-null  int64  \n",
      " 1   CaseOrder             10000 non-null  int64  \n",
      " 2   Customer_id           10000 non-null  object \n",
      " 3   Interaction           10000 non-null  object \n",
      " 4   City                  10000 non-null  object \n",
      " 5   State                 10000 non-null  object \n",
      " 6   County                10000 non-null  object \n",
      " 7   Zip                   10000 non-null  int64  \n",
      " 8   Lat                   10000 non-null  float64\n",
      " 9   Lng                   10000 non-null  float64\n",
      " 10  Population            10000 non-null  int64  \n",
      " 11  Area                  10000 non-null  object \n",
      " 12  Timezone              10000 non-null  object \n",
      " 13  Job                   10000 non-null  object \n",
      " 14  Children              10000 non-null  float64\n",
      " 15  Age                   10000 non-null  float64\n",
      " 16  Education             10000 non-null  object \n",
      " 17  Employment            10000 non-null  object \n",
      " 18  Income                10000 non-null  float64\n",
      " 19  Marital               10000 non-null  object \n",
      " 20  Gender                10000 non-null  object \n",
      " 21  Churn                 10000 non-null  object \n",
      " 22  Outage_sec_perweek    10000 non-null  float64\n",
      " 23  Email                 10000 non-null  int64  \n",
      " 24  Contacts              10000 non-null  int64  \n",
      " 25  Yearly_equip_failure  10000 non-null  int64  \n",
      " 26  Techie                10000 non-null  object \n",
      " 27  Contract              10000 non-null  object \n",
      " 28  Port_modem            10000 non-null  object \n",
      " 29  Tablet                10000 non-null  object \n",
      " 30  InternetService       10000 non-null  object \n",
      " 31  Phone                 10000 non-null  object \n",
      " 32  Multiple              10000 non-null  object \n",
      " 33  OnlineSecurity        10000 non-null  object \n",
      " 34  OnlineBackup          10000 non-null  object \n",
      " 35  DeviceProtection      10000 non-null  object \n",
      " 36  TechSupport           10000 non-null  object \n",
      " 37  StreamingTV           10000 non-null  object \n",
      " 38  StreamingMovies       10000 non-null  object \n",
      " 39  PaperlessBilling      10000 non-null  object \n",
      " 40  PaymentMethod         10000 non-null  object \n",
      " 41  Tenure                10000 non-null  float64\n",
      " 42  MonthlyCharge         10000 non-null  float64\n",
      " 43  Bandwidth_GB_Year     10000 non-null  float64\n",
      " 44  item1                 10000 non-null  int64  \n",
      " 45  item2                 10000 non-null  int64  \n",
      " 46  item3                 10000 non-null  int64  \n",
      " 47  item4                 10000 non-null  int64  \n",
      " 48  item5                 10000 non-null  int64  \n",
      " 49  item6                 10000 non-null  int64  \n",
      " 50  item7                 10000 non-null  int64  \n",
      " 51  item8                 10000 non-null  int64  \n",
      " 52  Area_numeric          10000 non-null  int64  \n",
      " 53  Employment_numeric    10000 non-null  int64  \n",
      "dtypes: float64(9), int64(17), object(28)\n",
      "memory usage: 4.1+ MB\n"
     ]
    }
   ],
   "source": [
    "df.info()"
   ]
  },
  {
   "cell_type": "code",
   "execution_count": 139,
   "id": "35710e52-757b-426e-a10b-e2991877f008",
   "metadata": {
    "tags": []
   },
   "outputs": [],
   "source": [
    "#Re-expression of Education"
   ]
  },
  {
   "cell_type": "code",
   "execution_count": 140,
   "id": "5ad777c1-98a0-4208-8fee-137a129b8047",
   "metadata": {
    "tags": []
   },
   "outputs": [
    {
     "data": {
      "text/plain": [
       "array([\"Master's Degree\", 'Regular High School Diploma',\n",
       "       'Doctorate Degree', 'No Schooling Completed', \"Associate's Degree\",\n",
       "       \"Bachelor's Degree\", 'Some College, Less than 1 Year',\n",
       "       'GED or Alternative Credential',\n",
       "       'Some College, 1 or More Years, No Degree',\n",
       "       '9th Grade to 12th Grade, No Diploma',\n",
       "       'Nursery School to 8th Grade', 'Professional School Degree'],\n",
       "      dtype=object)"
      ]
     },
     "execution_count": 140,
     "metadata": {},
     "output_type": "execute_result"
    }
   ],
   "source": [
    "df.Education.unique()"
   ]
  },
  {
   "cell_type": "code",
   "execution_count": 141,
   "id": "46e82e33-d240-4865-8ffc-74daf38c8ee8",
   "metadata": {
    "tags": []
   },
   "outputs": [],
   "source": [
    "df[\"Education_numeric\"]=df[\"Education\"]"
   ]
  },
  {
   "cell_type": "code",
   "execution_count": 142,
   "id": "05c55510-9bef-4e03-a3f0-45c2dc67a746",
   "metadata": {
    "scrolled": true,
    "tags": []
   },
   "outputs": [],
   "source": [
    "dict_edu={\"Education_numeric\":{\"No Schooling Completed\": 0, \"Nursery School to 8th Grade\": 1, \"9th Grade to 12th Grade, No Diploma\": 2, \"Regular High School Diploma\": 3, \"GED or Alternative Credential\": 4, \"Some College, 1 or More Years, No Degree\": 5, \"Some College, Less than 1 Year\": 6, \"Associate's Degree\": 7, \"Bachelor's Degree\": 8, \"Master's Degree\": 9, \"Doctorate Degree\": 10, \"Professional School Degree\": 11}}"
   ]
  },
  {
   "cell_type": "code",
   "execution_count": 143,
   "id": "a5035b97-2b3a-47d4-913d-ef11478c2af9",
   "metadata": {
    "tags": []
   },
   "outputs": [],
   "source": [
    "df.replace(dict_edu, inplace=True)"
   ]
  },
  {
   "cell_type": "code",
   "execution_count": 144,
   "id": "de940d68-a8af-4943-9c59-92e82082264a",
   "metadata": {
    "tags": []
   },
   "outputs": [
    {
     "name": "stdout",
     "output_type": "stream",
     "text": [
      "<class 'pandas.core.frame.DataFrame'>\n",
      "RangeIndex: 10000 entries, 0 to 9999\n",
      "Data columns (total 55 columns):\n",
      " #   Column                Non-Null Count  Dtype  \n",
      "---  ------                --------------  -----  \n",
      " 0   Unnamed: 0            10000 non-null  int64  \n",
      " 1   CaseOrder             10000 non-null  int64  \n",
      " 2   Customer_id           10000 non-null  object \n",
      " 3   Interaction           10000 non-null  object \n",
      " 4   City                  10000 non-null  object \n",
      " 5   State                 10000 non-null  object \n",
      " 6   County                10000 non-null  object \n",
      " 7   Zip                   10000 non-null  int64  \n",
      " 8   Lat                   10000 non-null  float64\n",
      " 9   Lng                   10000 non-null  float64\n",
      " 10  Population            10000 non-null  int64  \n",
      " 11  Area                  10000 non-null  object \n",
      " 12  Timezone              10000 non-null  object \n",
      " 13  Job                   10000 non-null  object \n",
      " 14  Children              10000 non-null  float64\n",
      " 15  Age                   10000 non-null  float64\n",
      " 16  Education             10000 non-null  object \n",
      " 17  Employment            10000 non-null  object \n",
      " 18  Income                10000 non-null  float64\n",
      " 19  Marital               10000 non-null  object \n",
      " 20  Gender                10000 non-null  object \n",
      " 21  Churn                 10000 non-null  object \n",
      " 22  Outage_sec_perweek    10000 non-null  float64\n",
      " 23  Email                 10000 non-null  int64  \n",
      " 24  Contacts              10000 non-null  int64  \n",
      " 25  Yearly_equip_failure  10000 non-null  int64  \n",
      " 26  Techie                10000 non-null  object \n",
      " 27  Contract              10000 non-null  object \n",
      " 28  Port_modem            10000 non-null  object \n",
      " 29  Tablet                10000 non-null  object \n",
      " 30  InternetService       10000 non-null  object \n",
      " 31  Phone                 10000 non-null  object \n",
      " 32  Multiple              10000 non-null  object \n",
      " 33  OnlineSecurity        10000 non-null  object \n",
      " 34  OnlineBackup          10000 non-null  object \n",
      " 35  DeviceProtection      10000 non-null  object \n",
      " 36  TechSupport           10000 non-null  object \n",
      " 37  StreamingTV           10000 non-null  object \n",
      " 38  StreamingMovies       10000 non-null  object \n",
      " 39  PaperlessBilling      10000 non-null  object \n",
      " 40  PaymentMethod         10000 non-null  object \n",
      " 41  Tenure                10000 non-null  float64\n",
      " 42  MonthlyCharge         10000 non-null  float64\n",
      " 43  Bandwidth_GB_Year     10000 non-null  float64\n",
      " 44  item1                 10000 non-null  int64  \n",
      " 45  item2                 10000 non-null  int64  \n",
      " 46  item3                 10000 non-null  int64  \n",
      " 47  item4                 10000 non-null  int64  \n",
      " 48  item5                 10000 non-null  int64  \n",
      " 49  item6                 10000 non-null  int64  \n",
      " 50  item7                 10000 non-null  int64  \n",
      " 51  item8                 10000 non-null  int64  \n",
      " 52  Area_numeric          10000 non-null  int64  \n",
      " 53  Employment_numeric    10000 non-null  int64  \n",
      " 54  Education_numeric     10000 non-null  int64  \n",
      "dtypes: float64(9), int64(18), object(28)\n",
      "memory usage: 4.2+ MB\n"
     ]
    }
   ],
   "source": [
    "df.info()"
   ]
  },
  {
   "cell_type": "code",
   "execution_count": 145,
   "id": "2ece1c40-8e2f-40b8-b8c5-cea28a9cfe7a",
   "metadata": {
    "tags": []
   },
   "outputs": [],
   "source": [
    "#Re-expression of Marital "
   ]
  },
  {
   "cell_type": "code",
   "execution_count": 146,
   "id": "6c777e4e-a36c-416e-95c6-2b0b8acc9893",
   "metadata": {
    "tags": []
   },
   "outputs": [
    {
     "data": {
      "text/plain": [
       "array(['Widowed', 'Married', 'Separated', 'Never Married', 'Divorced'],\n",
       "      dtype=object)"
      ]
     },
     "execution_count": 146,
     "metadata": {},
     "output_type": "execute_result"
    }
   ],
   "source": [
    "df.Marital.unique()"
   ]
  },
  {
   "cell_type": "code",
   "execution_count": 147,
   "id": "e637f338-c830-42bb-8f0a-904ed0adf885",
   "metadata": {
    "tags": []
   },
   "outputs": [],
   "source": [
    "df[\"Marital_numeric\"]=df[\"Marital\"]"
   ]
  },
  {
   "cell_type": "code",
   "execution_count": 148,
   "id": "71f0c5d3-66db-44a8-a74f-eefc17a597c6",
   "metadata": {
    "tags": []
   },
   "outputs": [],
   "source": [
    "dict_mar={\"Marital_numeric\":{\"Never Married\":0, \"Married\":1, \"Separated\":2, \"Divorced\":3, \"Widowed\":4}}"
   ]
  },
  {
   "cell_type": "code",
   "execution_count": 149,
   "id": "ca91b432-9913-4016-b777-c46ddb50fc6c",
   "metadata": {
    "tags": []
   },
   "outputs": [],
   "source": [
    "df.replace(dict_mar, inplace=True)"
   ]
  },
  {
   "cell_type": "code",
   "execution_count": 150,
   "id": "66d12e16-05e9-4bed-bb44-e3dce3ba0c9e",
   "metadata": {
    "tags": []
   },
   "outputs": [
    {
     "name": "stdout",
     "output_type": "stream",
     "text": [
      "<class 'pandas.core.frame.DataFrame'>\n",
      "RangeIndex: 10000 entries, 0 to 9999\n",
      "Data columns (total 56 columns):\n",
      " #   Column                Non-Null Count  Dtype  \n",
      "---  ------                --------------  -----  \n",
      " 0   Unnamed: 0            10000 non-null  int64  \n",
      " 1   CaseOrder             10000 non-null  int64  \n",
      " 2   Customer_id           10000 non-null  object \n",
      " 3   Interaction           10000 non-null  object \n",
      " 4   City                  10000 non-null  object \n",
      " 5   State                 10000 non-null  object \n",
      " 6   County                10000 non-null  object \n",
      " 7   Zip                   10000 non-null  int64  \n",
      " 8   Lat                   10000 non-null  float64\n",
      " 9   Lng                   10000 non-null  float64\n",
      " 10  Population            10000 non-null  int64  \n",
      " 11  Area                  10000 non-null  object \n",
      " 12  Timezone              10000 non-null  object \n",
      " 13  Job                   10000 non-null  object \n",
      " 14  Children              10000 non-null  float64\n",
      " 15  Age                   10000 non-null  float64\n",
      " 16  Education             10000 non-null  object \n",
      " 17  Employment            10000 non-null  object \n",
      " 18  Income                10000 non-null  float64\n",
      " 19  Marital               10000 non-null  object \n",
      " 20  Gender                10000 non-null  object \n",
      " 21  Churn                 10000 non-null  object \n",
      " 22  Outage_sec_perweek    10000 non-null  float64\n",
      " 23  Email                 10000 non-null  int64  \n",
      " 24  Contacts              10000 non-null  int64  \n",
      " 25  Yearly_equip_failure  10000 non-null  int64  \n",
      " 26  Techie                10000 non-null  object \n",
      " 27  Contract              10000 non-null  object \n",
      " 28  Port_modem            10000 non-null  object \n",
      " 29  Tablet                10000 non-null  object \n",
      " 30  InternetService       10000 non-null  object \n",
      " 31  Phone                 10000 non-null  object \n",
      " 32  Multiple              10000 non-null  object \n",
      " 33  OnlineSecurity        10000 non-null  object \n",
      " 34  OnlineBackup          10000 non-null  object \n",
      " 35  DeviceProtection      10000 non-null  object \n",
      " 36  TechSupport           10000 non-null  object \n",
      " 37  StreamingTV           10000 non-null  object \n",
      " 38  StreamingMovies       10000 non-null  object \n",
      " 39  PaperlessBilling      10000 non-null  object \n",
      " 40  PaymentMethod         10000 non-null  object \n",
      " 41  Tenure                10000 non-null  float64\n",
      " 42  MonthlyCharge         10000 non-null  float64\n",
      " 43  Bandwidth_GB_Year     10000 non-null  float64\n",
      " 44  item1                 10000 non-null  int64  \n",
      " 45  item2                 10000 non-null  int64  \n",
      " 46  item3                 10000 non-null  int64  \n",
      " 47  item4                 10000 non-null  int64  \n",
      " 48  item5                 10000 non-null  int64  \n",
      " 49  item6                 10000 non-null  int64  \n",
      " 50  item7                 10000 non-null  int64  \n",
      " 51  item8                 10000 non-null  int64  \n",
      " 52  Area_numeric          10000 non-null  int64  \n",
      " 53  Employment_numeric    10000 non-null  int64  \n",
      " 54  Education_numeric     10000 non-null  int64  \n",
      " 55  Marital_numeric       10000 non-null  int64  \n",
      "dtypes: float64(9), int64(19), object(28)\n",
      "memory usage: 4.3+ MB\n"
     ]
    }
   ],
   "source": [
    "df.info()"
   ]
  },
  {
   "cell_type": "code",
   "execution_count": 151,
   "id": "a99ac861-a7a8-4085-981d-ffa9c7f45ca4",
   "metadata": {
    "tags": []
   },
   "outputs": [],
   "source": [
    "#Re-expression of Gender"
   ]
  },
  {
   "cell_type": "code",
   "execution_count": 152,
   "id": "3aa6bbbc-51c4-411d-97d5-04a09c3eecff",
   "metadata": {
    "tags": []
   },
   "outputs": [
    {
     "data": {
      "text/plain": [
       "array(['Male', 'Female', 'Prefer not to answer'], dtype=object)"
      ]
     },
     "execution_count": 152,
     "metadata": {},
     "output_type": "execute_result"
    }
   ],
   "source": [
    "df.Gender.unique()"
   ]
  },
  {
   "cell_type": "code",
   "execution_count": 153,
   "id": "e4f3eebe-ef98-4b30-a84b-69ea05912afc",
   "metadata": {
    "tags": []
   },
   "outputs": [],
   "source": [
    "df[\"Gender_numeric\"]=df[\"Gender\"]"
   ]
  },
  {
   "cell_type": "code",
   "execution_count": 154,
   "id": "032201f0-55fe-45c7-9a55-ce097b06b50c",
   "metadata": {
    "tags": []
   },
   "outputs": [],
   "source": [
    "dict_gen={\"Gender_numeric\":{\"Prefer not to answer\": 0, \"Male\": 1, \"Female\": 2}}"
   ]
  },
  {
   "cell_type": "code",
   "execution_count": 155,
   "id": "7fd7865f-1bde-4e74-ba50-bc46de0b638e",
   "metadata": {
    "tags": []
   },
   "outputs": [],
   "source": [
    "df.replace(dict_gen, inplace=True)"
   ]
  },
  {
   "cell_type": "code",
   "execution_count": 156,
   "id": "ae3b59b2-11a4-4401-81d0-d92505a3ae83",
   "metadata": {
    "tags": []
   },
   "outputs": [
    {
     "name": "stdout",
     "output_type": "stream",
     "text": [
      "<class 'pandas.core.frame.DataFrame'>\n",
      "RangeIndex: 10000 entries, 0 to 9999\n",
      "Data columns (total 57 columns):\n",
      " #   Column                Non-Null Count  Dtype  \n",
      "---  ------                --------------  -----  \n",
      " 0   Unnamed: 0            10000 non-null  int64  \n",
      " 1   CaseOrder             10000 non-null  int64  \n",
      " 2   Customer_id           10000 non-null  object \n",
      " 3   Interaction           10000 non-null  object \n",
      " 4   City                  10000 non-null  object \n",
      " 5   State                 10000 non-null  object \n",
      " 6   County                10000 non-null  object \n",
      " 7   Zip                   10000 non-null  int64  \n",
      " 8   Lat                   10000 non-null  float64\n",
      " 9   Lng                   10000 non-null  float64\n",
      " 10  Population            10000 non-null  int64  \n",
      " 11  Area                  10000 non-null  object \n",
      " 12  Timezone              10000 non-null  object \n",
      " 13  Job                   10000 non-null  object \n",
      " 14  Children              10000 non-null  float64\n",
      " 15  Age                   10000 non-null  float64\n",
      " 16  Education             10000 non-null  object \n",
      " 17  Employment            10000 non-null  object \n",
      " 18  Income                10000 non-null  float64\n",
      " 19  Marital               10000 non-null  object \n",
      " 20  Gender                10000 non-null  object \n",
      " 21  Churn                 10000 non-null  object \n",
      " 22  Outage_sec_perweek    10000 non-null  float64\n",
      " 23  Email                 10000 non-null  int64  \n",
      " 24  Contacts              10000 non-null  int64  \n",
      " 25  Yearly_equip_failure  10000 non-null  int64  \n",
      " 26  Techie                10000 non-null  object \n",
      " 27  Contract              10000 non-null  object \n",
      " 28  Port_modem            10000 non-null  object \n",
      " 29  Tablet                10000 non-null  object \n",
      " 30  InternetService       10000 non-null  object \n",
      " 31  Phone                 10000 non-null  object \n",
      " 32  Multiple              10000 non-null  object \n",
      " 33  OnlineSecurity        10000 non-null  object \n",
      " 34  OnlineBackup          10000 non-null  object \n",
      " 35  DeviceProtection      10000 non-null  object \n",
      " 36  TechSupport           10000 non-null  object \n",
      " 37  StreamingTV           10000 non-null  object \n",
      " 38  StreamingMovies       10000 non-null  object \n",
      " 39  PaperlessBilling      10000 non-null  object \n",
      " 40  PaymentMethod         10000 non-null  object \n",
      " 41  Tenure                10000 non-null  float64\n",
      " 42  MonthlyCharge         10000 non-null  float64\n",
      " 43  Bandwidth_GB_Year     10000 non-null  float64\n",
      " 44  item1                 10000 non-null  int64  \n",
      " 45  item2                 10000 non-null  int64  \n",
      " 46  item3                 10000 non-null  int64  \n",
      " 47  item4                 10000 non-null  int64  \n",
      " 48  item5                 10000 non-null  int64  \n",
      " 49  item6                 10000 non-null  int64  \n",
      " 50  item7                 10000 non-null  int64  \n",
      " 51  item8                 10000 non-null  int64  \n",
      " 52  Area_numeric          10000 non-null  int64  \n",
      " 53  Employment_numeric    10000 non-null  int64  \n",
      " 54  Education_numeric     10000 non-null  int64  \n",
      " 55  Marital_numeric       10000 non-null  int64  \n",
      " 56  Gender_numeric        10000 non-null  int64  \n",
      "dtypes: float64(9), int64(20), object(28)\n",
      "memory usage: 4.3+ MB\n"
     ]
    }
   ],
   "source": [
    "df.info()"
   ]
  },
  {
   "cell_type": "code",
   "execution_count": 157,
   "id": "47e0934c-1ed8-4192-a3c3-23a437edd345",
   "metadata": {
    "tags": []
   },
   "outputs": [],
   "source": [
    "#Re-expression of Churn"
   ]
  },
  {
   "cell_type": "code",
   "execution_count": 158,
   "id": "7c0f7b92-92e8-4817-a02b-41acefbdb1c8",
   "metadata": {
    "tags": []
   },
   "outputs": [
    {
     "data": {
      "text/plain": [
       "array(['No', 'Yes'], dtype=object)"
      ]
     },
     "execution_count": 158,
     "metadata": {},
     "output_type": "execute_result"
    }
   ],
   "source": [
    "df.Churn.unique()"
   ]
  },
  {
   "cell_type": "code",
   "execution_count": 159,
   "id": "b47b86d3-bd3e-4026-84f4-35af1f45bc61",
   "metadata": {
    "tags": []
   },
   "outputs": [],
   "source": [
    "df[\"Churn_numeric\"]=df[\"Churn\"]"
   ]
  },
  {
   "cell_type": "code",
   "execution_count": 160,
   "id": "5826e747-c359-4670-9d81-14f47b1fbdbc",
   "metadata": {
    "tags": []
   },
   "outputs": [],
   "source": [
    "dict_chu={\"Churn_numeric\":{\"No\": 0, \"Yes\": 1}}"
   ]
  },
  {
   "cell_type": "code",
   "execution_count": 161,
   "id": "be0488e8-63a0-4ba4-b52e-1784247deea0",
   "metadata": {
    "tags": []
   },
   "outputs": [],
   "source": [
    "df.replace(dict_chu, inplace=True)"
   ]
  },
  {
   "cell_type": "code",
   "execution_count": 162,
   "id": "4bae24d6-437a-4125-bc8e-ef982d7ad3da",
   "metadata": {
    "tags": []
   },
   "outputs": [
    {
     "name": "stdout",
     "output_type": "stream",
     "text": [
      "<class 'pandas.core.frame.DataFrame'>\n",
      "RangeIndex: 10000 entries, 0 to 9999\n",
      "Data columns (total 58 columns):\n",
      " #   Column                Non-Null Count  Dtype  \n",
      "---  ------                --------------  -----  \n",
      " 0   Unnamed: 0            10000 non-null  int64  \n",
      " 1   CaseOrder             10000 non-null  int64  \n",
      " 2   Customer_id           10000 non-null  object \n",
      " 3   Interaction           10000 non-null  object \n",
      " 4   City                  10000 non-null  object \n",
      " 5   State                 10000 non-null  object \n",
      " 6   County                10000 non-null  object \n",
      " 7   Zip                   10000 non-null  int64  \n",
      " 8   Lat                   10000 non-null  float64\n",
      " 9   Lng                   10000 non-null  float64\n",
      " 10  Population            10000 non-null  int64  \n",
      " 11  Area                  10000 non-null  object \n",
      " 12  Timezone              10000 non-null  object \n",
      " 13  Job                   10000 non-null  object \n",
      " 14  Children              10000 non-null  float64\n",
      " 15  Age                   10000 non-null  float64\n",
      " 16  Education             10000 non-null  object \n",
      " 17  Employment            10000 non-null  object \n",
      " 18  Income                10000 non-null  float64\n",
      " 19  Marital               10000 non-null  object \n",
      " 20  Gender                10000 non-null  object \n",
      " 21  Churn                 10000 non-null  object \n",
      " 22  Outage_sec_perweek    10000 non-null  float64\n",
      " 23  Email                 10000 non-null  int64  \n",
      " 24  Contacts              10000 non-null  int64  \n",
      " 25  Yearly_equip_failure  10000 non-null  int64  \n",
      " 26  Techie                10000 non-null  object \n",
      " 27  Contract              10000 non-null  object \n",
      " 28  Port_modem            10000 non-null  object \n",
      " 29  Tablet                10000 non-null  object \n",
      " 30  InternetService       10000 non-null  object \n",
      " 31  Phone                 10000 non-null  object \n",
      " 32  Multiple              10000 non-null  object \n",
      " 33  OnlineSecurity        10000 non-null  object \n",
      " 34  OnlineBackup          10000 non-null  object \n",
      " 35  DeviceProtection      10000 non-null  object \n",
      " 36  TechSupport           10000 non-null  object \n",
      " 37  StreamingTV           10000 non-null  object \n",
      " 38  StreamingMovies       10000 non-null  object \n",
      " 39  PaperlessBilling      10000 non-null  object \n",
      " 40  PaymentMethod         10000 non-null  object \n",
      " 41  Tenure                10000 non-null  float64\n",
      " 42  MonthlyCharge         10000 non-null  float64\n",
      " 43  Bandwidth_GB_Year     10000 non-null  float64\n",
      " 44  item1                 10000 non-null  int64  \n",
      " 45  item2                 10000 non-null  int64  \n",
      " 46  item3                 10000 non-null  int64  \n",
      " 47  item4                 10000 non-null  int64  \n",
      " 48  item5                 10000 non-null  int64  \n",
      " 49  item6                 10000 non-null  int64  \n",
      " 50  item7                 10000 non-null  int64  \n",
      " 51  item8                 10000 non-null  int64  \n",
      " 52  Area_numeric          10000 non-null  int64  \n",
      " 53  Employment_numeric    10000 non-null  int64  \n",
      " 54  Education_numeric     10000 non-null  int64  \n",
      " 55  Marital_numeric       10000 non-null  int64  \n",
      " 56  Gender_numeric        10000 non-null  int64  \n",
      " 57  Churn_numeric         10000 non-null  int64  \n",
      "dtypes: float64(9), int64(21), object(28)\n",
      "memory usage: 4.4+ MB\n"
     ]
    }
   ],
   "source": [
    "df.info()"
   ]
  },
  {
   "cell_type": "code",
   "execution_count": 163,
   "id": "62b8ad41-bfd8-4640-9c36-bb22cdf99cf6",
   "metadata": {
    "tags": []
   },
   "outputs": [],
   "source": [
    "#Re-expression of Techie"
   ]
  },
  {
   "cell_type": "code",
   "execution_count": 164,
   "id": "21057b15-fd15-4481-84f2-9227b69a5b33",
   "metadata": {
    "tags": []
   },
   "outputs": [
    {
     "data": {
      "text/plain": [
       "array(['No', 'Yes'], dtype=object)"
      ]
     },
     "execution_count": 164,
     "metadata": {},
     "output_type": "execute_result"
    }
   ],
   "source": [
    "df.Techie.unique()"
   ]
  },
  {
   "cell_type": "code",
   "execution_count": 165,
   "id": "be55723b-2da4-4ec1-bb46-4645be04369d",
   "metadata": {
    "tags": []
   },
   "outputs": [],
   "source": [
    "df[\"Techie_numeric\"]=df[\"Techie\"]"
   ]
  },
  {
   "cell_type": "code",
   "execution_count": 166,
   "id": "21bac7bb-f7e8-40ae-a19f-b035334ae1ac",
   "metadata": {
    "tags": []
   },
   "outputs": [],
   "source": [
    "dict_tec={\"Techie_numeric\":{\"No\": 0, \"Yes\": 1, 'Unknown': 3}}"
   ]
  },
  {
   "cell_type": "code",
   "execution_count": 167,
   "id": "591f8eff-9c08-4ed7-bf58-77050fbe9195",
   "metadata": {
    "tags": []
   },
   "outputs": [],
   "source": [
    "df.replace(dict_tec, inplace=True)"
   ]
  },
  {
   "cell_type": "code",
   "execution_count": 168,
   "id": "05e7ed09-9bcb-4b14-936c-06959ab62bfe",
   "metadata": {
    "tags": []
   },
   "outputs": [
    {
     "name": "stdout",
     "output_type": "stream",
     "text": [
      "<class 'pandas.core.frame.DataFrame'>\n",
      "RangeIndex: 10000 entries, 0 to 9999\n",
      "Data columns (total 59 columns):\n",
      " #   Column                Non-Null Count  Dtype  \n",
      "---  ------                --------------  -----  \n",
      " 0   Unnamed: 0            10000 non-null  int64  \n",
      " 1   CaseOrder             10000 non-null  int64  \n",
      " 2   Customer_id           10000 non-null  object \n",
      " 3   Interaction           10000 non-null  object \n",
      " 4   City                  10000 non-null  object \n",
      " 5   State                 10000 non-null  object \n",
      " 6   County                10000 non-null  object \n",
      " 7   Zip                   10000 non-null  int64  \n",
      " 8   Lat                   10000 non-null  float64\n",
      " 9   Lng                   10000 non-null  float64\n",
      " 10  Population            10000 non-null  int64  \n",
      " 11  Area                  10000 non-null  object \n",
      " 12  Timezone              10000 non-null  object \n",
      " 13  Job                   10000 non-null  object \n",
      " 14  Children              10000 non-null  float64\n",
      " 15  Age                   10000 non-null  float64\n",
      " 16  Education             10000 non-null  object \n",
      " 17  Employment            10000 non-null  object \n",
      " 18  Income                10000 non-null  float64\n",
      " 19  Marital               10000 non-null  object \n",
      " 20  Gender                10000 non-null  object \n",
      " 21  Churn                 10000 non-null  object \n",
      " 22  Outage_sec_perweek    10000 non-null  float64\n",
      " 23  Email                 10000 non-null  int64  \n",
      " 24  Contacts              10000 non-null  int64  \n",
      " 25  Yearly_equip_failure  10000 non-null  int64  \n",
      " 26  Techie                10000 non-null  object \n",
      " 27  Contract              10000 non-null  object \n",
      " 28  Port_modem            10000 non-null  object \n",
      " 29  Tablet                10000 non-null  object \n",
      " 30  InternetService       10000 non-null  object \n",
      " 31  Phone                 10000 non-null  object \n",
      " 32  Multiple              10000 non-null  object \n",
      " 33  OnlineSecurity        10000 non-null  object \n",
      " 34  OnlineBackup          10000 non-null  object \n",
      " 35  DeviceProtection      10000 non-null  object \n",
      " 36  TechSupport           10000 non-null  object \n",
      " 37  StreamingTV           10000 non-null  object \n",
      " 38  StreamingMovies       10000 non-null  object \n",
      " 39  PaperlessBilling      10000 non-null  object \n",
      " 40  PaymentMethod         10000 non-null  object \n",
      " 41  Tenure                10000 non-null  float64\n",
      " 42  MonthlyCharge         10000 non-null  float64\n",
      " 43  Bandwidth_GB_Year     10000 non-null  float64\n",
      " 44  item1                 10000 non-null  int64  \n",
      " 45  item2                 10000 non-null  int64  \n",
      " 46  item3                 10000 non-null  int64  \n",
      " 47  item4                 10000 non-null  int64  \n",
      " 48  item5                 10000 non-null  int64  \n",
      " 49  item6                 10000 non-null  int64  \n",
      " 50  item7                 10000 non-null  int64  \n",
      " 51  item8                 10000 non-null  int64  \n",
      " 52  Area_numeric          10000 non-null  int64  \n",
      " 53  Employment_numeric    10000 non-null  int64  \n",
      " 54  Education_numeric     10000 non-null  int64  \n",
      " 55  Marital_numeric       10000 non-null  int64  \n",
      " 56  Gender_numeric        10000 non-null  int64  \n",
      " 57  Churn_numeric         10000 non-null  int64  \n",
      " 58  Techie_numeric        10000 non-null  int64  \n",
      "dtypes: float64(9), int64(22), object(28)\n",
      "memory usage: 4.5+ MB\n"
     ]
    }
   ],
   "source": [
    "df.info()"
   ]
  },
  {
   "cell_type": "code",
   "execution_count": 169,
   "id": "0de0b02c-c2f9-4c36-aef3-8db4698c25f1",
   "metadata": {
    "tags": []
   },
   "outputs": [],
   "source": [
    "#Re-expression of Contract"
   ]
  },
  {
   "cell_type": "code",
   "execution_count": 170,
   "id": "11bb93c4-b3db-4013-934a-9f07a6e32e4e",
   "metadata": {
    "tags": []
   },
   "outputs": [
    {
     "data": {
      "text/plain": [
       "array(['One year', 'Month-to-month', 'Two Year'], dtype=object)"
      ]
     },
     "execution_count": 170,
     "metadata": {},
     "output_type": "execute_result"
    }
   ],
   "source": [
    "df.Contract.unique()"
   ]
  },
  {
   "cell_type": "code",
   "execution_count": 171,
   "id": "23afcd5d-c660-4f35-b070-fa6a6b032759",
   "metadata": {
    "tags": []
   },
   "outputs": [],
   "source": [
    "df[\"Contract_numeric\"]=df[\"Contract\"]"
   ]
  },
  {
   "cell_type": "code",
   "execution_count": 172,
   "id": "403e30ce-fe64-423e-972d-d9fd53748136",
   "metadata": {
    "tags": []
   },
   "outputs": [],
   "source": [
    "dict_con={\"Contract_numeric\":{\"One year\": 0, \"Two Year\": 1, \"Month-to-month\": 2}}"
   ]
  },
  {
   "cell_type": "code",
   "execution_count": 173,
   "id": "c731a5d5-9bce-4c33-a069-dfaa700366be",
   "metadata": {
    "tags": []
   },
   "outputs": [],
   "source": [
    "df.replace(dict_con, inplace=True)"
   ]
  },
  {
   "cell_type": "code",
   "execution_count": 174,
   "id": "64db4b2d-3c6d-4662-9ce7-d54295dde485",
   "metadata": {
    "tags": []
   },
   "outputs": [
    {
     "name": "stdout",
     "output_type": "stream",
     "text": [
      "<class 'pandas.core.frame.DataFrame'>\n",
      "RangeIndex: 10000 entries, 0 to 9999\n",
      "Data columns (total 60 columns):\n",
      " #   Column                Non-Null Count  Dtype  \n",
      "---  ------                --------------  -----  \n",
      " 0   Unnamed: 0            10000 non-null  int64  \n",
      " 1   CaseOrder             10000 non-null  int64  \n",
      " 2   Customer_id           10000 non-null  object \n",
      " 3   Interaction           10000 non-null  object \n",
      " 4   City                  10000 non-null  object \n",
      " 5   State                 10000 non-null  object \n",
      " 6   County                10000 non-null  object \n",
      " 7   Zip                   10000 non-null  int64  \n",
      " 8   Lat                   10000 non-null  float64\n",
      " 9   Lng                   10000 non-null  float64\n",
      " 10  Population            10000 non-null  int64  \n",
      " 11  Area                  10000 non-null  object \n",
      " 12  Timezone              10000 non-null  object \n",
      " 13  Job                   10000 non-null  object \n",
      " 14  Children              10000 non-null  float64\n",
      " 15  Age                   10000 non-null  float64\n",
      " 16  Education             10000 non-null  object \n",
      " 17  Employment            10000 non-null  object \n",
      " 18  Income                10000 non-null  float64\n",
      " 19  Marital               10000 non-null  object \n",
      " 20  Gender                10000 non-null  object \n",
      " 21  Churn                 10000 non-null  object \n",
      " 22  Outage_sec_perweek    10000 non-null  float64\n",
      " 23  Email                 10000 non-null  int64  \n",
      " 24  Contacts              10000 non-null  int64  \n",
      " 25  Yearly_equip_failure  10000 non-null  int64  \n",
      " 26  Techie                10000 non-null  object \n",
      " 27  Contract              10000 non-null  object \n",
      " 28  Port_modem            10000 non-null  object \n",
      " 29  Tablet                10000 non-null  object \n",
      " 30  InternetService       10000 non-null  object \n",
      " 31  Phone                 10000 non-null  object \n",
      " 32  Multiple              10000 non-null  object \n",
      " 33  OnlineSecurity        10000 non-null  object \n",
      " 34  OnlineBackup          10000 non-null  object \n",
      " 35  DeviceProtection      10000 non-null  object \n",
      " 36  TechSupport           10000 non-null  object \n",
      " 37  StreamingTV           10000 non-null  object \n",
      " 38  StreamingMovies       10000 non-null  object \n",
      " 39  PaperlessBilling      10000 non-null  object \n",
      " 40  PaymentMethod         10000 non-null  object \n",
      " 41  Tenure                10000 non-null  float64\n",
      " 42  MonthlyCharge         10000 non-null  float64\n",
      " 43  Bandwidth_GB_Year     10000 non-null  float64\n",
      " 44  item1                 10000 non-null  int64  \n",
      " 45  item2                 10000 non-null  int64  \n",
      " 46  item3                 10000 non-null  int64  \n",
      " 47  item4                 10000 non-null  int64  \n",
      " 48  item5                 10000 non-null  int64  \n",
      " 49  item6                 10000 non-null  int64  \n",
      " 50  item7                 10000 non-null  int64  \n",
      " 51  item8                 10000 non-null  int64  \n",
      " 52  Area_numeric          10000 non-null  int64  \n",
      " 53  Employment_numeric    10000 non-null  int64  \n",
      " 54  Education_numeric     10000 non-null  int64  \n",
      " 55  Marital_numeric       10000 non-null  int64  \n",
      " 56  Gender_numeric        10000 non-null  int64  \n",
      " 57  Churn_numeric         10000 non-null  int64  \n",
      " 58  Techie_numeric        10000 non-null  int64  \n",
      " 59  Contract_numeric      10000 non-null  int64  \n",
      "dtypes: float64(9), int64(23), object(28)\n",
      "memory usage: 4.6+ MB\n"
     ]
    }
   ],
   "source": [
    "df.info()"
   ]
  },
  {
   "cell_type": "code",
   "execution_count": 175,
   "id": "8e606db1-15d7-434a-8c9e-b7a3cf501bd2",
   "metadata": {
    "tags": []
   },
   "outputs": [],
   "source": [
    "#Re-expression of Port_modem"
   ]
  },
  {
   "cell_type": "code",
   "execution_count": 176,
   "id": "31014cbb-e925-45c6-97e6-19bb1e117d0d",
   "metadata": {
    "tags": []
   },
   "outputs": [
    {
     "data": {
      "text/plain": [
       "array(['Yes', 'No'], dtype=object)"
      ]
     },
     "execution_count": 176,
     "metadata": {},
     "output_type": "execute_result"
    }
   ],
   "source": [
    "df.Port_modem.unique()"
   ]
  },
  {
   "cell_type": "code",
   "execution_count": 177,
   "id": "708c5b25-6e4d-42b7-ad1c-4f2dba6ba576",
   "metadata": {
    "tags": []
   },
   "outputs": [],
   "source": [
    "df[\"Port_modem_numeric\"]=df[\"Port_modem\"]"
   ]
  },
  {
   "cell_type": "code",
   "execution_count": 178,
   "id": "243f3182-eaa7-4a01-aa4f-7b06bfc1acfe",
   "metadata": {
    "tags": []
   },
   "outputs": [],
   "source": [
    "dict_por={\"Port_modem_numeric\":{\"No\": 0, \"Yes\": 1}}"
   ]
  },
  {
   "cell_type": "code",
   "execution_count": 179,
   "id": "d7b7c1e5-f083-4a97-b666-b48fb71e9200",
   "metadata": {
    "tags": []
   },
   "outputs": [],
   "source": [
    "df.replace(dict_por, inplace=True)"
   ]
  },
  {
   "cell_type": "code",
   "execution_count": 180,
   "id": "7d9f06af-e4b4-4952-9a2d-e34ce3e41751",
   "metadata": {
    "tags": []
   },
   "outputs": [
    {
     "name": "stdout",
     "output_type": "stream",
     "text": [
      "<class 'pandas.core.frame.DataFrame'>\n",
      "RangeIndex: 10000 entries, 0 to 9999\n",
      "Data columns (total 61 columns):\n",
      " #   Column                Non-Null Count  Dtype  \n",
      "---  ------                --------------  -----  \n",
      " 0   Unnamed: 0            10000 non-null  int64  \n",
      " 1   CaseOrder             10000 non-null  int64  \n",
      " 2   Customer_id           10000 non-null  object \n",
      " 3   Interaction           10000 non-null  object \n",
      " 4   City                  10000 non-null  object \n",
      " 5   State                 10000 non-null  object \n",
      " 6   County                10000 non-null  object \n",
      " 7   Zip                   10000 non-null  int64  \n",
      " 8   Lat                   10000 non-null  float64\n",
      " 9   Lng                   10000 non-null  float64\n",
      " 10  Population            10000 non-null  int64  \n",
      " 11  Area                  10000 non-null  object \n",
      " 12  Timezone              10000 non-null  object \n",
      " 13  Job                   10000 non-null  object \n",
      " 14  Children              10000 non-null  float64\n",
      " 15  Age                   10000 non-null  float64\n",
      " 16  Education             10000 non-null  object \n",
      " 17  Employment            10000 non-null  object \n",
      " 18  Income                10000 non-null  float64\n",
      " 19  Marital               10000 non-null  object \n",
      " 20  Gender                10000 non-null  object \n",
      " 21  Churn                 10000 non-null  object \n",
      " 22  Outage_sec_perweek    10000 non-null  float64\n",
      " 23  Email                 10000 non-null  int64  \n",
      " 24  Contacts              10000 non-null  int64  \n",
      " 25  Yearly_equip_failure  10000 non-null  int64  \n",
      " 26  Techie                10000 non-null  object \n",
      " 27  Contract              10000 non-null  object \n",
      " 28  Port_modem            10000 non-null  object \n",
      " 29  Tablet                10000 non-null  object \n",
      " 30  InternetService       10000 non-null  object \n",
      " 31  Phone                 10000 non-null  object \n",
      " 32  Multiple              10000 non-null  object \n",
      " 33  OnlineSecurity        10000 non-null  object \n",
      " 34  OnlineBackup          10000 non-null  object \n",
      " 35  DeviceProtection      10000 non-null  object \n",
      " 36  TechSupport           10000 non-null  object \n",
      " 37  StreamingTV           10000 non-null  object \n",
      " 38  StreamingMovies       10000 non-null  object \n",
      " 39  PaperlessBilling      10000 non-null  object \n",
      " 40  PaymentMethod         10000 non-null  object \n",
      " 41  Tenure                10000 non-null  float64\n",
      " 42  MonthlyCharge         10000 non-null  float64\n",
      " 43  Bandwidth_GB_Year     10000 non-null  float64\n",
      " 44  item1                 10000 non-null  int64  \n",
      " 45  item2                 10000 non-null  int64  \n",
      " 46  item3                 10000 non-null  int64  \n",
      " 47  item4                 10000 non-null  int64  \n",
      " 48  item5                 10000 non-null  int64  \n",
      " 49  item6                 10000 non-null  int64  \n",
      " 50  item7                 10000 non-null  int64  \n",
      " 51  item8                 10000 non-null  int64  \n",
      " 52  Area_numeric          10000 non-null  int64  \n",
      " 53  Employment_numeric    10000 non-null  int64  \n",
      " 54  Education_numeric     10000 non-null  int64  \n",
      " 55  Marital_numeric       10000 non-null  int64  \n",
      " 56  Gender_numeric        10000 non-null  int64  \n",
      " 57  Churn_numeric         10000 non-null  int64  \n",
      " 58  Techie_numeric        10000 non-null  int64  \n",
      " 59  Contract_numeric      10000 non-null  int64  \n",
      " 60  Port_modem_numeric    10000 non-null  int64  \n",
      "dtypes: float64(9), int64(24), object(28)\n",
      "memory usage: 4.7+ MB\n"
     ]
    }
   ],
   "source": [
    "df.info()"
   ]
  },
  {
   "cell_type": "code",
   "execution_count": 181,
   "id": "8f1bc775-cc9e-4ce0-9ecc-1f576c09509d",
   "metadata": {
    "tags": []
   },
   "outputs": [],
   "source": [
    "#Re-expression of Tablet"
   ]
  },
  {
   "cell_type": "code",
   "execution_count": 182,
   "id": "19d1f4cf-4460-48fe-afd3-bc3c37eb13b2",
   "metadata": {
    "tags": []
   },
   "outputs": [
    {
     "data": {
      "text/plain": [
       "array(['Yes', 'No'], dtype=object)"
      ]
     },
     "execution_count": 182,
     "metadata": {},
     "output_type": "execute_result"
    }
   ],
   "source": [
    "df.Tablet.unique()"
   ]
  },
  {
   "cell_type": "code",
   "execution_count": 183,
   "id": "ecca24b7-00f9-4ab0-bf01-aeb1340784e4",
   "metadata": {
    "tags": []
   },
   "outputs": [],
   "source": [
    "df[\"Tablet_numeric\"]=df[\"Tablet\"]"
   ]
  },
  {
   "cell_type": "code",
   "execution_count": 184,
   "id": "cdaaedf1-a391-4bb5-9ede-b16b20e92bb9",
   "metadata": {
    "tags": []
   },
   "outputs": [],
   "source": [
    "dict_tab={\"Tablet_numeric\":{\"No\":0, \"Yes\":1}}"
   ]
  },
  {
   "cell_type": "code",
   "execution_count": 185,
   "id": "026588be-93c4-4401-be0d-88ea1d9ea8c8",
   "metadata": {
    "tags": []
   },
   "outputs": [],
   "source": [
    "df.replace(dict_tab, inplace=True)"
   ]
  },
  {
   "cell_type": "code",
   "execution_count": 186,
   "id": "be6b8cac-0af6-4800-8289-ba6be3114829",
   "metadata": {
    "tags": []
   },
   "outputs": [
    {
     "name": "stdout",
     "output_type": "stream",
     "text": [
      "<class 'pandas.core.frame.DataFrame'>\n",
      "RangeIndex: 10000 entries, 0 to 9999\n",
      "Data columns (total 62 columns):\n",
      " #   Column                Non-Null Count  Dtype  \n",
      "---  ------                --------------  -----  \n",
      " 0   Unnamed: 0            10000 non-null  int64  \n",
      " 1   CaseOrder             10000 non-null  int64  \n",
      " 2   Customer_id           10000 non-null  object \n",
      " 3   Interaction           10000 non-null  object \n",
      " 4   City                  10000 non-null  object \n",
      " 5   State                 10000 non-null  object \n",
      " 6   County                10000 non-null  object \n",
      " 7   Zip                   10000 non-null  int64  \n",
      " 8   Lat                   10000 non-null  float64\n",
      " 9   Lng                   10000 non-null  float64\n",
      " 10  Population            10000 non-null  int64  \n",
      " 11  Area                  10000 non-null  object \n",
      " 12  Timezone              10000 non-null  object \n",
      " 13  Job                   10000 non-null  object \n",
      " 14  Children              10000 non-null  float64\n",
      " 15  Age                   10000 non-null  float64\n",
      " 16  Education             10000 non-null  object \n",
      " 17  Employment            10000 non-null  object \n",
      " 18  Income                10000 non-null  float64\n",
      " 19  Marital               10000 non-null  object \n",
      " 20  Gender                10000 non-null  object \n",
      " 21  Churn                 10000 non-null  object \n",
      " 22  Outage_sec_perweek    10000 non-null  float64\n",
      " 23  Email                 10000 non-null  int64  \n",
      " 24  Contacts              10000 non-null  int64  \n",
      " 25  Yearly_equip_failure  10000 non-null  int64  \n",
      " 26  Techie                10000 non-null  object \n",
      " 27  Contract              10000 non-null  object \n",
      " 28  Port_modem            10000 non-null  object \n",
      " 29  Tablet                10000 non-null  object \n",
      " 30  InternetService       10000 non-null  object \n",
      " 31  Phone                 10000 non-null  object \n",
      " 32  Multiple              10000 non-null  object \n",
      " 33  OnlineSecurity        10000 non-null  object \n",
      " 34  OnlineBackup          10000 non-null  object \n",
      " 35  DeviceProtection      10000 non-null  object \n",
      " 36  TechSupport           10000 non-null  object \n",
      " 37  StreamingTV           10000 non-null  object \n",
      " 38  StreamingMovies       10000 non-null  object \n",
      " 39  PaperlessBilling      10000 non-null  object \n",
      " 40  PaymentMethod         10000 non-null  object \n",
      " 41  Tenure                10000 non-null  float64\n",
      " 42  MonthlyCharge         10000 non-null  float64\n",
      " 43  Bandwidth_GB_Year     10000 non-null  float64\n",
      " 44  item1                 10000 non-null  int64  \n",
      " 45  item2                 10000 non-null  int64  \n",
      " 46  item3                 10000 non-null  int64  \n",
      " 47  item4                 10000 non-null  int64  \n",
      " 48  item5                 10000 non-null  int64  \n",
      " 49  item6                 10000 non-null  int64  \n",
      " 50  item7                 10000 non-null  int64  \n",
      " 51  item8                 10000 non-null  int64  \n",
      " 52  Area_numeric          10000 non-null  int64  \n",
      " 53  Employment_numeric    10000 non-null  int64  \n",
      " 54  Education_numeric     10000 non-null  int64  \n",
      " 55  Marital_numeric       10000 non-null  int64  \n",
      " 56  Gender_numeric        10000 non-null  int64  \n",
      " 57  Churn_numeric         10000 non-null  int64  \n",
      " 58  Techie_numeric        10000 non-null  int64  \n",
      " 59  Contract_numeric      10000 non-null  int64  \n",
      " 60  Port_modem_numeric    10000 non-null  int64  \n",
      " 61  Tablet_numeric        10000 non-null  int64  \n",
      "dtypes: float64(9), int64(25), object(28)\n",
      "memory usage: 4.7+ MB\n"
     ]
    }
   ],
   "source": [
    "df.info()"
   ]
  },
  {
   "cell_type": "code",
   "execution_count": 187,
   "id": "2907c16c-5e56-42ae-8e4b-0dda92f5b598",
   "metadata": {
    "tags": []
   },
   "outputs": [],
   "source": [
    "#Re-expression of InternetService"
   ]
  },
  {
   "cell_type": "code",
   "execution_count": 188,
   "id": "21f1a980-6db6-4bb1-8005-209bb035cb65",
   "metadata": {
    "tags": []
   },
   "outputs": [
    {
     "data": {
      "text/plain": [
       "array(['Fiber Optic', 'DSL'], dtype=object)"
      ]
     },
     "execution_count": 188,
     "metadata": {},
     "output_type": "execute_result"
    }
   ],
   "source": [
    "df.InternetService.unique()"
   ]
  },
  {
   "cell_type": "code",
   "execution_count": 189,
   "id": "e75dddc0-3124-4727-8b68-130d9dac79c2",
   "metadata": {
    "tags": []
   },
   "outputs": [],
   "source": [
    "df[\"InternetService_numeric\"]=df[\"InternetService\"]"
   ]
  },
  {
   "cell_type": "code",
   "execution_count": 190,
   "id": "5b74ef61-a8ef-4082-83ae-51bf1ebbc023",
   "metadata": {
    "tags": []
   },
   "outputs": [],
   "source": [
    "dict_int={\"InternetService_numeric\":{\"Fiber Optic\": 0, \"DSL\": 1, \"Unknown\": 3}}"
   ]
  },
  {
   "cell_type": "code",
   "execution_count": 191,
   "id": "29bf9c38-5cc3-4c05-afcc-71175b35a821",
   "metadata": {
    "tags": []
   },
   "outputs": [],
   "source": [
    "df.replace(dict_int, inplace=True)"
   ]
  },
  {
   "cell_type": "code",
   "execution_count": 192,
   "id": "a149da4f-d8bc-4903-b224-9b37f746f2a8",
   "metadata": {
    "tags": []
   },
   "outputs": [
    {
     "name": "stdout",
     "output_type": "stream",
     "text": [
      "<class 'pandas.core.frame.DataFrame'>\n",
      "RangeIndex: 10000 entries, 0 to 9999\n",
      "Data columns (total 63 columns):\n",
      " #   Column                   Non-Null Count  Dtype  \n",
      "---  ------                   --------------  -----  \n",
      " 0   Unnamed: 0               10000 non-null  int64  \n",
      " 1   CaseOrder                10000 non-null  int64  \n",
      " 2   Customer_id              10000 non-null  object \n",
      " 3   Interaction              10000 non-null  object \n",
      " 4   City                     10000 non-null  object \n",
      " 5   State                    10000 non-null  object \n",
      " 6   County                   10000 non-null  object \n",
      " 7   Zip                      10000 non-null  int64  \n",
      " 8   Lat                      10000 non-null  float64\n",
      " 9   Lng                      10000 non-null  float64\n",
      " 10  Population               10000 non-null  int64  \n",
      " 11  Area                     10000 non-null  object \n",
      " 12  Timezone                 10000 non-null  object \n",
      " 13  Job                      10000 non-null  object \n",
      " 14  Children                 10000 non-null  float64\n",
      " 15  Age                      10000 non-null  float64\n",
      " 16  Education                10000 non-null  object \n",
      " 17  Employment               10000 non-null  object \n",
      " 18  Income                   10000 non-null  float64\n",
      " 19  Marital                  10000 non-null  object \n",
      " 20  Gender                   10000 non-null  object \n",
      " 21  Churn                    10000 non-null  object \n",
      " 22  Outage_sec_perweek       10000 non-null  float64\n",
      " 23  Email                    10000 non-null  int64  \n",
      " 24  Contacts                 10000 non-null  int64  \n",
      " 25  Yearly_equip_failure     10000 non-null  int64  \n",
      " 26  Techie                   10000 non-null  object \n",
      " 27  Contract                 10000 non-null  object \n",
      " 28  Port_modem               10000 non-null  object \n",
      " 29  Tablet                   10000 non-null  object \n",
      " 30  InternetService          10000 non-null  object \n",
      " 31  Phone                    10000 non-null  object \n",
      " 32  Multiple                 10000 non-null  object \n",
      " 33  OnlineSecurity           10000 non-null  object \n",
      " 34  OnlineBackup             10000 non-null  object \n",
      " 35  DeviceProtection         10000 non-null  object \n",
      " 36  TechSupport              10000 non-null  object \n",
      " 37  StreamingTV              10000 non-null  object \n",
      " 38  StreamingMovies          10000 non-null  object \n",
      " 39  PaperlessBilling         10000 non-null  object \n",
      " 40  PaymentMethod            10000 non-null  object \n",
      " 41  Tenure                   10000 non-null  float64\n",
      " 42  MonthlyCharge            10000 non-null  float64\n",
      " 43  Bandwidth_GB_Year        10000 non-null  float64\n",
      " 44  item1                    10000 non-null  int64  \n",
      " 45  item2                    10000 non-null  int64  \n",
      " 46  item3                    10000 non-null  int64  \n",
      " 47  item4                    10000 non-null  int64  \n",
      " 48  item5                    10000 non-null  int64  \n",
      " 49  item6                    10000 non-null  int64  \n",
      " 50  item7                    10000 non-null  int64  \n",
      " 51  item8                    10000 non-null  int64  \n",
      " 52  Area_numeric             10000 non-null  int64  \n",
      " 53  Employment_numeric       10000 non-null  int64  \n",
      " 54  Education_numeric        10000 non-null  int64  \n",
      " 55  Marital_numeric          10000 non-null  int64  \n",
      " 56  Gender_numeric           10000 non-null  int64  \n",
      " 57  Churn_numeric            10000 non-null  int64  \n",
      " 58  Techie_numeric           10000 non-null  int64  \n",
      " 59  Contract_numeric         10000 non-null  int64  \n",
      " 60  Port_modem_numeric       10000 non-null  int64  \n",
      " 61  Tablet_numeric           10000 non-null  int64  \n",
      " 62  InternetService_numeric  10000 non-null  int64  \n",
      "dtypes: float64(9), int64(26), object(28)\n",
      "memory usage: 4.8+ MB\n"
     ]
    }
   ],
   "source": [
    "df.info()"
   ]
  },
  {
   "cell_type": "code",
   "execution_count": 193,
   "id": "a7b616f8-17ae-4ef7-824d-13b5fa5dcaae",
   "metadata": {
    "tags": []
   },
   "outputs": [],
   "source": [
    "#Re-expression of Phone"
   ]
  },
  {
   "cell_type": "code",
   "execution_count": 194,
   "id": "f2f5acf9-c4c8-491e-b766-c253ef197e7f",
   "metadata": {
    "tags": []
   },
   "outputs": [
    {
     "data": {
      "text/plain": [
       "array(['Yes', 'No'], dtype=object)"
      ]
     },
     "execution_count": 194,
     "metadata": {},
     "output_type": "execute_result"
    }
   ],
   "source": [
    "df.Phone.unique()"
   ]
  },
  {
   "cell_type": "code",
   "execution_count": 195,
   "id": "53741e01-267a-4eb1-96be-3d6a58f4716a",
   "metadata": {
    "tags": []
   },
   "outputs": [],
   "source": [
    "df[\"Phone_numeric\"]=df[\"Phone\"]"
   ]
  },
  {
   "cell_type": "code",
   "execution_count": 196,
   "id": "69cfb101-1969-4214-b99c-021488ef5b72",
   "metadata": {
    "tags": []
   },
   "outputs": [],
   "source": [
    "dict_pho={\"Phone_numeric\":{\"No\": 0, \"Yes\": 1, \"Unknown\": 3}}"
   ]
  },
  {
   "cell_type": "code",
   "execution_count": 197,
   "id": "47692963-e3cb-44d4-8d09-bd02135cadff",
   "metadata": {
    "tags": []
   },
   "outputs": [],
   "source": [
    "df.replace(dict_pho, inplace=True)"
   ]
  },
  {
   "cell_type": "code",
   "execution_count": 198,
   "id": "1acebdbe-b02f-4016-82e1-ea9ed7e94312",
   "metadata": {
    "tags": []
   },
   "outputs": [
    {
     "name": "stdout",
     "output_type": "stream",
     "text": [
      "<class 'pandas.core.frame.DataFrame'>\n",
      "RangeIndex: 10000 entries, 0 to 9999\n",
      "Data columns (total 64 columns):\n",
      " #   Column                   Non-Null Count  Dtype  \n",
      "---  ------                   --------------  -----  \n",
      " 0   Unnamed: 0               10000 non-null  int64  \n",
      " 1   CaseOrder                10000 non-null  int64  \n",
      " 2   Customer_id              10000 non-null  object \n",
      " 3   Interaction              10000 non-null  object \n",
      " 4   City                     10000 non-null  object \n",
      " 5   State                    10000 non-null  object \n",
      " 6   County                   10000 non-null  object \n",
      " 7   Zip                      10000 non-null  int64  \n",
      " 8   Lat                      10000 non-null  float64\n",
      " 9   Lng                      10000 non-null  float64\n",
      " 10  Population               10000 non-null  int64  \n",
      " 11  Area                     10000 non-null  object \n",
      " 12  Timezone                 10000 non-null  object \n",
      " 13  Job                      10000 non-null  object \n",
      " 14  Children                 10000 non-null  float64\n",
      " 15  Age                      10000 non-null  float64\n",
      " 16  Education                10000 non-null  object \n",
      " 17  Employment               10000 non-null  object \n",
      " 18  Income                   10000 non-null  float64\n",
      " 19  Marital                  10000 non-null  object \n",
      " 20  Gender                   10000 non-null  object \n",
      " 21  Churn                    10000 non-null  object \n",
      " 22  Outage_sec_perweek       10000 non-null  float64\n",
      " 23  Email                    10000 non-null  int64  \n",
      " 24  Contacts                 10000 non-null  int64  \n",
      " 25  Yearly_equip_failure     10000 non-null  int64  \n",
      " 26  Techie                   10000 non-null  object \n",
      " 27  Contract                 10000 non-null  object \n",
      " 28  Port_modem               10000 non-null  object \n",
      " 29  Tablet                   10000 non-null  object \n",
      " 30  InternetService          10000 non-null  object \n",
      " 31  Phone                    10000 non-null  object \n",
      " 32  Multiple                 10000 non-null  object \n",
      " 33  OnlineSecurity           10000 non-null  object \n",
      " 34  OnlineBackup             10000 non-null  object \n",
      " 35  DeviceProtection         10000 non-null  object \n",
      " 36  TechSupport              10000 non-null  object \n",
      " 37  StreamingTV              10000 non-null  object \n",
      " 38  StreamingMovies          10000 non-null  object \n",
      " 39  PaperlessBilling         10000 non-null  object \n",
      " 40  PaymentMethod            10000 non-null  object \n",
      " 41  Tenure                   10000 non-null  float64\n",
      " 42  MonthlyCharge            10000 non-null  float64\n",
      " 43  Bandwidth_GB_Year        10000 non-null  float64\n",
      " 44  item1                    10000 non-null  int64  \n",
      " 45  item2                    10000 non-null  int64  \n",
      " 46  item3                    10000 non-null  int64  \n",
      " 47  item4                    10000 non-null  int64  \n",
      " 48  item5                    10000 non-null  int64  \n",
      " 49  item6                    10000 non-null  int64  \n",
      " 50  item7                    10000 non-null  int64  \n",
      " 51  item8                    10000 non-null  int64  \n",
      " 52  Area_numeric             10000 non-null  int64  \n",
      " 53  Employment_numeric       10000 non-null  int64  \n",
      " 54  Education_numeric        10000 non-null  int64  \n",
      " 55  Marital_numeric          10000 non-null  int64  \n",
      " 56  Gender_numeric           10000 non-null  int64  \n",
      " 57  Churn_numeric            10000 non-null  int64  \n",
      " 58  Techie_numeric           10000 non-null  int64  \n",
      " 59  Contract_numeric         10000 non-null  int64  \n",
      " 60  Port_modem_numeric       10000 non-null  int64  \n",
      " 61  Tablet_numeric           10000 non-null  int64  \n",
      " 62  InternetService_numeric  10000 non-null  int64  \n",
      " 63  Phone_numeric            10000 non-null  int64  \n",
      "dtypes: float64(9), int64(27), object(28)\n",
      "memory usage: 4.9+ MB\n"
     ]
    }
   ],
   "source": [
    "df.info()"
   ]
  },
  {
   "cell_type": "code",
   "execution_count": 199,
   "id": "30ed0fcd-77e7-4736-a3c5-0c7d46dbf678",
   "metadata": {
    "tags": []
   },
   "outputs": [],
   "source": [
    "#Re-expression of Multiple"
   ]
  },
  {
   "cell_type": "code",
   "execution_count": 200,
   "id": "0cdee039-23f7-4ed1-8418-a6ef61bee963",
   "metadata": {
    "tags": []
   },
   "outputs": [
    {
     "data": {
      "text/plain": [
       "array(['No', 'Yes'], dtype=object)"
      ]
     },
     "execution_count": 200,
     "metadata": {},
     "output_type": "execute_result"
    }
   ],
   "source": [
    "df.Multiple.unique()"
   ]
  },
  {
   "cell_type": "code",
   "execution_count": 201,
   "id": "a6791404-a3e3-4168-aa7c-c29a056adad3",
   "metadata": {
    "tags": []
   },
   "outputs": [],
   "source": [
    "df[\"Multiple_numeric\"]=df[\"Multiple\"]"
   ]
  },
  {
   "cell_type": "code",
   "execution_count": 202,
   "id": "3b0a4305-7ac1-41f7-8cef-456656645fc7",
   "metadata": {
    "tags": []
   },
   "outputs": [],
   "source": [
    "dict_mul={\"Multiple_numeric\":{\"No\": 0, \"Yes\": 1}}"
   ]
  },
  {
   "cell_type": "code",
   "execution_count": 203,
   "id": "35f48f6a-6f3f-409e-ad48-afb6abb3209a",
   "metadata": {
    "tags": []
   },
   "outputs": [],
   "source": [
    "df.replace(dict_mul, inplace=True)"
   ]
  },
  {
   "cell_type": "code",
   "execution_count": 204,
   "id": "6e82a807-c23e-4d3a-b98e-90dca7a52731",
   "metadata": {
    "tags": []
   },
   "outputs": [
    {
     "name": "stdout",
     "output_type": "stream",
     "text": [
      "<class 'pandas.core.frame.DataFrame'>\n",
      "RangeIndex: 10000 entries, 0 to 9999\n",
      "Data columns (total 65 columns):\n",
      " #   Column                   Non-Null Count  Dtype  \n",
      "---  ------                   --------------  -----  \n",
      " 0   Unnamed: 0               10000 non-null  int64  \n",
      " 1   CaseOrder                10000 non-null  int64  \n",
      " 2   Customer_id              10000 non-null  object \n",
      " 3   Interaction              10000 non-null  object \n",
      " 4   City                     10000 non-null  object \n",
      " 5   State                    10000 non-null  object \n",
      " 6   County                   10000 non-null  object \n",
      " 7   Zip                      10000 non-null  int64  \n",
      " 8   Lat                      10000 non-null  float64\n",
      " 9   Lng                      10000 non-null  float64\n",
      " 10  Population               10000 non-null  int64  \n",
      " 11  Area                     10000 non-null  object \n",
      " 12  Timezone                 10000 non-null  object \n",
      " 13  Job                      10000 non-null  object \n",
      " 14  Children                 10000 non-null  float64\n",
      " 15  Age                      10000 non-null  float64\n",
      " 16  Education                10000 non-null  object \n",
      " 17  Employment               10000 non-null  object \n",
      " 18  Income                   10000 non-null  float64\n",
      " 19  Marital                  10000 non-null  object \n",
      " 20  Gender                   10000 non-null  object \n",
      " 21  Churn                    10000 non-null  object \n",
      " 22  Outage_sec_perweek       10000 non-null  float64\n",
      " 23  Email                    10000 non-null  int64  \n",
      " 24  Contacts                 10000 non-null  int64  \n",
      " 25  Yearly_equip_failure     10000 non-null  int64  \n",
      " 26  Techie                   10000 non-null  object \n",
      " 27  Contract                 10000 non-null  object \n",
      " 28  Port_modem               10000 non-null  object \n",
      " 29  Tablet                   10000 non-null  object \n",
      " 30  InternetService          10000 non-null  object \n",
      " 31  Phone                    10000 non-null  object \n",
      " 32  Multiple                 10000 non-null  object \n",
      " 33  OnlineSecurity           10000 non-null  object \n",
      " 34  OnlineBackup             10000 non-null  object \n",
      " 35  DeviceProtection         10000 non-null  object \n",
      " 36  TechSupport              10000 non-null  object \n",
      " 37  StreamingTV              10000 non-null  object \n",
      " 38  StreamingMovies          10000 non-null  object \n",
      " 39  PaperlessBilling         10000 non-null  object \n",
      " 40  PaymentMethod            10000 non-null  object \n",
      " 41  Tenure                   10000 non-null  float64\n",
      " 42  MonthlyCharge            10000 non-null  float64\n",
      " 43  Bandwidth_GB_Year        10000 non-null  float64\n",
      " 44  item1                    10000 non-null  int64  \n",
      " 45  item2                    10000 non-null  int64  \n",
      " 46  item3                    10000 non-null  int64  \n",
      " 47  item4                    10000 non-null  int64  \n",
      " 48  item5                    10000 non-null  int64  \n",
      " 49  item6                    10000 non-null  int64  \n",
      " 50  item7                    10000 non-null  int64  \n",
      " 51  item8                    10000 non-null  int64  \n",
      " 52  Area_numeric             10000 non-null  int64  \n",
      " 53  Employment_numeric       10000 non-null  int64  \n",
      " 54  Education_numeric        10000 non-null  int64  \n",
      " 55  Marital_numeric          10000 non-null  int64  \n",
      " 56  Gender_numeric           10000 non-null  int64  \n",
      " 57  Churn_numeric            10000 non-null  int64  \n",
      " 58  Techie_numeric           10000 non-null  int64  \n",
      " 59  Contract_numeric         10000 non-null  int64  \n",
      " 60  Port_modem_numeric       10000 non-null  int64  \n",
      " 61  Tablet_numeric           10000 non-null  int64  \n",
      " 62  InternetService_numeric  10000 non-null  int64  \n",
      " 63  Phone_numeric            10000 non-null  int64  \n",
      " 64  Multiple_numeric         10000 non-null  int64  \n",
      "dtypes: float64(9), int64(28), object(28)\n",
      "memory usage: 5.0+ MB\n"
     ]
    }
   ],
   "source": [
    "df.info()"
   ]
  },
  {
   "cell_type": "code",
   "execution_count": 205,
   "id": "afade393-da06-4c07-bd1a-261ac0602965",
   "metadata": {
    "tags": []
   },
   "outputs": [],
   "source": [
    "#Re-expression of OnlineSecurity"
   ]
  },
  {
   "cell_type": "code",
   "execution_count": 206,
   "id": "7e9df887-4aec-4093-964c-852bd00585df",
   "metadata": {
    "tags": []
   },
   "outputs": [
    {
     "data": {
      "text/plain": [
       "array(['Yes', 'No'], dtype=object)"
      ]
     },
     "execution_count": 206,
     "metadata": {},
     "output_type": "execute_result"
    }
   ],
   "source": [
    "df.OnlineSecurity.unique()"
   ]
  },
  {
   "cell_type": "code",
   "execution_count": 207,
   "id": "97633241-c54c-4f8a-8518-cd3336acd3c3",
   "metadata": {
    "tags": []
   },
   "outputs": [],
   "source": [
    "df[\"OnlineSecurity_numeric\"]=df[\"OnlineSecurity\"]"
   ]
  },
  {
   "cell_type": "code",
   "execution_count": 208,
   "id": "a76597b4-9736-4379-b0d8-d26f156007cb",
   "metadata": {
    "tags": []
   },
   "outputs": [],
   "source": [
    "dict_onlsec={\"OnlineSecurity_numeric\":{\"No\":0, \"Yes\":1}}"
   ]
  },
  {
   "cell_type": "code",
   "execution_count": 209,
   "id": "0468859f-ca86-455c-94a9-2898993497c6",
   "metadata": {
    "tags": []
   },
   "outputs": [],
   "source": [
    "df.replace(dict_onlsec, inplace=True)"
   ]
  },
  {
   "cell_type": "code",
   "execution_count": 210,
   "id": "64073510-2060-416a-927b-cab01bca7edc",
   "metadata": {
    "tags": []
   },
   "outputs": [
    {
     "name": "stdout",
     "output_type": "stream",
     "text": [
      "<class 'pandas.core.frame.DataFrame'>\n",
      "RangeIndex: 10000 entries, 0 to 9999\n",
      "Data columns (total 66 columns):\n",
      " #   Column                   Non-Null Count  Dtype  \n",
      "---  ------                   --------------  -----  \n",
      " 0   Unnamed: 0               10000 non-null  int64  \n",
      " 1   CaseOrder                10000 non-null  int64  \n",
      " 2   Customer_id              10000 non-null  object \n",
      " 3   Interaction              10000 non-null  object \n",
      " 4   City                     10000 non-null  object \n",
      " 5   State                    10000 non-null  object \n",
      " 6   County                   10000 non-null  object \n",
      " 7   Zip                      10000 non-null  int64  \n",
      " 8   Lat                      10000 non-null  float64\n",
      " 9   Lng                      10000 non-null  float64\n",
      " 10  Population               10000 non-null  int64  \n",
      " 11  Area                     10000 non-null  object \n",
      " 12  Timezone                 10000 non-null  object \n",
      " 13  Job                      10000 non-null  object \n",
      " 14  Children                 10000 non-null  float64\n",
      " 15  Age                      10000 non-null  float64\n",
      " 16  Education                10000 non-null  object \n",
      " 17  Employment               10000 non-null  object \n",
      " 18  Income                   10000 non-null  float64\n",
      " 19  Marital                  10000 non-null  object \n",
      " 20  Gender                   10000 non-null  object \n",
      " 21  Churn                    10000 non-null  object \n",
      " 22  Outage_sec_perweek       10000 non-null  float64\n",
      " 23  Email                    10000 non-null  int64  \n",
      " 24  Contacts                 10000 non-null  int64  \n",
      " 25  Yearly_equip_failure     10000 non-null  int64  \n",
      " 26  Techie                   10000 non-null  object \n",
      " 27  Contract                 10000 non-null  object \n",
      " 28  Port_modem               10000 non-null  object \n",
      " 29  Tablet                   10000 non-null  object \n",
      " 30  InternetService          10000 non-null  object \n",
      " 31  Phone                    10000 non-null  object \n",
      " 32  Multiple                 10000 non-null  object \n",
      " 33  OnlineSecurity           10000 non-null  object \n",
      " 34  OnlineBackup             10000 non-null  object \n",
      " 35  DeviceProtection         10000 non-null  object \n",
      " 36  TechSupport              10000 non-null  object \n",
      " 37  StreamingTV              10000 non-null  object \n",
      " 38  StreamingMovies          10000 non-null  object \n",
      " 39  PaperlessBilling         10000 non-null  object \n",
      " 40  PaymentMethod            10000 non-null  object \n",
      " 41  Tenure                   10000 non-null  float64\n",
      " 42  MonthlyCharge            10000 non-null  float64\n",
      " 43  Bandwidth_GB_Year        10000 non-null  float64\n",
      " 44  item1                    10000 non-null  int64  \n",
      " 45  item2                    10000 non-null  int64  \n",
      " 46  item3                    10000 non-null  int64  \n",
      " 47  item4                    10000 non-null  int64  \n",
      " 48  item5                    10000 non-null  int64  \n",
      " 49  item6                    10000 non-null  int64  \n",
      " 50  item7                    10000 non-null  int64  \n",
      " 51  item8                    10000 non-null  int64  \n",
      " 52  Area_numeric             10000 non-null  int64  \n",
      " 53  Employment_numeric       10000 non-null  int64  \n",
      " 54  Education_numeric        10000 non-null  int64  \n",
      " 55  Marital_numeric          10000 non-null  int64  \n",
      " 56  Gender_numeric           10000 non-null  int64  \n",
      " 57  Churn_numeric            10000 non-null  int64  \n",
      " 58  Techie_numeric           10000 non-null  int64  \n",
      " 59  Contract_numeric         10000 non-null  int64  \n",
      " 60  Port_modem_numeric       10000 non-null  int64  \n",
      " 61  Tablet_numeric           10000 non-null  int64  \n",
      " 62  InternetService_numeric  10000 non-null  int64  \n",
      " 63  Phone_numeric            10000 non-null  int64  \n",
      " 64  Multiple_numeric         10000 non-null  int64  \n",
      " 65  OnlineSecurity_numeric   10000 non-null  int64  \n",
      "dtypes: float64(9), int64(29), object(28)\n",
      "memory usage: 5.0+ MB\n"
     ]
    }
   ],
   "source": [
    "df.info()"
   ]
  },
  {
   "cell_type": "code",
   "execution_count": 211,
   "id": "e77a06c9-b811-4172-a05f-f18653aedf40",
   "metadata": {
    "tags": []
   },
   "outputs": [],
   "source": [
    "#Re-expression of OnlineBackup"
   ]
  },
  {
   "cell_type": "code",
   "execution_count": 212,
   "id": "bb472304-b4ec-4d3f-a622-65cf71f70364",
   "metadata": {
    "tags": []
   },
   "outputs": [
    {
     "data": {
      "text/plain": [
       "array(['Yes', 'No'], dtype=object)"
      ]
     },
     "execution_count": 212,
     "metadata": {},
     "output_type": "execute_result"
    }
   ],
   "source": [
    "df.OnlineBackup.unique()"
   ]
  },
  {
   "cell_type": "code",
   "execution_count": 213,
   "id": "c15dfb53-8166-4a65-9c30-b4c2a56b5de0",
   "metadata": {
    "tags": []
   },
   "outputs": [],
   "source": [
    "df[\"OnlineBackup_numeric\"]=df[\"OnlineBackup\"]"
   ]
  },
  {
   "cell_type": "code",
   "execution_count": 214,
   "id": "8e6e5a83-254e-46ea-bc9c-b25a83a0f1c5",
   "metadata": {
    "tags": []
   },
   "outputs": [],
   "source": [
    "dict_onlbac={\"OnlineBackup_numeric\":{\"No\": 0, \"Yes\": 1}}"
   ]
  },
  {
   "cell_type": "code",
   "execution_count": 215,
   "id": "6aded203-122b-403c-a88f-4ae433f7b7fe",
   "metadata": {
    "tags": []
   },
   "outputs": [],
   "source": [
    "df.replace(dict_onlbac, inplace=True)"
   ]
  },
  {
   "cell_type": "code",
   "execution_count": 216,
   "id": "6359303a-4ae6-45f0-81f7-6843bdde4f53",
   "metadata": {
    "tags": []
   },
   "outputs": [
    {
     "name": "stdout",
     "output_type": "stream",
     "text": [
      "<class 'pandas.core.frame.DataFrame'>\n",
      "RangeIndex: 10000 entries, 0 to 9999\n",
      "Data columns (total 67 columns):\n",
      " #   Column                   Non-Null Count  Dtype  \n",
      "---  ------                   --------------  -----  \n",
      " 0   Unnamed: 0               10000 non-null  int64  \n",
      " 1   CaseOrder                10000 non-null  int64  \n",
      " 2   Customer_id              10000 non-null  object \n",
      " 3   Interaction              10000 non-null  object \n",
      " 4   City                     10000 non-null  object \n",
      " 5   State                    10000 non-null  object \n",
      " 6   County                   10000 non-null  object \n",
      " 7   Zip                      10000 non-null  int64  \n",
      " 8   Lat                      10000 non-null  float64\n",
      " 9   Lng                      10000 non-null  float64\n",
      " 10  Population               10000 non-null  int64  \n",
      " 11  Area                     10000 non-null  object \n",
      " 12  Timezone                 10000 non-null  object \n",
      " 13  Job                      10000 non-null  object \n",
      " 14  Children                 10000 non-null  float64\n",
      " 15  Age                      10000 non-null  float64\n",
      " 16  Education                10000 non-null  object \n",
      " 17  Employment               10000 non-null  object \n",
      " 18  Income                   10000 non-null  float64\n",
      " 19  Marital                  10000 non-null  object \n",
      " 20  Gender                   10000 non-null  object \n",
      " 21  Churn                    10000 non-null  object \n",
      " 22  Outage_sec_perweek       10000 non-null  float64\n",
      " 23  Email                    10000 non-null  int64  \n",
      " 24  Contacts                 10000 non-null  int64  \n",
      " 25  Yearly_equip_failure     10000 non-null  int64  \n",
      " 26  Techie                   10000 non-null  object \n",
      " 27  Contract                 10000 non-null  object \n",
      " 28  Port_modem               10000 non-null  object \n",
      " 29  Tablet                   10000 non-null  object \n",
      " 30  InternetService          10000 non-null  object \n",
      " 31  Phone                    10000 non-null  object \n",
      " 32  Multiple                 10000 non-null  object \n",
      " 33  OnlineSecurity           10000 non-null  object \n",
      " 34  OnlineBackup             10000 non-null  object \n",
      " 35  DeviceProtection         10000 non-null  object \n",
      " 36  TechSupport              10000 non-null  object \n",
      " 37  StreamingTV              10000 non-null  object \n",
      " 38  StreamingMovies          10000 non-null  object \n",
      " 39  PaperlessBilling         10000 non-null  object \n",
      " 40  PaymentMethod            10000 non-null  object \n",
      " 41  Tenure                   10000 non-null  float64\n",
      " 42  MonthlyCharge            10000 non-null  float64\n",
      " 43  Bandwidth_GB_Year        10000 non-null  float64\n",
      " 44  item1                    10000 non-null  int64  \n",
      " 45  item2                    10000 non-null  int64  \n",
      " 46  item3                    10000 non-null  int64  \n",
      " 47  item4                    10000 non-null  int64  \n",
      " 48  item5                    10000 non-null  int64  \n",
      " 49  item6                    10000 non-null  int64  \n",
      " 50  item7                    10000 non-null  int64  \n",
      " 51  item8                    10000 non-null  int64  \n",
      " 52  Area_numeric             10000 non-null  int64  \n",
      " 53  Employment_numeric       10000 non-null  int64  \n",
      " 54  Education_numeric        10000 non-null  int64  \n",
      " 55  Marital_numeric          10000 non-null  int64  \n",
      " 56  Gender_numeric           10000 non-null  int64  \n",
      " 57  Churn_numeric            10000 non-null  int64  \n",
      " 58  Techie_numeric           10000 non-null  int64  \n",
      " 59  Contract_numeric         10000 non-null  int64  \n",
      " 60  Port_modem_numeric       10000 non-null  int64  \n",
      " 61  Tablet_numeric           10000 non-null  int64  \n",
      " 62  InternetService_numeric  10000 non-null  int64  \n",
      " 63  Phone_numeric            10000 non-null  int64  \n",
      " 64  Multiple_numeric         10000 non-null  int64  \n",
      " 65  OnlineSecurity_numeric   10000 non-null  int64  \n",
      " 66  OnlineBackup_numeric     10000 non-null  int64  \n",
      "dtypes: float64(9), int64(30), object(28)\n",
      "memory usage: 5.1+ MB\n"
     ]
    }
   ],
   "source": [
    "df.info()"
   ]
  },
  {
   "cell_type": "code",
   "execution_count": 217,
   "id": "8085f298-eb5d-4c0f-8e8f-29a68ad6c39f",
   "metadata": {
    "tags": []
   },
   "outputs": [],
   "source": [
    "#Re-expression of DeviceProtection"
   ]
  },
  {
   "cell_type": "code",
   "execution_count": 218,
   "id": "b32ba0ca-2ade-4bc1-90c5-13cc803c3e1b",
   "metadata": {
    "tags": []
   },
   "outputs": [
    {
     "data": {
      "text/plain": [
       "array(['No', 'Yes'], dtype=object)"
      ]
     },
     "execution_count": 218,
     "metadata": {},
     "output_type": "execute_result"
    }
   ],
   "source": [
    "df.DeviceProtection.unique()"
   ]
  },
  {
   "cell_type": "code",
   "execution_count": 219,
   "id": "049151bd-2453-4e6c-878b-a140ece0c179",
   "metadata": {
    "tags": []
   },
   "outputs": [],
   "source": [
    "df[\"DeviceProtection_numeric\"]=df[\"DeviceProtection\"]"
   ]
  },
  {
   "cell_type": "code",
   "execution_count": 220,
   "id": "36aba0cd-00e0-4495-9a77-b547df6b696c",
   "metadata": {
    "tags": []
   },
   "outputs": [],
   "source": [
    "dict_devpro={\"DeviceProtection_numeric\":{\"No\": 0, \"Yes\": 1}}"
   ]
  },
  {
   "cell_type": "code",
   "execution_count": 221,
   "id": "5bc2abb3-efcd-4718-8a66-e6893ea9a448",
   "metadata": {
    "tags": []
   },
   "outputs": [],
   "source": [
    "df.replace(dict_devpro, inplace=True)"
   ]
  },
  {
   "cell_type": "code",
   "execution_count": 222,
   "id": "2f7375ea-e405-4273-9dc2-9579af92da75",
   "metadata": {
    "tags": []
   },
   "outputs": [
    {
     "name": "stdout",
     "output_type": "stream",
     "text": [
      "<class 'pandas.core.frame.DataFrame'>\n",
      "RangeIndex: 10000 entries, 0 to 9999\n",
      "Data columns (total 68 columns):\n",
      " #   Column                    Non-Null Count  Dtype  \n",
      "---  ------                    --------------  -----  \n",
      " 0   Unnamed: 0                10000 non-null  int64  \n",
      " 1   CaseOrder                 10000 non-null  int64  \n",
      " 2   Customer_id               10000 non-null  object \n",
      " 3   Interaction               10000 non-null  object \n",
      " 4   City                      10000 non-null  object \n",
      " 5   State                     10000 non-null  object \n",
      " 6   County                    10000 non-null  object \n",
      " 7   Zip                       10000 non-null  int64  \n",
      " 8   Lat                       10000 non-null  float64\n",
      " 9   Lng                       10000 non-null  float64\n",
      " 10  Population                10000 non-null  int64  \n",
      " 11  Area                      10000 non-null  object \n",
      " 12  Timezone                  10000 non-null  object \n",
      " 13  Job                       10000 non-null  object \n",
      " 14  Children                  10000 non-null  float64\n",
      " 15  Age                       10000 non-null  float64\n",
      " 16  Education                 10000 non-null  object \n",
      " 17  Employment                10000 non-null  object \n",
      " 18  Income                    10000 non-null  float64\n",
      " 19  Marital                   10000 non-null  object \n",
      " 20  Gender                    10000 non-null  object \n",
      " 21  Churn                     10000 non-null  object \n",
      " 22  Outage_sec_perweek        10000 non-null  float64\n",
      " 23  Email                     10000 non-null  int64  \n",
      " 24  Contacts                  10000 non-null  int64  \n",
      " 25  Yearly_equip_failure      10000 non-null  int64  \n",
      " 26  Techie                    10000 non-null  object \n",
      " 27  Contract                  10000 non-null  object \n",
      " 28  Port_modem                10000 non-null  object \n",
      " 29  Tablet                    10000 non-null  object \n",
      " 30  InternetService           10000 non-null  object \n",
      " 31  Phone                     10000 non-null  object \n",
      " 32  Multiple                  10000 non-null  object \n",
      " 33  OnlineSecurity            10000 non-null  object \n",
      " 34  OnlineBackup              10000 non-null  object \n",
      " 35  DeviceProtection          10000 non-null  object \n",
      " 36  TechSupport               10000 non-null  object \n",
      " 37  StreamingTV               10000 non-null  object \n",
      " 38  StreamingMovies           10000 non-null  object \n",
      " 39  PaperlessBilling          10000 non-null  object \n",
      " 40  PaymentMethod             10000 non-null  object \n",
      " 41  Tenure                    10000 non-null  float64\n",
      " 42  MonthlyCharge             10000 non-null  float64\n",
      " 43  Bandwidth_GB_Year         10000 non-null  float64\n",
      " 44  item1                     10000 non-null  int64  \n",
      " 45  item2                     10000 non-null  int64  \n",
      " 46  item3                     10000 non-null  int64  \n",
      " 47  item4                     10000 non-null  int64  \n",
      " 48  item5                     10000 non-null  int64  \n",
      " 49  item6                     10000 non-null  int64  \n",
      " 50  item7                     10000 non-null  int64  \n",
      " 51  item8                     10000 non-null  int64  \n",
      " 52  Area_numeric              10000 non-null  int64  \n",
      " 53  Employment_numeric        10000 non-null  int64  \n",
      " 54  Education_numeric         10000 non-null  int64  \n",
      " 55  Marital_numeric           10000 non-null  int64  \n",
      " 56  Gender_numeric            10000 non-null  int64  \n",
      " 57  Churn_numeric             10000 non-null  int64  \n",
      " 58  Techie_numeric            10000 non-null  int64  \n",
      " 59  Contract_numeric          10000 non-null  int64  \n",
      " 60  Port_modem_numeric        10000 non-null  int64  \n",
      " 61  Tablet_numeric            10000 non-null  int64  \n",
      " 62  InternetService_numeric   10000 non-null  int64  \n",
      " 63  Phone_numeric             10000 non-null  int64  \n",
      " 64  Multiple_numeric          10000 non-null  int64  \n",
      " 65  OnlineSecurity_numeric    10000 non-null  int64  \n",
      " 66  OnlineBackup_numeric      10000 non-null  int64  \n",
      " 67  DeviceProtection_numeric  10000 non-null  int64  \n",
      "dtypes: float64(9), int64(31), object(28)\n",
      "memory usage: 5.2+ MB\n"
     ]
    }
   ],
   "source": [
    "df.info()"
   ]
  },
  {
   "cell_type": "code",
   "execution_count": 223,
   "id": "8d90c3bc-0578-4e52-86c7-1d998242cec2",
   "metadata": {
    "tags": []
   },
   "outputs": [],
   "source": [
    "#Re-expression of TechSupport"
   ]
  },
  {
   "cell_type": "code",
   "execution_count": 224,
   "id": "f02f25da-ded7-4b39-9bf5-42e8c1f0ed2f",
   "metadata": {
    "tags": []
   },
   "outputs": [
    {
     "data": {
      "text/plain": [
       "array(['No', 'Yes'], dtype=object)"
      ]
     },
     "execution_count": 224,
     "metadata": {},
     "output_type": "execute_result"
    }
   ],
   "source": [
    "df.TechSupport.unique()"
   ]
  },
  {
   "cell_type": "code",
   "execution_count": 225,
   "id": "2b3ce01a-154e-434d-a9cc-a4ab2910131d",
   "metadata": {
    "tags": []
   },
   "outputs": [],
   "source": [
    "df[\"TechSupport_numeric\"]=df[\"TechSupport\"]"
   ]
  },
  {
   "cell_type": "code",
   "execution_count": 226,
   "id": "6dca0de6-72c3-4673-97d5-ec109f221dfa",
   "metadata": {
    "tags": []
   },
   "outputs": [],
   "source": [
    "dict_tecsup={\"TechSupport_numeric\":{\"No\": 0, \"Yes\": 1, \"Unknown\": 3}}"
   ]
  },
  {
   "cell_type": "code",
   "execution_count": 227,
   "id": "e3f9f8a7-b22d-48de-b5ae-3b2f22c1a3c8",
   "metadata": {
    "tags": []
   },
   "outputs": [],
   "source": [
    "df.replace(dict_tecsup, inplace=True)"
   ]
  },
  {
   "cell_type": "code",
   "execution_count": 228,
   "id": "4a550af5-fc6f-4820-8164-b0415e44cc17",
   "metadata": {
    "tags": []
   },
   "outputs": [
    {
     "name": "stdout",
     "output_type": "stream",
     "text": [
      "<class 'pandas.core.frame.DataFrame'>\n",
      "RangeIndex: 10000 entries, 0 to 9999\n",
      "Data columns (total 69 columns):\n",
      " #   Column                    Non-Null Count  Dtype  \n",
      "---  ------                    --------------  -----  \n",
      " 0   Unnamed: 0                10000 non-null  int64  \n",
      " 1   CaseOrder                 10000 non-null  int64  \n",
      " 2   Customer_id               10000 non-null  object \n",
      " 3   Interaction               10000 non-null  object \n",
      " 4   City                      10000 non-null  object \n",
      " 5   State                     10000 non-null  object \n",
      " 6   County                    10000 non-null  object \n",
      " 7   Zip                       10000 non-null  int64  \n",
      " 8   Lat                       10000 non-null  float64\n",
      " 9   Lng                       10000 non-null  float64\n",
      " 10  Population                10000 non-null  int64  \n",
      " 11  Area                      10000 non-null  object \n",
      " 12  Timezone                  10000 non-null  object \n",
      " 13  Job                       10000 non-null  object \n",
      " 14  Children                  10000 non-null  float64\n",
      " 15  Age                       10000 non-null  float64\n",
      " 16  Education                 10000 non-null  object \n",
      " 17  Employment                10000 non-null  object \n",
      " 18  Income                    10000 non-null  float64\n",
      " 19  Marital                   10000 non-null  object \n",
      " 20  Gender                    10000 non-null  object \n",
      " 21  Churn                     10000 non-null  object \n",
      " 22  Outage_sec_perweek        10000 non-null  float64\n",
      " 23  Email                     10000 non-null  int64  \n",
      " 24  Contacts                  10000 non-null  int64  \n",
      " 25  Yearly_equip_failure      10000 non-null  int64  \n",
      " 26  Techie                    10000 non-null  object \n",
      " 27  Contract                  10000 non-null  object \n",
      " 28  Port_modem                10000 non-null  object \n",
      " 29  Tablet                    10000 non-null  object \n",
      " 30  InternetService           10000 non-null  object \n",
      " 31  Phone                     10000 non-null  object \n",
      " 32  Multiple                  10000 non-null  object \n",
      " 33  OnlineSecurity            10000 non-null  object \n",
      " 34  OnlineBackup              10000 non-null  object \n",
      " 35  DeviceProtection          10000 non-null  object \n",
      " 36  TechSupport               10000 non-null  object \n",
      " 37  StreamingTV               10000 non-null  object \n",
      " 38  StreamingMovies           10000 non-null  object \n",
      " 39  PaperlessBilling          10000 non-null  object \n",
      " 40  PaymentMethod             10000 non-null  object \n",
      " 41  Tenure                    10000 non-null  float64\n",
      " 42  MonthlyCharge             10000 non-null  float64\n",
      " 43  Bandwidth_GB_Year         10000 non-null  float64\n",
      " 44  item1                     10000 non-null  int64  \n",
      " 45  item2                     10000 non-null  int64  \n",
      " 46  item3                     10000 non-null  int64  \n",
      " 47  item4                     10000 non-null  int64  \n",
      " 48  item5                     10000 non-null  int64  \n",
      " 49  item6                     10000 non-null  int64  \n",
      " 50  item7                     10000 non-null  int64  \n",
      " 51  item8                     10000 non-null  int64  \n",
      " 52  Area_numeric              10000 non-null  int64  \n",
      " 53  Employment_numeric        10000 non-null  int64  \n",
      " 54  Education_numeric         10000 non-null  int64  \n",
      " 55  Marital_numeric           10000 non-null  int64  \n",
      " 56  Gender_numeric            10000 non-null  int64  \n",
      " 57  Churn_numeric             10000 non-null  int64  \n",
      " 58  Techie_numeric            10000 non-null  int64  \n",
      " 59  Contract_numeric          10000 non-null  int64  \n",
      " 60  Port_modem_numeric        10000 non-null  int64  \n",
      " 61  Tablet_numeric            10000 non-null  int64  \n",
      " 62  InternetService_numeric   10000 non-null  int64  \n",
      " 63  Phone_numeric             10000 non-null  int64  \n",
      " 64  Multiple_numeric          10000 non-null  int64  \n",
      " 65  OnlineSecurity_numeric    10000 non-null  int64  \n",
      " 66  OnlineBackup_numeric      10000 non-null  int64  \n",
      " 67  DeviceProtection_numeric  10000 non-null  int64  \n",
      " 68  TechSupport_numeric       10000 non-null  int64  \n",
      "dtypes: float64(9), int64(32), object(28)\n",
      "memory usage: 5.3+ MB\n"
     ]
    }
   ],
   "source": [
    "df.info()"
   ]
  },
  {
   "cell_type": "code",
   "execution_count": 229,
   "id": "214a4d05-0d52-4471-ab0b-5d28020846d5",
   "metadata": {
    "tags": []
   },
   "outputs": [],
   "source": [
    "#Re-expression of StreamingTV"
   ]
  },
  {
   "cell_type": "code",
   "execution_count": 230,
   "id": "93964f3a-424b-4834-800a-af35b947b997",
   "metadata": {
    "tags": []
   },
   "outputs": [
    {
     "data": {
      "text/plain": [
       "array(['No', 'Yes'], dtype=object)"
      ]
     },
     "execution_count": 230,
     "metadata": {},
     "output_type": "execute_result"
    }
   ],
   "source": [
    "df.StreamingTV.unique()"
   ]
  },
  {
   "cell_type": "code",
   "execution_count": 231,
   "id": "d7dd0f01-4c72-4d66-850c-c68ab4cc8bfc",
   "metadata": {
    "tags": []
   },
   "outputs": [],
   "source": [
    "df[\"StreamingTV_numeric\"]=df[\"StreamingTV\"]"
   ]
  },
  {
   "cell_type": "code",
   "execution_count": 232,
   "id": "2896d72f-b84a-43ef-8010-ba1199fc560a",
   "metadata": {
    "tags": []
   },
   "outputs": [],
   "source": [
    "dict_strtv={\"StreamingTV_numeric\":{\"No\": 0, \"Yes\": 1}}"
   ]
  },
  {
   "cell_type": "code",
   "execution_count": 233,
   "id": "feea87dc-1c75-407b-893f-0a4e66ac87ef",
   "metadata": {
    "tags": []
   },
   "outputs": [],
   "source": [
    "df.replace(dict_strtv, inplace=True)"
   ]
  },
  {
   "cell_type": "code",
   "execution_count": 234,
   "id": "384642cf-35da-4757-92d5-053897999e1a",
   "metadata": {
    "tags": []
   },
   "outputs": [
    {
     "name": "stdout",
     "output_type": "stream",
     "text": [
      "<class 'pandas.core.frame.DataFrame'>\n",
      "RangeIndex: 10000 entries, 0 to 9999\n",
      "Data columns (total 70 columns):\n",
      " #   Column                    Non-Null Count  Dtype  \n",
      "---  ------                    --------------  -----  \n",
      " 0   Unnamed: 0                10000 non-null  int64  \n",
      " 1   CaseOrder                 10000 non-null  int64  \n",
      " 2   Customer_id               10000 non-null  object \n",
      " 3   Interaction               10000 non-null  object \n",
      " 4   City                      10000 non-null  object \n",
      " 5   State                     10000 non-null  object \n",
      " 6   County                    10000 non-null  object \n",
      " 7   Zip                       10000 non-null  int64  \n",
      " 8   Lat                       10000 non-null  float64\n",
      " 9   Lng                       10000 non-null  float64\n",
      " 10  Population                10000 non-null  int64  \n",
      " 11  Area                      10000 non-null  object \n",
      " 12  Timezone                  10000 non-null  object \n",
      " 13  Job                       10000 non-null  object \n",
      " 14  Children                  10000 non-null  float64\n",
      " 15  Age                       10000 non-null  float64\n",
      " 16  Education                 10000 non-null  object \n",
      " 17  Employment                10000 non-null  object \n",
      " 18  Income                    10000 non-null  float64\n",
      " 19  Marital                   10000 non-null  object \n",
      " 20  Gender                    10000 non-null  object \n",
      " 21  Churn                     10000 non-null  object \n",
      " 22  Outage_sec_perweek        10000 non-null  float64\n",
      " 23  Email                     10000 non-null  int64  \n",
      " 24  Contacts                  10000 non-null  int64  \n",
      " 25  Yearly_equip_failure      10000 non-null  int64  \n",
      " 26  Techie                    10000 non-null  object \n",
      " 27  Contract                  10000 non-null  object \n",
      " 28  Port_modem                10000 non-null  object \n",
      " 29  Tablet                    10000 non-null  object \n",
      " 30  InternetService           10000 non-null  object \n",
      " 31  Phone                     10000 non-null  object \n",
      " 32  Multiple                  10000 non-null  object \n",
      " 33  OnlineSecurity            10000 non-null  object \n",
      " 34  OnlineBackup              10000 non-null  object \n",
      " 35  DeviceProtection          10000 non-null  object \n",
      " 36  TechSupport               10000 non-null  object \n",
      " 37  StreamingTV               10000 non-null  object \n",
      " 38  StreamingMovies           10000 non-null  object \n",
      " 39  PaperlessBilling          10000 non-null  object \n",
      " 40  PaymentMethod             10000 non-null  object \n",
      " 41  Tenure                    10000 non-null  float64\n",
      " 42  MonthlyCharge             10000 non-null  float64\n",
      " 43  Bandwidth_GB_Year         10000 non-null  float64\n",
      " 44  item1                     10000 non-null  int64  \n",
      " 45  item2                     10000 non-null  int64  \n",
      " 46  item3                     10000 non-null  int64  \n",
      " 47  item4                     10000 non-null  int64  \n",
      " 48  item5                     10000 non-null  int64  \n",
      " 49  item6                     10000 non-null  int64  \n",
      " 50  item7                     10000 non-null  int64  \n",
      " 51  item8                     10000 non-null  int64  \n",
      " 52  Area_numeric              10000 non-null  int64  \n",
      " 53  Employment_numeric        10000 non-null  int64  \n",
      " 54  Education_numeric         10000 non-null  int64  \n",
      " 55  Marital_numeric           10000 non-null  int64  \n",
      " 56  Gender_numeric            10000 non-null  int64  \n",
      " 57  Churn_numeric             10000 non-null  int64  \n",
      " 58  Techie_numeric            10000 non-null  int64  \n",
      " 59  Contract_numeric          10000 non-null  int64  \n",
      " 60  Port_modem_numeric        10000 non-null  int64  \n",
      " 61  Tablet_numeric            10000 non-null  int64  \n",
      " 62  InternetService_numeric   10000 non-null  int64  \n",
      " 63  Phone_numeric             10000 non-null  int64  \n",
      " 64  Multiple_numeric          10000 non-null  int64  \n",
      " 65  OnlineSecurity_numeric    10000 non-null  int64  \n",
      " 66  OnlineBackup_numeric      10000 non-null  int64  \n",
      " 67  DeviceProtection_numeric  10000 non-null  int64  \n",
      " 68  TechSupport_numeric       10000 non-null  int64  \n",
      " 69  StreamingTV_numeric       10000 non-null  int64  \n",
      "dtypes: float64(9), int64(33), object(28)\n",
      "memory usage: 5.3+ MB\n"
     ]
    }
   ],
   "source": [
    "df.info()"
   ]
  },
  {
   "cell_type": "code",
   "execution_count": 235,
   "id": "20ef4904-bdf8-4aa2-ab30-2f582fa7b0b1",
   "metadata": {
    "tags": []
   },
   "outputs": [],
   "source": [
    "#Re-expression of StreamingMovies"
   ]
  },
  {
   "cell_type": "code",
   "execution_count": 236,
   "id": "4411300e-347c-484c-891f-187e677f9238",
   "metadata": {
    "tags": []
   },
   "outputs": [
    {
     "data": {
      "text/plain": [
       "array(['Yes', 'No'], dtype=object)"
      ]
     },
     "execution_count": 236,
     "metadata": {},
     "output_type": "execute_result"
    }
   ],
   "source": [
    "df.StreamingMovies.unique()"
   ]
  },
  {
   "cell_type": "code",
   "execution_count": 237,
   "id": "b835dff6-c65f-46b8-92a3-0c3a7dc08dad",
   "metadata": {
    "tags": []
   },
   "outputs": [],
   "source": [
    "df[\"StreamingMovies_numeric\"]=df[\"StreamingMovies\"]"
   ]
  },
  {
   "cell_type": "code",
   "execution_count": 238,
   "id": "9bb2260d-2adf-42b3-afc1-bd05fa62f0f8",
   "metadata": {
    "tags": []
   },
   "outputs": [],
   "source": [
    "dict_strm={\"StreamingMovies_numeric\":{\"No\": 0, \"Yes\": 1}}"
   ]
  },
  {
   "cell_type": "code",
   "execution_count": 239,
   "id": "0702671c-3cca-45a8-886a-d6ab0db01ccf",
   "metadata": {
    "tags": []
   },
   "outputs": [],
   "source": [
    "df.replace(dict_strm, inplace=True)"
   ]
  },
  {
   "cell_type": "code",
   "execution_count": 240,
   "id": "1f39a723-7c2d-4623-a238-115d21077934",
   "metadata": {
    "tags": []
   },
   "outputs": [
    {
     "name": "stdout",
     "output_type": "stream",
     "text": [
      "<class 'pandas.core.frame.DataFrame'>\n",
      "RangeIndex: 10000 entries, 0 to 9999\n",
      "Data columns (total 71 columns):\n",
      " #   Column                    Non-Null Count  Dtype  \n",
      "---  ------                    --------------  -----  \n",
      " 0   Unnamed: 0                10000 non-null  int64  \n",
      " 1   CaseOrder                 10000 non-null  int64  \n",
      " 2   Customer_id               10000 non-null  object \n",
      " 3   Interaction               10000 non-null  object \n",
      " 4   City                      10000 non-null  object \n",
      " 5   State                     10000 non-null  object \n",
      " 6   County                    10000 non-null  object \n",
      " 7   Zip                       10000 non-null  int64  \n",
      " 8   Lat                       10000 non-null  float64\n",
      " 9   Lng                       10000 non-null  float64\n",
      " 10  Population                10000 non-null  int64  \n",
      " 11  Area                      10000 non-null  object \n",
      " 12  Timezone                  10000 non-null  object \n",
      " 13  Job                       10000 non-null  object \n",
      " 14  Children                  10000 non-null  float64\n",
      " 15  Age                       10000 non-null  float64\n",
      " 16  Education                 10000 non-null  object \n",
      " 17  Employment                10000 non-null  object \n",
      " 18  Income                    10000 non-null  float64\n",
      " 19  Marital                   10000 non-null  object \n",
      " 20  Gender                    10000 non-null  object \n",
      " 21  Churn                     10000 non-null  object \n",
      " 22  Outage_sec_perweek        10000 non-null  float64\n",
      " 23  Email                     10000 non-null  int64  \n",
      " 24  Contacts                  10000 non-null  int64  \n",
      " 25  Yearly_equip_failure      10000 non-null  int64  \n",
      " 26  Techie                    10000 non-null  object \n",
      " 27  Contract                  10000 non-null  object \n",
      " 28  Port_modem                10000 non-null  object \n",
      " 29  Tablet                    10000 non-null  object \n",
      " 30  InternetService           10000 non-null  object \n",
      " 31  Phone                     10000 non-null  object \n",
      " 32  Multiple                  10000 non-null  object \n",
      " 33  OnlineSecurity            10000 non-null  object \n",
      " 34  OnlineBackup              10000 non-null  object \n",
      " 35  DeviceProtection          10000 non-null  object \n",
      " 36  TechSupport               10000 non-null  object \n",
      " 37  StreamingTV               10000 non-null  object \n",
      " 38  StreamingMovies           10000 non-null  object \n",
      " 39  PaperlessBilling          10000 non-null  object \n",
      " 40  PaymentMethod             10000 non-null  object \n",
      " 41  Tenure                    10000 non-null  float64\n",
      " 42  MonthlyCharge             10000 non-null  float64\n",
      " 43  Bandwidth_GB_Year         10000 non-null  float64\n",
      " 44  item1                     10000 non-null  int64  \n",
      " 45  item2                     10000 non-null  int64  \n",
      " 46  item3                     10000 non-null  int64  \n",
      " 47  item4                     10000 non-null  int64  \n",
      " 48  item5                     10000 non-null  int64  \n",
      " 49  item6                     10000 non-null  int64  \n",
      " 50  item7                     10000 non-null  int64  \n",
      " 51  item8                     10000 non-null  int64  \n",
      " 52  Area_numeric              10000 non-null  int64  \n",
      " 53  Employment_numeric        10000 non-null  int64  \n",
      " 54  Education_numeric         10000 non-null  int64  \n",
      " 55  Marital_numeric           10000 non-null  int64  \n",
      " 56  Gender_numeric            10000 non-null  int64  \n",
      " 57  Churn_numeric             10000 non-null  int64  \n",
      " 58  Techie_numeric            10000 non-null  int64  \n",
      " 59  Contract_numeric          10000 non-null  int64  \n",
      " 60  Port_modem_numeric        10000 non-null  int64  \n",
      " 61  Tablet_numeric            10000 non-null  int64  \n",
      " 62  InternetService_numeric   10000 non-null  int64  \n",
      " 63  Phone_numeric             10000 non-null  int64  \n",
      " 64  Multiple_numeric          10000 non-null  int64  \n",
      " 65  OnlineSecurity_numeric    10000 non-null  int64  \n",
      " 66  OnlineBackup_numeric      10000 non-null  int64  \n",
      " 67  DeviceProtection_numeric  10000 non-null  int64  \n",
      " 68  TechSupport_numeric       10000 non-null  int64  \n",
      " 69  StreamingTV_numeric       10000 non-null  int64  \n",
      " 70  StreamingMovies_numeric   10000 non-null  int64  \n",
      "dtypes: float64(9), int64(34), object(28)\n",
      "memory usage: 5.4+ MB\n"
     ]
    }
   ],
   "source": [
    "df.info()"
   ]
  },
  {
   "cell_type": "code",
   "execution_count": 241,
   "id": "48e58f0d-b2ef-466b-97b3-8dba24effcb1",
   "metadata": {
    "tags": []
   },
   "outputs": [],
   "source": [
    "#Re-expression of PaperlessBilling"
   ]
  },
  {
   "cell_type": "code",
   "execution_count": 242,
   "id": "b5f9c3a4-76eb-4451-a304-6c16d1d6df7f",
   "metadata": {
    "tags": []
   },
   "outputs": [
    {
     "data": {
      "text/plain": [
       "array(['Yes', 'No'], dtype=object)"
      ]
     },
     "execution_count": 242,
     "metadata": {},
     "output_type": "execute_result"
    }
   ],
   "source": [
    "df.PaperlessBilling.unique()"
   ]
  },
  {
   "cell_type": "code",
   "execution_count": 243,
   "id": "1e122b8a-db22-4eba-a625-455339cf30b7",
   "metadata": {
    "tags": []
   },
   "outputs": [],
   "source": [
    "df[\"PaperlessBilling_numeric\"]=df[\"PaperlessBilling\"]"
   ]
  },
  {
   "cell_type": "code",
   "execution_count": 244,
   "id": "0fb0f3a4-3182-41f1-8ffa-eec14eb6b7b3",
   "metadata": {
    "tags": []
   },
   "outputs": [],
   "source": [
    "dict_papbill={\"PaperlessBilling_numeric\":{\"No\": 0, \"Yes\": 1}}"
   ]
  },
  {
   "cell_type": "code",
   "execution_count": 245,
   "id": "7b6323d7-25c2-417c-aea7-a326ee14fe67",
   "metadata": {
    "tags": []
   },
   "outputs": [],
   "source": [
    "df.replace(dict_papbill, inplace=True)"
   ]
  },
  {
   "cell_type": "code",
   "execution_count": 246,
   "id": "2df1ab25-badc-4f5d-9e33-624ec4834c9d",
   "metadata": {
    "tags": []
   },
   "outputs": [
    {
     "name": "stdout",
     "output_type": "stream",
     "text": [
      "<class 'pandas.core.frame.DataFrame'>\n",
      "RangeIndex: 10000 entries, 0 to 9999\n",
      "Data columns (total 72 columns):\n",
      " #   Column                    Non-Null Count  Dtype  \n",
      "---  ------                    --------------  -----  \n",
      " 0   Unnamed: 0                10000 non-null  int64  \n",
      " 1   CaseOrder                 10000 non-null  int64  \n",
      " 2   Customer_id               10000 non-null  object \n",
      " 3   Interaction               10000 non-null  object \n",
      " 4   City                      10000 non-null  object \n",
      " 5   State                     10000 non-null  object \n",
      " 6   County                    10000 non-null  object \n",
      " 7   Zip                       10000 non-null  int64  \n",
      " 8   Lat                       10000 non-null  float64\n",
      " 9   Lng                       10000 non-null  float64\n",
      " 10  Population                10000 non-null  int64  \n",
      " 11  Area                      10000 non-null  object \n",
      " 12  Timezone                  10000 non-null  object \n",
      " 13  Job                       10000 non-null  object \n",
      " 14  Children                  10000 non-null  float64\n",
      " 15  Age                       10000 non-null  float64\n",
      " 16  Education                 10000 non-null  object \n",
      " 17  Employment                10000 non-null  object \n",
      " 18  Income                    10000 non-null  float64\n",
      " 19  Marital                   10000 non-null  object \n",
      " 20  Gender                    10000 non-null  object \n",
      " 21  Churn                     10000 non-null  object \n",
      " 22  Outage_sec_perweek        10000 non-null  float64\n",
      " 23  Email                     10000 non-null  int64  \n",
      " 24  Contacts                  10000 non-null  int64  \n",
      " 25  Yearly_equip_failure      10000 non-null  int64  \n",
      " 26  Techie                    10000 non-null  object \n",
      " 27  Contract                  10000 non-null  object \n",
      " 28  Port_modem                10000 non-null  object \n",
      " 29  Tablet                    10000 non-null  object \n",
      " 30  InternetService           10000 non-null  object \n",
      " 31  Phone                     10000 non-null  object \n",
      " 32  Multiple                  10000 non-null  object \n",
      " 33  OnlineSecurity            10000 non-null  object \n",
      " 34  OnlineBackup              10000 non-null  object \n",
      " 35  DeviceProtection          10000 non-null  object \n",
      " 36  TechSupport               10000 non-null  object \n",
      " 37  StreamingTV               10000 non-null  object \n",
      " 38  StreamingMovies           10000 non-null  object \n",
      " 39  PaperlessBilling          10000 non-null  object \n",
      " 40  PaymentMethod             10000 non-null  object \n",
      " 41  Tenure                    10000 non-null  float64\n",
      " 42  MonthlyCharge             10000 non-null  float64\n",
      " 43  Bandwidth_GB_Year         10000 non-null  float64\n",
      " 44  item1                     10000 non-null  int64  \n",
      " 45  item2                     10000 non-null  int64  \n",
      " 46  item3                     10000 non-null  int64  \n",
      " 47  item4                     10000 non-null  int64  \n",
      " 48  item5                     10000 non-null  int64  \n",
      " 49  item6                     10000 non-null  int64  \n",
      " 50  item7                     10000 non-null  int64  \n",
      " 51  item8                     10000 non-null  int64  \n",
      " 52  Area_numeric              10000 non-null  int64  \n",
      " 53  Employment_numeric        10000 non-null  int64  \n",
      " 54  Education_numeric         10000 non-null  int64  \n",
      " 55  Marital_numeric           10000 non-null  int64  \n",
      " 56  Gender_numeric            10000 non-null  int64  \n",
      " 57  Churn_numeric             10000 non-null  int64  \n",
      " 58  Techie_numeric            10000 non-null  int64  \n",
      " 59  Contract_numeric          10000 non-null  int64  \n",
      " 60  Port_modem_numeric        10000 non-null  int64  \n",
      " 61  Tablet_numeric            10000 non-null  int64  \n",
      " 62  InternetService_numeric   10000 non-null  int64  \n",
      " 63  Phone_numeric             10000 non-null  int64  \n",
      " 64  Multiple_numeric          10000 non-null  int64  \n",
      " 65  OnlineSecurity_numeric    10000 non-null  int64  \n",
      " 66  OnlineBackup_numeric      10000 non-null  int64  \n",
      " 67  DeviceProtection_numeric  10000 non-null  int64  \n",
      " 68  TechSupport_numeric       10000 non-null  int64  \n",
      " 69  StreamingTV_numeric       10000 non-null  int64  \n",
      " 70  StreamingMovies_numeric   10000 non-null  int64  \n",
      " 71  PaperlessBilling_numeric  10000 non-null  int64  \n",
      "dtypes: float64(9), int64(35), object(28)\n",
      "memory usage: 5.5+ MB\n"
     ]
    }
   ],
   "source": [
    "df.info()"
   ]
  },
  {
   "cell_type": "code",
   "execution_count": 247,
   "id": "f75b3c68-fee0-4b62-8aa2-6f0c2139c353",
   "metadata": {
    "tags": []
   },
   "outputs": [],
   "source": [
    "#Re-expression of PaymentMethod"
   ]
  },
  {
   "cell_type": "code",
   "execution_count": 248,
   "id": "d1db08ac-171f-42a1-9373-7391fca6efb5",
   "metadata": {
    "tags": []
   },
   "outputs": [
    {
     "data": {
      "text/plain": [
       "array(['Credit Card (automatic)', 'Bank Transfer(automatic)',\n",
       "       'Mailed Check', 'Electronic Check'], dtype=object)"
      ]
     },
     "execution_count": 248,
     "metadata": {},
     "output_type": "execute_result"
    }
   ],
   "source": [
    "df.PaymentMethod.unique()"
   ]
  },
  {
   "cell_type": "code",
   "execution_count": 249,
   "id": "2976a4e6-e2df-473e-a6e2-7642da469a78",
   "metadata": {
    "tags": []
   },
   "outputs": [],
   "source": [
    "df[\"PaymentMethod_numeric\"]=df[\"PaymentMethod\"]"
   ]
  },
  {
   "cell_type": "code",
   "execution_count": 250,
   "id": "0025e679-f4d8-4bf1-b714-3f2c462b21a8",
   "metadata": {
    "tags": []
   },
   "outputs": [],
   "source": [
    "dict_paymet={\"PaymentMethod_numeric\":{\"Credit Card (automatic)\": 0, \"Bank Transfer(automatic)\": 1, \"Mailed Check\": 2, \"Electronic Check\": 3}}"
   ]
  },
  {
   "cell_type": "code",
   "execution_count": 251,
   "id": "dbac93dc-902a-4d99-b0cb-bdd745dbb09e",
   "metadata": {
    "tags": []
   },
   "outputs": [],
   "source": [
    "df.replace(dict_paymet, inplace=True)"
   ]
  },
  {
   "cell_type": "code",
   "execution_count": 252,
   "id": "63edc34f-9a2c-4ca1-ac91-ff449e3d5c63",
   "metadata": {
    "tags": []
   },
   "outputs": [
    {
     "name": "stdout",
     "output_type": "stream",
     "text": [
      "<class 'pandas.core.frame.DataFrame'>\n",
      "RangeIndex: 10000 entries, 0 to 9999\n",
      "Data columns (total 73 columns):\n",
      " #   Column                    Non-Null Count  Dtype  \n",
      "---  ------                    --------------  -----  \n",
      " 0   Unnamed: 0                10000 non-null  int64  \n",
      " 1   CaseOrder                 10000 non-null  int64  \n",
      " 2   Customer_id               10000 non-null  object \n",
      " 3   Interaction               10000 non-null  object \n",
      " 4   City                      10000 non-null  object \n",
      " 5   State                     10000 non-null  object \n",
      " 6   County                    10000 non-null  object \n",
      " 7   Zip                       10000 non-null  int64  \n",
      " 8   Lat                       10000 non-null  float64\n",
      " 9   Lng                       10000 non-null  float64\n",
      " 10  Population                10000 non-null  int64  \n",
      " 11  Area                      10000 non-null  object \n",
      " 12  Timezone                  10000 non-null  object \n",
      " 13  Job                       10000 non-null  object \n",
      " 14  Children                  10000 non-null  float64\n",
      " 15  Age                       10000 non-null  float64\n",
      " 16  Education                 10000 non-null  object \n",
      " 17  Employment                10000 non-null  object \n",
      " 18  Income                    10000 non-null  float64\n",
      " 19  Marital                   10000 non-null  object \n",
      " 20  Gender                    10000 non-null  object \n",
      " 21  Churn                     10000 non-null  object \n",
      " 22  Outage_sec_perweek        10000 non-null  float64\n",
      " 23  Email                     10000 non-null  int64  \n",
      " 24  Contacts                  10000 non-null  int64  \n",
      " 25  Yearly_equip_failure      10000 non-null  int64  \n",
      " 26  Techie                    10000 non-null  object \n",
      " 27  Contract                  10000 non-null  object \n",
      " 28  Port_modem                10000 non-null  object \n",
      " 29  Tablet                    10000 non-null  object \n",
      " 30  InternetService           10000 non-null  object \n",
      " 31  Phone                     10000 non-null  object \n",
      " 32  Multiple                  10000 non-null  object \n",
      " 33  OnlineSecurity            10000 non-null  object \n",
      " 34  OnlineBackup              10000 non-null  object \n",
      " 35  DeviceProtection          10000 non-null  object \n",
      " 36  TechSupport               10000 non-null  object \n",
      " 37  StreamingTV               10000 non-null  object \n",
      " 38  StreamingMovies           10000 non-null  object \n",
      " 39  PaperlessBilling          10000 non-null  object \n",
      " 40  PaymentMethod             10000 non-null  object \n",
      " 41  Tenure                    10000 non-null  float64\n",
      " 42  MonthlyCharge             10000 non-null  float64\n",
      " 43  Bandwidth_GB_Year         10000 non-null  float64\n",
      " 44  item1                     10000 non-null  int64  \n",
      " 45  item2                     10000 non-null  int64  \n",
      " 46  item3                     10000 non-null  int64  \n",
      " 47  item4                     10000 non-null  int64  \n",
      " 48  item5                     10000 non-null  int64  \n",
      " 49  item6                     10000 non-null  int64  \n",
      " 50  item7                     10000 non-null  int64  \n",
      " 51  item8                     10000 non-null  int64  \n",
      " 52  Area_numeric              10000 non-null  int64  \n",
      " 53  Employment_numeric        10000 non-null  int64  \n",
      " 54  Education_numeric         10000 non-null  int64  \n",
      " 55  Marital_numeric           10000 non-null  int64  \n",
      " 56  Gender_numeric            10000 non-null  int64  \n",
      " 57  Churn_numeric             10000 non-null  int64  \n",
      " 58  Techie_numeric            10000 non-null  int64  \n",
      " 59  Contract_numeric          10000 non-null  int64  \n",
      " 60  Port_modem_numeric        10000 non-null  int64  \n",
      " 61  Tablet_numeric            10000 non-null  int64  \n",
      " 62  InternetService_numeric   10000 non-null  int64  \n",
      " 63  Phone_numeric             10000 non-null  int64  \n",
      " 64  Multiple_numeric          10000 non-null  int64  \n",
      " 65  OnlineSecurity_numeric    10000 non-null  int64  \n",
      " 66  OnlineBackup_numeric      10000 non-null  int64  \n",
      " 67  DeviceProtection_numeric  10000 non-null  int64  \n",
      " 68  TechSupport_numeric       10000 non-null  int64  \n",
      " 69  StreamingTV_numeric       10000 non-null  int64  \n",
      " 70  StreamingMovies_numeric   10000 non-null  int64  \n",
      " 71  PaperlessBilling_numeric  10000 non-null  int64  \n",
      " 72  PaymentMethod_numeric     10000 non-null  int64  \n",
      "dtypes: float64(9), int64(36), object(28)\n",
      "memory usage: 5.6+ MB\n"
     ]
    }
   ],
   "source": [
    "df.info()"
   ]
  },
  {
   "cell_type": "code",
   "execution_count": 253,
   "id": "306330f9-7460-44bf-a716-9419a31a822a",
   "metadata": {
    "tags": []
   },
   "outputs": [],
   "source": [
    "df.to_csv(r\"C:\\Users\\amber\\Downloads\\Clean_churn.csv\")"
   ]
  },
  {
   "cell_type": "code",
   "execution_count": 254,
   "id": "363dbfb6-9028-4048-ae02-0a850403d253",
   "metadata": {
    "tags": []
   },
   "outputs": [],
   "source": [
    "#importing libraries for PCA"
   ]
  },
  {
   "cell_type": "code",
   "execution_count": 255,
   "id": "38da17e4-290d-451d-a5d5-8e91729cc506",
   "metadata": {},
   "outputs": [],
   "source": [
    "import matplotlib.pyplot as plt"
   ]
  },
  {
   "cell_type": "code",
   "execution_count": 256,
   "id": "7aeca9e4-17a8-4406-b518-87e538d1eae1",
   "metadata": {
    "tags": []
   },
   "outputs": [],
   "source": [
    "from sklearn.decomposition import PCA"
   ]
  },
  {
   "cell_type": "code",
   "execution_count": 257,
   "id": "1ff59b43-ecf9-475d-9829-81cbf907a315",
   "metadata": {
    "tags": []
   },
   "outputs": [],
   "source": [
    "import seaborn as sns"
   ]
  },
  {
   "cell_type": "code",
   "execution_count": 258,
   "id": "e4114825-b829-4b70-ad09-786266e91edc",
   "metadata": {
    "tags": []
   },
   "outputs": [],
   "source": [
    "#defining variables for PCA"
   ]
  },
  {
   "cell_type": "code",
   "execution_count": 259,
   "id": "26675855-070c-43ff-b81d-5d220d7aa9a1",
   "metadata": {
    "tags": []
   },
   "outputs": [],
   "source": [
    "new_df=df[[\"Lat\",\"Lng\",\"Population\",\"Age\",\"Income\",\"Outage_sec_perweek\",\"Email\",\"Contacts\",\"Yearly_equip_failure\",\"Tenure\",\"MonthlyCharge\",\"Bandwidth_GB_Year\"]]"
   ]
  },
  {
   "cell_type": "code",
   "execution_count": 260,
   "id": "eb6c4652-62c7-4274-a763-fb3575094e69",
   "metadata": {
    "tags": []
   },
   "outputs": [],
   "source": [
    "#normalize data and apply PCA"
   ]
  },
  {
   "cell_type": "code",
   "execution_count": 261,
   "id": "c2774d68-789f-406c-a896-80101966f279",
   "metadata": {
    "tags": []
   },
   "outputs": [],
   "source": [
    "new_df_normalized=(new_df-new_df.mean())/new_df.std()"
   ]
  },
  {
   "cell_type": "code",
   "execution_count": 262,
   "id": "8c364917-be4c-4533-8eaf-9e98898d0ac7",
   "metadata": {
    "tags": []
   },
   "outputs": [],
   "source": [
    "pca=PCA(n_components=new_df.shape[1])"
   ]
  },
  {
   "cell_type": "code",
   "execution_count": 263,
   "id": "0efb7061-4972-4428-9dc6-ecfd5c53d897",
   "metadata": {
    "tags": []
   },
   "outputs": [
    {
     "data": {
      "text/html": [
       "<style>#sk-container-id-1 {color: black;}#sk-container-id-1 pre{padding: 0;}#sk-container-id-1 div.sk-toggleable {background-color: white;}#sk-container-id-1 label.sk-toggleable__label {cursor: pointer;display: block;width: 100%;margin-bottom: 0;padding: 0.3em;box-sizing: border-box;text-align: center;}#sk-container-id-1 label.sk-toggleable__label-arrow:before {content: \"▸\";float: left;margin-right: 0.25em;color: #696969;}#sk-container-id-1 label.sk-toggleable__label-arrow:hover:before {color: black;}#sk-container-id-1 div.sk-estimator:hover label.sk-toggleable__label-arrow:before {color: black;}#sk-container-id-1 div.sk-toggleable__content {max-height: 0;max-width: 0;overflow: hidden;text-align: left;background-color: #f0f8ff;}#sk-container-id-1 div.sk-toggleable__content pre {margin: 0.2em;color: black;border-radius: 0.25em;background-color: #f0f8ff;}#sk-container-id-1 input.sk-toggleable__control:checked~div.sk-toggleable__content {max-height: 200px;max-width: 100%;overflow: auto;}#sk-container-id-1 input.sk-toggleable__control:checked~label.sk-toggleable__label-arrow:before {content: \"▾\";}#sk-container-id-1 div.sk-estimator input.sk-toggleable__control:checked~label.sk-toggleable__label {background-color: #d4ebff;}#sk-container-id-1 div.sk-label input.sk-toggleable__control:checked~label.sk-toggleable__label {background-color: #d4ebff;}#sk-container-id-1 input.sk-hidden--visually {border: 0;clip: rect(1px 1px 1px 1px);clip: rect(1px, 1px, 1px, 1px);height: 1px;margin: -1px;overflow: hidden;padding: 0;position: absolute;width: 1px;}#sk-container-id-1 div.sk-estimator {font-family: monospace;background-color: #f0f8ff;border: 1px dotted black;border-radius: 0.25em;box-sizing: border-box;margin-bottom: 0.5em;}#sk-container-id-1 div.sk-estimator:hover {background-color: #d4ebff;}#sk-container-id-1 div.sk-parallel-item::after {content: \"\";width: 100%;border-bottom: 1px solid gray;flex-grow: 1;}#sk-container-id-1 div.sk-label:hover label.sk-toggleable__label {background-color: #d4ebff;}#sk-container-id-1 div.sk-serial::before {content: \"\";position: absolute;border-left: 1px solid gray;box-sizing: border-box;top: 0;bottom: 0;left: 50%;z-index: 0;}#sk-container-id-1 div.sk-serial {display: flex;flex-direction: column;align-items: center;background-color: white;padding-right: 0.2em;padding-left: 0.2em;position: relative;}#sk-container-id-1 div.sk-item {position: relative;z-index: 1;}#sk-container-id-1 div.sk-parallel {display: flex;align-items: stretch;justify-content: center;background-color: white;position: relative;}#sk-container-id-1 div.sk-item::before, #sk-container-id-1 div.sk-parallel-item::before {content: \"\";position: absolute;border-left: 1px solid gray;box-sizing: border-box;top: 0;bottom: 0;left: 50%;z-index: -1;}#sk-container-id-1 div.sk-parallel-item {display: flex;flex-direction: column;z-index: 1;position: relative;background-color: white;}#sk-container-id-1 div.sk-parallel-item:first-child::after {align-self: flex-end;width: 50%;}#sk-container-id-1 div.sk-parallel-item:last-child::after {align-self: flex-start;width: 50%;}#sk-container-id-1 div.sk-parallel-item:only-child::after {width: 0;}#sk-container-id-1 div.sk-dashed-wrapped {border: 1px dashed gray;margin: 0 0.4em 0.5em 0.4em;box-sizing: border-box;padding-bottom: 0.4em;background-color: white;}#sk-container-id-1 div.sk-label label {font-family: monospace;font-weight: bold;display: inline-block;line-height: 1.2em;}#sk-container-id-1 div.sk-label-container {text-align: center;}#sk-container-id-1 div.sk-container {/* jupyter's `normalize.less` sets `[hidden] { display: none; }` but bootstrap.min.css set `[hidden] { display: none !important; }` so we also need the `!important` here to be able to override the default hidden behavior on the sphinx rendered scikit-learn.org. See: https://github.com/scikit-learn/scikit-learn/issues/21755 */display: inline-block !important;position: relative;}#sk-container-id-1 div.sk-text-repr-fallback {display: none;}</style><div id=\"sk-container-id-1\" class=\"sk-top-container\"><div class=\"sk-text-repr-fallback\"><pre>PCA(n_components=12)</pre><b>In a Jupyter environment, please rerun this cell to show the HTML representation or trust the notebook. <br />On GitHub, the HTML representation is unable to render, please try loading this page with nbviewer.org.</b></div><div class=\"sk-container\" hidden><div class=\"sk-item\"><div class=\"sk-estimator sk-toggleable\"><input class=\"sk-toggleable__control sk-hidden--visually\" id=\"sk-estimator-id-1\" type=\"checkbox\" checked><label for=\"sk-estimator-id-1\" class=\"sk-toggleable__label sk-toggleable__label-arrow\">PCA</label><div class=\"sk-toggleable__content\"><pre>PCA(n_components=12)</pre></div></div></div></div></div>"
      ],
      "text/plain": [
       "PCA(n_components=12)"
      ]
     },
     "execution_count": 263,
     "metadata": {},
     "output_type": "execute_result"
    }
   ],
   "source": [
    "pca.fit(new_df_normalized)"
   ]
  },
  {
   "cell_type": "code",
   "execution_count": 264,
   "id": "2e74c7c5-6965-4a4f-843f-29958b335b56",
   "metadata": {
    "tags": []
   },
   "outputs": [],
   "source": [
    "new_df_pca=pd.DataFrame(pca.transform(new_df_normalized),\n",
    "columns=['PC1', 'PC2', 'PC3', 'PC4', 'PC5', 'PC6', 'PC7', 'PC8', 'PC9', 'PC10', 'PC11', 'PC12'])"
   ]
  },
  {
   "cell_type": "code",
   "execution_count": 265,
   "id": "35f3c9ec-4377-4a3c-abb8-b90b310cf5b3",
   "metadata": {
    "tags": []
   },
   "outputs": [],
   "source": [
    "loadings=pd.DataFrame(pca.components_.T,\n",
    "columns=['PC1', 'PC2', 'PC3', 'PC4', 'PC5', 'PC6', 'PC7', 'PC8', 'PC9', 'PC10', 'PC11', 'PC12'],\n",
    "index=new_df.columns)"
   ]
  },
  {
   "cell_type": "code",
   "execution_count": 266,
   "id": "e066780b-fbe1-4ca5-8384-a8326c6f0ad4",
   "metadata": {
    "tags": []
   },
   "outputs": [],
   "source": [
    "#evaluate loadings"
   ]
  },
  {
   "cell_type": "code",
   "execution_count": 267,
   "id": "6273b09c-4fdc-4980-b6bb-ba078014488d",
   "metadata": {
    "tags": []
   },
   "outputs": [
    {
     "data": {
      "text/html": [
       "<div>\n",
       "<style scoped>\n",
       "    .dataframe tbody tr th:only-of-type {\n",
       "        vertical-align: middle;\n",
       "    }\n",
       "\n",
       "    .dataframe tbody tr th {\n",
       "        vertical-align: top;\n",
       "    }\n",
       "\n",
       "    .dataframe thead th {\n",
       "        text-align: right;\n",
       "    }\n",
       "</style>\n",
       "<table border=\"1\" class=\"dataframe\">\n",
       "  <thead>\n",
       "    <tr style=\"text-align: right;\">\n",
       "      <th></th>\n",
       "      <th>PC1</th>\n",
       "      <th>PC2</th>\n",
       "      <th>PC3</th>\n",
       "      <th>PC4</th>\n",
       "      <th>PC5</th>\n",
       "      <th>PC6</th>\n",
       "      <th>PC7</th>\n",
       "      <th>PC8</th>\n",
       "      <th>PC9</th>\n",
       "      <th>PC10</th>\n",
       "      <th>PC11</th>\n",
       "      <th>PC12</th>\n",
       "    </tr>\n",
       "  </thead>\n",
       "  <tbody>\n",
       "    <tr>\n",
       "      <th>Lat</th>\n",
       "      <td>-0.023474</td>\n",
       "      <td>-0.714762</td>\n",
       "      <td>-0.044603</td>\n",
       "      <td>0.086328</td>\n",
       "      <td>0.034452</td>\n",
       "      <td>-0.130279</td>\n",
       "      <td>-0.024722</td>\n",
       "      <td>-0.015812</td>\n",
       "      <td>0.034527</td>\n",
       "      <td>-0.033233</td>\n",
       "      <td>0.676612</td>\n",
       "      <td>0.000887</td>\n",
       "    </tr>\n",
       "    <tr>\n",
       "      <th>Lng</th>\n",
       "      <td>0.007815</td>\n",
       "      <td>0.179659</td>\n",
       "      <td>0.048035</td>\n",
       "      <td>-0.816181</td>\n",
       "      <td>-0.249510</td>\n",
       "      <td>0.301574</td>\n",
       "      <td>0.052396</td>\n",
       "      <td>0.005887</td>\n",
       "      <td>-0.006504</td>\n",
       "      <td>0.060652</td>\n",
       "      <td>0.373495</td>\n",
       "      <td>0.000381</td>\n",
       "    </tr>\n",
       "    <tr>\n",
       "      <th>Population</th>\n",
       "      <td>0.005260</td>\n",
       "      <td>0.649620</td>\n",
       "      <td>0.048733</td>\n",
       "      <td>0.387006</td>\n",
       "      <td>0.114360</td>\n",
       "      <td>-0.051747</td>\n",
       "      <td>0.068087</td>\n",
       "      <td>0.047589</td>\n",
       "      <td>-0.062098</td>\n",
       "      <td>0.011340</td>\n",
       "      <td>0.631804</td>\n",
       "      <td>-0.000183</td>\n",
       "    </tr>\n",
       "    <tr>\n",
       "      <th>Age</th>\n",
       "      <td>-0.012155</td>\n",
       "      <td>0.017116</td>\n",
       "      <td>-0.040437</td>\n",
       "      <td>-0.217610</td>\n",
       "      <td>0.711935</td>\n",
       "      <td>-0.018279</td>\n",
       "      <td>-0.169444</td>\n",
       "      <td>-0.521792</td>\n",
       "      <td>-0.334606</td>\n",
       "      <td>0.172798</td>\n",
       "      <td>0.010136</td>\n",
       "      <td>0.021990</td>\n",
       "    </tr>\n",
       "    <tr>\n",
       "      <th>Income</th>\n",
       "      <td>0.005946</td>\n",
       "      <td>-0.055848</td>\n",
       "      <td>-0.016305</td>\n",
       "      <td>0.075417</td>\n",
       "      <td>0.115377</td>\n",
       "      <td>0.249631</td>\n",
       "      <td>0.839400</td>\n",
       "      <td>-0.359520</td>\n",
       "      <td>0.269045</td>\n",
       "      <td>-0.092142</td>\n",
       "      <td>-0.023285</td>\n",
       "      <td>0.000959</td>\n",
       "    </tr>\n",
       "    <tr>\n",
       "      <th>Outage_sec_perweek</th>\n",
       "      <td>0.018009</td>\n",
       "      <td>-0.079776</td>\n",
       "      <td>0.702968</td>\n",
       "      <td>0.082769</td>\n",
       "      <td>-0.016797</td>\n",
       "      <td>0.028256</td>\n",
       "      <td>0.016916</td>\n",
       "      <td>-0.000263</td>\n",
       "      <td>0.162316</td>\n",
       "      <td>0.681417</td>\n",
       "      <td>-0.015772</td>\n",
       "      <td>-0.002274</td>\n",
       "    </tr>\n",
       "    <tr>\n",
       "      <th>Email</th>\n",
       "      <td>-0.020679</td>\n",
       "      <td>0.150343</td>\n",
       "      <td>0.063667</td>\n",
       "      <td>-0.145965</td>\n",
       "      <td>-0.152630</td>\n",
       "      <td>-0.569772</td>\n",
       "      <td>-0.185651</td>\n",
       "      <td>-0.476265</td>\n",
       "      <td>0.567527</td>\n",
       "      <td>-0.140099</td>\n",
       "      <td>0.025226</td>\n",
       "      <td>0.005284</td>\n",
       "    </tr>\n",
       "    <tr>\n",
       "      <th>Contacts</th>\n",
       "      <td>0.004538</td>\n",
       "      <td>0.027599</td>\n",
       "      <td>-0.010905</td>\n",
       "      <td>-0.258480</td>\n",
       "      <td>0.580859</td>\n",
       "      <td>-0.237249</td>\n",
       "      <td>0.144349</td>\n",
       "      <td>0.602362</td>\n",
       "      <td>0.392337</td>\n",
       "      <td>-0.027267</td>\n",
       "      <td>-0.015691</td>\n",
       "      <td>-0.002759</td>\n",
       "    </tr>\n",
       "    <tr>\n",
       "      <th>Yearly_equip_failure</th>\n",
       "      <td>0.015844</td>\n",
       "      <td>-0.010379</td>\n",
       "      <td>0.041181</td>\n",
       "      <td>0.158243</td>\n",
       "      <td>0.187437</td>\n",
       "      <td>0.665239</td>\n",
       "      <td>-0.449743</td>\n",
       "      <td>-0.074543</td>\n",
       "      <td>0.498697</td>\n",
       "      <td>-0.193099</td>\n",
       "      <td>0.037553</td>\n",
       "      <td>-0.002807</td>\n",
       "    </tr>\n",
       "    <tr>\n",
       "      <th>Tenure</th>\n",
       "      <td>0.705568</td>\n",
       "      <td>-0.009500</td>\n",
       "      <td>-0.045402</td>\n",
       "      <td>-0.002977</td>\n",
       "      <td>0.006154</td>\n",
       "      <td>-0.021406</td>\n",
       "      <td>-0.007845</td>\n",
       "      <td>-0.023337</td>\n",
       "      <td>0.003116</td>\n",
       "      <td>0.025766</td>\n",
       "      <td>0.008595</td>\n",
       "      <td>-0.705807</td>\n",
       "    </tr>\n",
       "    <tr>\n",
       "      <th>MonthlyCharge</th>\n",
       "      <td>0.028506</td>\n",
       "      <td>-0.036619</td>\n",
       "      <td>0.699518</td>\n",
       "      <td>-0.059656</td>\n",
       "      <td>0.084371</td>\n",
       "      <td>-0.041505</td>\n",
       "      <td>0.027961</td>\n",
       "      <td>0.012603</td>\n",
       "      <td>-0.243911</td>\n",
       "      <td>-0.658700</td>\n",
       "      <td>-0.014796</td>\n",
       "      <td>-0.039792</td>\n",
       "    </tr>\n",
       "    <tr>\n",
       "      <th>Bandwidth_GB_Year</th>\n",
       "      <td>0.706764</td>\n",
       "      <td>-0.012349</td>\n",
       "      <td>-0.002726</td>\n",
       "      <td>0.001745</td>\n",
       "      <td>-0.007190</td>\n",
       "      <td>-0.017427</td>\n",
       "      <td>-0.001886</td>\n",
       "      <td>-0.000229</td>\n",
       "      <td>-0.000839</td>\n",
       "      <td>-0.014225</td>\n",
       "      <td>0.006427</td>\n",
       "      <td>0.706908</td>\n",
       "    </tr>\n",
       "  </tbody>\n",
       "</table>\n",
       "</div>"
      ],
      "text/plain": [
       "                           PC1       PC2       PC3       PC4       PC5  \\\n",
       "Lat                  -0.023474 -0.714762 -0.044603  0.086328  0.034452   \n",
       "Lng                   0.007815  0.179659  0.048035 -0.816181 -0.249510   \n",
       "Population            0.005260  0.649620  0.048733  0.387006  0.114360   \n",
       "Age                  -0.012155  0.017116 -0.040437 -0.217610  0.711935   \n",
       "Income                0.005946 -0.055848 -0.016305  0.075417  0.115377   \n",
       "Outage_sec_perweek    0.018009 -0.079776  0.702968  0.082769 -0.016797   \n",
       "Email                -0.020679  0.150343  0.063667 -0.145965 -0.152630   \n",
       "Contacts              0.004538  0.027599 -0.010905 -0.258480  0.580859   \n",
       "Yearly_equip_failure  0.015844 -0.010379  0.041181  0.158243  0.187437   \n",
       "Tenure                0.705568 -0.009500 -0.045402 -0.002977  0.006154   \n",
       "MonthlyCharge         0.028506 -0.036619  0.699518 -0.059656  0.084371   \n",
       "Bandwidth_GB_Year     0.706764 -0.012349 -0.002726  0.001745 -0.007190   \n",
       "\n",
       "                           PC6       PC7       PC8       PC9      PC10  \\\n",
       "Lat                  -0.130279 -0.024722 -0.015812  0.034527 -0.033233   \n",
       "Lng                   0.301574  0.052396  0.005887 -0.006504  0.060652   \n",
       "Population           -0.051747  0.068087  0.047589 -0.062098  0.011340   \n",
       "Age                  -0.018279 -0.169444 -0.521792 -0.334606  0.172798   \n",
       "Income                0.249631  0.839400 -0.359520  0.269045 -0.092142   \n",
       "Outage_sec_perweek    0.028256  0.016916 -0.000263  0.162316  0.681417   \n",
       "Email                -0.569772 -0.185651 -0.476265  0.567527 -0.140099   \n",
       "Contacts             -0.237249  0.144349  0.602362  0.392337 -0.027267   \n",
       "Yearly_equip_failure  0.665239 -0.449743 -0.074543  0.498697 -0.193099   \n",
       "Tenure               -0.021406 -0.007845 -0.023337  0.003116  0.025766   \n",
       "MonthlyCharge        -0.041505  0.027961  0.012603 -0.243911 -0.658700   \n",
       "Bandwidth_GB_Year    -0.017427 -0.001886 -0.000229 -0.000839 -0.014225   \n",
       "\n",
       "                          PC11      PC12  \n",
       "Lat                   0.676612  0.000887  \n",
       "Lng                   0.373495  0.000381  \n",
       "Population            0.631804 -0.000183  \n",
       "Age                   0.010136  0.021990  \n",
       "Income               -0.023285  0.000959  \n",
       "Outage_sec_perweek   -0.015772 -0.002274  \n",
       "Email                 0.025226  0.005284  \n",
       "Contacts             -0.015691 -0.002759  \n",
       "Yearly_equip_failure  0.037553 -0.002807  \n",
       "Tenure                0.008595 -0.705807  \n",
       "MonthlyCharge        -0.014796 -0.039792  \n",
       "Bandwidth_GB_Year     0.006427  0.706908  "
      ]
     },
     "execution_count": 267,
     "metadata": {},
     "output_type": "execute_result"
    }
   ],
   "source": [
    "loadings"
   ]
  },
  {
   "cell_type": "code",
   "execution_count": 268,
   "id": "64a38a53-d9b4-47fd-8693-bfbd915d99b1",
   "metadata": {
    "tags": []
   },
   "outputs": [],
   "source": [
    "#create scree plot following the kaiser rule"
   ]
  },
  {
   "cell_type": "code",
   "execution_count": 269,
   "id": "b869e6d5-496a-4147-a584-c122d8c90d7a",
   "metadata": {},
   "outputs": [],
   "source": [
    "cov_matrix=np.dot(new_df_normalized.T, new_df_normalized)/new_df.shape[0]"
   ]
  },
  {
   "cell_type": "code",
   "execution_count": 270,
   "id": "5a912081-436a-4d1b-8f00-97ca6c5b0f1c",
   "metadata": {
    "tags": []
   },
   "outputs": [],
   "source": [
    "eigenvalues=[np.dot(eigenvector.T, np.dot(cov_matrix, eigenvector)) for eigenvector in pca.components_]"
   ]
  },
  {
   "cell_type": "code",
   "execution_count": 271,
   "id": "7a8e77c5-5150-4cea-9fb5-1bf0a9a599ab",
   "metadata": {
    "tags": []
   },
   "outputs": [
    {
     "data": {
      "image/png": "[encoded data removed]",
      "text/plain": [
       "<Figure size 640x480 with 1 Axes>"
      ]
     },
     "metadata": {},
     "output_type": "display_data"
    }
   ],
   "source": [
    "plt.plot(eigenvalues)\n",
    "plt.xlabel('number of components')\n",
    "plt.ylabel('eigenvalue')\n",
    "plt.axhline(y=1, color=\"red\")\n",
    "plt.show()"
   ]
  },
  {
   "cell_type": "code",
   "execution_count": null,
   "id": "74305a31-bf89-4885-a6f3-3cd6b9e3bf72",
   "metadata": {},
   "outputs": [],
   "source": []
  }
 ],
 "metadata": {
  "kernelspec": {
   "display_name": "Python 3 (ipykernel)",
   "language": "python",
   "name": "python3"
  },
  "language_info": {
   "codemirror_mode": {
    "name": "ipython",
    "version": 3
   },
   "file_extension": ".py",
   "mimetype": "text/x-python",
   "name": "python",
   "nbconvert_exporter": "python",
   "pygments_lexer": "ipython3",
   "version": "3.11.5"
  }
 },
 "nbformat": 4,
 "nbformat_minor": 5
}
